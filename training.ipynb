{
 "cells": [
  {
   "cell_type": "code",
   "execution_count": 1,
   "metadata": {},
   "outputs": [],
   "source": [
    "import pandas as pd\n",
    "import numpy as np\n",
    "from sklearn.preprocessing import StandardScaler, OneHotEncoder\n",
    "from sklearn.compose import ColumnTransformer\n",
    "from sklearn.model_selection import train_test_split\n",
    "import tensorflow as tf\n",
    "from tensorflow.keras.layers import Input, Dense, Embedding, Concatenate\n",
    "from tensorflow.keras.models import Model\n",
    "import tensorflow.data\n",
    "from tensorflow.keras.regularizers import L2\n",
    "from joblib import load\n",
    "import pydot"
   ]
  },
  {
   "cell_type": "code",
   "execution_count": 2,
   "metadata": {},
   "outputs": [],
   "source": [
    "df=pd.read_pickle(\"merged_final.pkl\")"
   ]
  },
  {
   "cell_type": "code",
   "execution_count": 3,
   "metadata": {},
   "outputs": [
    {
     "data": {
      "text/html": [
       "<div>\n",
       "<style scoped>\n",
       "    .dataframe tbody tr th:only-of-type {\n",
       "        vertical-align: middle;\n",
       "    }\n",
       "\n",
       "    .dataframe tbody tr th {\n",
       "        vertical-align: top;\n",
       "    }\n",
       "\n",
       "    .dataframe thead th {\n",
       "        text-align: right;\n",
       "    }\n",
       "</style>\n",
       "<table border=\"1\" class=\"dataframe\">\n",
       "  <thead>\n",
       "    <tr style=\"text-align: right;\">\n",
       "      <th></th>\n",
       "      <th>user_id</th>\n",
       "      <th>anime_id</th>\n",
       "      <th>rating</th>\n",
       "      <th>Mean Score</th>\n",
       "      <th>age</th>\n",
       "      <th>Female</th>\n",
       "      <th>Male</th>\n",
       "      <th>Non-Binary</th>\n",
       "      <th>Unknown_Gender</th>\n",
       "      <th>Score</th>\n",
       "      <th>...</th>\n",
       "      <th>Vampire</th>\n",
       "      <th>Yaoi</th>\n",
       "      <th>Yuri</th>\n",
       "      <th>studio_col_1</th>\n",
       "      <th>studio_col_2</th>\n",
       "      <th>studio_col_3</th>\n",
       "      <th>studio_col_4</th>\n",
       "      <th>studio_col_5</th>\n",
       "      <th>studio_col_6</th>\n",
       "      <th>studio_col_7</th>\n",
       "    </tr>\n",
       "  </thead>\n",
       "  <tbody>\n",
       "    <tr>\n",
       "      <th>0</th>\n",
       "      <td>1</td>\n",
       "      <td>37403</td>\n",
       "      <td>8</td>\n",
       "      <td>-0.696093</td>\n",
       "      <td>39.000000</td>\n",
       "      <td>0</td>\n",
       "      <td>1</td>\n",
       "      <td>0</td>\n",
       "      <td>0</td>\n",
       "      <td>7.35</td>\n",
       "      <td>...</td>\n",
       "      <td>0</td>\n",
       "      <td>0</td>\n",
       "      <td>0</td>\n",
       "      <td>110</td>\n",
       "      <td>0</td>\n",
       "      <td>0</td>\n",
       "      <td>0</td>\n",
       "      <td>0</td>\n",
       "      <td>0</td>\n",
       "      <td>0</td>\n",
       "    </tr>\n",
       "    <tr>\n",
       "      <th>1</th>\n",
       "      <td>44</td>\n",
       "      <td>37403</td>\n",
       "      <td>0</td>\n",
       "      <td>-0.477731</td>\n",
       "      <td>33.691944</td>\n",
       "      <td>0</td>\n",
       "      <td>1</td>\n",
       "      <td>0</td>\n",
       "      <td>0</td>\n",
       "      <td>7.35</td>\n",
       "      <td>...</td>\n",
       "      <td>0</td>\n",
       "      <td>0</td>\n",
       "      <td>0</td>\n",
       "      <td>110</td>\n",
       "      <td>0</td>\n",
       "      <td>0</td>\n",
       "      <td>0</td>\n",
       "      <td>0</td>\n",
       "      <td>0</td>\n",
       "      <td>0</td>\n",
       "    </tr>\n",
       "    <tr>\n",
       "      <th>2</th>\n",
       "      <td>82</td>\n",
       "      <td>37403</td>\n",
       "      <td>0</td>\n",
       "      <td>-0.887547</td>\n",
       "      <td>35.000000</td>\n",
       "      <td>0</td>\n",
       "      <td>1</td>\n",
       "      <td>0</td>\n",
       "      <td>0</td>\n",
       "      <td>7.35</td>\n",
       "      <td>...</td>\n",
       "      <td>0</td>\n",
       "      <td>0</td>\n",
       "      <td>0</td>\n",
       "      <td>110</td>\n",
       "      <td>0</td>\n",
       "      <td>0</td>\n",
       "      <td>0</td>\n",
       "      <td>0</td>\n",
       "      <td>0</td>\n",
       "      <td>0</td>\n",
       "    </tr>\n",
       "    <tr>\n",
       "      <th>3</th>\n",
       "      <td>111</td>\n",
       "      <td>37403</td>\n",
       "      <td>8</td>\n",
       "      <td>-0.887547</td>\n",
       "      <td>33.691944</td>\n",
       "      <td>0</td>\n",
       "      <td>0</td>\n",
       "      <td>0</td>\n",
       "      <td>1</td>\n",
       "      <td>7.35</td>\n",
       "      <td>...</td>\n",
       "      <td>0</td>\n",
       "      <td>0</td>\n",
       "      <td>0</td>\n",
       "      <td>110</td>\n",
       "      <td>0</td>\n",
       "      <td>0</td>\n",
       "      <td>0</td>\n",
       "      <td>0</td>\n",
       "      <td>0</td>\n",
       "      <td>0</td>\n",
       "    </tr>\n",
       "    <tr>\n",
       "      <th>4</th>\n",
       "      <td>222</td>\n",
       "      <td>37403</td>\n",
       "      <td>9</td>\n",
       "      <td>0.304332</td>\n",
       "      <td>37.000000</td>\n",
       "      <td>0</td>\n",
       "      <td>1</td>\n",
       "      <td>0</td>\n",
       "      <td>0</td>\n",
       "      <td>7.35</td>\n",
       "      <td>...</td>\n",
       "      <td>0</td>\n",
       "      <td>0</td>\n",
       "      <td>0</td>\n",
       "      <td>110</td>\n",
       "      <td>0</td>\n",
       "      <td>0</td>\n",
       "      <td>0</td>\n",
       "      <td>0</td>\n",
       "      <td>0</td>\n",
       "      <td>0</td>\n",
       "    </tr>\n",
       "    <tr>\n",
       "      <th>...</th>\n",
       "      <td>...</td>\n",
       "      <td>...</td>\n",
       "      <td>...</td>\n",
       "      <td>...</td>\n",
       "      <td>...</td>\n",
       "      <td>...</td>\n",
       "      <td>...</td>\n",
       "      <td>...</td>\n",
       "      <td>...</td>\n",
       "      <td>...</td>\n",
       "      <td>...</td>\n",
       "      <td>...</td>\n",
       "      <td>...</td>\n",
       "      <td>...</td>\n",
       "      <td>...</td>\n",
       "      <td>...</td>\n",
       "      <td>...</td>\n",
       "      <td>...</td>\n",
       "      <td>...</td>\n",
       "      <td>...</td>\n",
       "      <td>...</td>\n",
       "    </tr>\n",
       "    <tr>\n",
       "      <th>59968475</th>\n",
       "      <td>100869</td>\n",
       "      <td>48492</td>\n",
       "      <td>0</td>\n",
       "      <td>-0.383379</td>\n",
       "      <td>34.000000</td>\n",
       "      <td>1</td>\n",
       "      <td>0</td>\n",
       "      <td>0</td>\n",
       "      <td>0</td>\n",
       "      <td>6.51</td>\n",
       "      <td>...</td>\n",
       "      <td>0</td>\n",
       "      <td>0</td>\n",
       "      <td>0</td>\n",
       "      <td>0</td>\n",
       "      <td>0</td>\n",
       "      <td>0</td>\n",
       "      <td>0</td>\n",
       "      <td>0</td>\n",
       "      <td>0</td>\n",
       "      <td>0</td>\n",
       "    </tr>\n",
       "    <tr>\n",
       "      <th>59968476</th>\n",
       "      <td>239658</td>\n",
       "      <td>48492</td>\n",
       "      <td>0</td>\n",
       "      <td>-0.102392</td>\n",
       "      <td>33.000000</td>\n",
       "      <td>1</td>\n",
       "      <td>0</td>\n",
       "      <td>0</td>\n",
       "      <td>0</td>\n",
       "      <td>6.51</td>\n",
       "      <td>...</td>\n",
       "      <td>0</td>\n",
       "      <td>0</td>\n",
       "      <td>0</td>\n",
       "      <td>0</td>\n",
       "      <td>0</td>\n",
       "      <td>0</td>\n",
       "      <td>0</td>\n",
       "      <td>0</td>\n",
       "      <td>0</td>\n",
       "      <td>0</td>\n",
       "    </tr>\n",
       "    <tr>\n",
       "      <th>59968477</th>\n",
       "      <td>310503</td>\n",
       "      <td>48492</td>\n",
       "      <td>0</td>\n",
       "      <td>1.699864</td>\n",
       "      <td>33.691944</td>\n",
       "      <td>0</td>\n",
       "      <td>0</td>\n",
       "      <td>0</td>\n",
       "      <td>1</td>\n",
       "      <td>6.51</td>\n",
       "      <td>...</td>\n",
       "      <td>0</td>\n",
       "      <td>0</td>\n",
       "      <td>0</td>\n",
       "      <td>0</td>\n",
       "      <td>0</td>\n",
       "      <td>0</td>\n",
       "      <td>0</td>\n",
       "      <td>0</td>\n",
       "      <td>0</td>\n",
       "      <td>0</td>\n",
       "    </tr>\n",
       "    <tr>\n",
       "      <th>59968478</th>\n",
       "      <td>123205</td>\n",
       "      <td>48481</td>\n",
       "      <td>0</td>\n",
       "      <td>0.267613</td>\n",
       "      <td>33.000000</td>\n",
       "      <td>1</td>\n",
       "      <td>0</td>\n",
       "      <td>0</td>\n",
       "      <td>0</td>\n",
       "      <td>6.51</td>\n",
       "      <td>...</td>\n",
       "      <td>0</td>\n",
       "      <td>0</td>\n",
       "      <td>0</td>\n",
       "      <td>46</td>\n",
       "      <td>0</td>\n",
       "      <td>0</td>\n",
       "      <td>0</td>\n",
       "      <td>0</td>\n",
       "      <td>0</td>\n",
       "      <td>0</td>\n",
       "    </tr>\n",
       "    <tr>\n",
       "      <th>59968479</th>\n",
       "      <td>350024</td>\n",
       "      <td>48481</td>\n",
       "      <td>0</td>\n",
       "      <td>-0.392798</td>\n",
       "      <td>33.691944</td>\n",
       "      <td>0</td>\n",
       "      <td>0</td>\n",
       "      <td>0</td>\n",
       "      <td>1</td>\n",
       "      <td>6.51</td>\n",
       "      <td>...</td>\n",
       "      <td>0</td>\n",
       "      <td>0</td>\n",
       "      <td>0</td>\n",
       "      <td>46</td>\n",
       "      <td>0</td>\n",
       "      <td>0</td>\n",
       "      <td>0</td>\n",
       "      <td>0</td>\n",
       "      <td>0</td>\n",
       "      <td>0</td>\n",
       "    </tr>\n",
       "  </tbody>\n",
       "</table>\n",
       "<p>59968480 rows × 84 columns</p>\n",
       "</div>"
      ],
      "text/plain": [
       "          user_id  anime_id  rating  Mean Score        age  Female  Male  \\\n",
       "0               1     37403       8   -0.696093  39.000000       0     1   \n",
       "1              44     37403       0   -0.477731  33.691944       0     1   \n",
       "2              82     37403       0   -0.887547  35.000000       0     1   \n",
       "3             111     37403       8   -0.887547  33.691944       0     0   \n",
       "4             222     37403       9    0.304332  37.000000       0     1   \n",
       "...           ...       ...     ...         ...        ...     ...   ...   \n",
       "59968475   100869     48492       0   -0.383379  34.000000       1     0   \n",
       "59968476   239658     48492       0   -0.102392  33.000000       1     0   \n",
       "59968477   310503     48492       0    1.699864  33.691944       0     0   \n",
       "59968478   123205     48481       0    0.267613  33.000000       1     0   \n",
       "59968479   350024     48481       0   -0.392798  33.691944       0     0   \n",
       "\n",
       "          Non-Binary  Unknown_Gender  Score  ...  Vampire  Yaoi  Yuri  \\\n",
       "0                  0               0   7.35  ...        0     0     0   \n",
       "1                  0               0   7.35  ...        0     0     0   \n",
       "2                  0               0   7.35  ...        0     0     0   \n",
       "3                  0               1   7.35  ...        0     0     0   \n",
       "4                  0               0   7.35  ...        0     0     0   \n",
       "...              ...             ...    ...  ...      ...   ...   ...   \n",
       "59968475           0               0   6.51  ...        0     0     0   \n",
       "59968476           0               0   6.51  ...        0     0     0   \n",
       "59968477           0               1   6.51  ...        0     0     0   \n",
       "59968478           0               0   6.51  ...        0     0     0   \n",
       "59968479           0               1   6.51  ...        0     0     0   \n",
       "\n",
       "          studio_col_1  studio_col_2  studio_col_3  studio_col_4  \\\n",
       "0                  110             0             0             0   \n",
       "1                  110             0             0             0   \n",
       "2                  110             0             0             0   \n",
       "3                  110             0             0             0   \n",
       "4                  110             0             0             0   \n",
       "...                ...           ...           ...           ...   \n",
       "59968475             0             0             0             0   \n",
       "59968476             0             0             0             0   \n",
       "59968477             0             0             0             0   \n",
       "59968478            46             0             0             0   \n",
       "59968479            46             0             0             0   \n",
       "\n",
       "          studio_col_5  studio_col_6  studio_col_7  \n",
       "0                    0             0             0  \n",
       "1                    0             0             0  \n",
       "2                    0             0             0  \n",
       "3                    0             0             0  \n",
       "4                    0             0             0  \n",
       "...                ...           ...           ...  \n",
       "59968475             0             0             0  \n",
       "59968476             0             0             0  \n",
       "59968477             0             0             0  \n",
       "59968478             0             0             0  \n",
       "59968479             0             0             0  \n",
       "\n",
       "[59968480 rows x 84 columns]"
      ]
     },
     "execution_count": 3,
     "metadata": {},
     "output_type": "execute_result"
    }
   ],
   "source": [
    "df"
   ]
  },
  {
   "cell_type": "code",
   "execution_count": 4,
   "metadata": {},
   "outputs": [
    {
     "data": {
      "text/plain": [
       "Index(['user_id', 'anime_id', 'rating', 'Mean Score', 'age', 'Female', 'Male',\n",
       "       'Non-Binary', 'Unknown_Gender', 'Score', 'Movie', 'Music_Type', 'ONA',\n",
       "       'OVA', 'Special', 'TV', 'Unknown_Type', '4-koma manga', 'Book',\n",
       "       'Card game', 'Digital manga', 'Game_Source', 'Light novel', 'Manga',\n",
       "       'Music_Source', 'Novel', 'Original', 'Other', 'Picture book', 'Radio',\n",
       "       'Unknown_Source', 'Visual novel', 'Web manga', 'Action', 'Adventure',\n",
       "       'Cars', 'Comedy', 'Dementia', 'Demons', 'Drama', 'Ecchi', 'Fantasy',\n",
       "       'Game', 'Harem', 'Hentai', 'Historical', 'Horror', 'Josei', 'Kids',\n",
       "       'Magic', 'Martial Arts', 'Mecha', 'Military', 'Music', 'Mystery',\n",
       "       'Parody', 'Police', 'Psychological', 'Romance', 'Samurai', 'School',\n",
       "       'Sci-Fi', 'Seinen', 'Shoujo', 'Shoujo Ai', 'Shounen', 'Shounen Ai',\n",
       "       'Slice of Life', 'Space', 'Sports', 'Super Power', 'Supernatural',\n",
       "       'Thriller', 'Unknown_Genre', 'Vampire', 'Yaoi', 'Yuri', 'studio_col_1',\n",
       "       'studio_col_2', 'studio_col_3', 'studio_col_4', 'studio_col_5',\n",
       "       'studio_col_6', 'studio_col_7'],\n",
       "      dtype='object')"
      ]
     },
     "execution_count": 4,
     "metadata": {},
     "output_type": "execute_result"
    }
   ],
   "source": [
    "df.columns"
   ]
  },
  {
   "cell_type": "code",
   "execution_count": 3,
   "metadata": {},
   "outputs": [
    {
     "name": "stdout",
     "output_type": "stream",
     "text": [
      "<class 'pandas.core.frame.DataFrame'>\n",
      "RangeIndex: 59968480 entries, 0 to 59968479\n",
      "Data columns (total 84 columns):\n",
      " #   Column          Dtype  \n",
      "---  ------          -----  \n",
      " 0   user_id         int32  \n",
      " 1   anime_id        int32  \n",
      " 2   rating          int8   \n",
      " 3   Mean Score      float32\n",
      " 4   age             float32\n",
      " 5   Female          int8   \n",
      " 6   Male            int8   \n",
      " 7   Non-Binary      int8   \n",
      " 8   Unknown_Gender  int8   \n",
      " 9   Score           float32\n",
      " 10  Movie           int8   \n",
      " 11  Music_Type      int8   \n",
      " 12  ONA             int8   \n",
      " 13  OVA             int8   \n",
      " 14  Special         int8   \n",
      " 15  TV              int8   \n",
      " 16  Unknown_Type    int8   \n",
      " 17  4-koma manga    int8   \n",
      " 18  Book            int8   \n",
      " 19  Card game       int8   \n",
      " 20  Digital manga   int8   \n",
      " 21  Game_Source     int8   \n",
      " 22  Light novel     int8   \n",
      " 23  Manga           int8   \n",
      " 24  Music_Source    int8   \n",
      " 25  Novel           int8   \n",
      " 26  Original        int8   \n",
      " 27  Other           int8   \n",
      " 28  Picture book    int8   \n",
      " 29  Radio           int8   \n",
      " 30  Unknown_Source  int8   \n",
      " 31  Visual novel    int8   \n",
      " 32  Web manga       int8   \n",
      " 33  Action          int8   \n",
      " 34  Adventure       int8   \n",
      " 35  Cars            int8   \n",
      " 36  Comedy          int8   \n",
      " 37  Dementia        int8   \n",
      " 38  Demons          int8   \n",
      " 39  Drama           int8   \n",
      " 40  Ecchi           int8   \n",
      " 41  Fantasy         int8   \n",
      " 42  Game            int8   \n",
      " 43  Harem           int8   \n",
      " 44  Hentai          int8   \n",
      " 45  Historical      int8   \n",
      " 46  Horror          int8   \n",
      " 47  Josei           int8   \n",
      " 48  Kids            int8   \n",
      " 49  Magic           int8   \n",
      " 50  Martial Arts    int8   \n",
      " 51  Mecha           int8   \n",
      " 52  Military        int8   \n",
      " 53  Music           int8   \n",
      " 54  Mystery         int8   \n",
      " 55  Parody          int8   \n",
      " 56  Police          int8   \n",
      " 57  Psychological   int8   \n",
      " 58  Romance         int8   \n",
      " 59  Samurai         int8   \n",
      " 60  School          int8   \n",
      " 61  Sci-Fi          int8   \n",
      " 62  Seinen          int8   \n",
      " 63  Shoujo          int8   \n",
      " 64  Shoujo Ai       int8   \n",
      " 65  Shounen         int8   \n",
      " 66  Shounen Ai      int8   \n",
      " 67  Slice of Life   int8   \n",
      " 68  Space           int8   \n",
      " 69  Sports          int8   \n",
      " 70  Super Power     int8   \n",
      " 71  Supernatural    int8   \n",
      " 72  Thriller        int8   \n",
      " 73  Unknown_Genre   int8   \n",
      " 74  Vampire         int8   \n",
      " 75  Yaoi            int8   \n",
      " 76  Yuri            int8   \n",
      " 77  studio_col_1    int16  \n",
      " 78  studio_col_2    int16  \n",
      " 79  studio_col_3    int16  \n",
      " 80  studio_col_4    int16  \n",
      " 81  studio_col_5    int8   \n",
      " 82  studio_col_6    int8   \n",
      " 83  studio_col_7    int8   \n",
      "dtypes: float32(3), int16(4), int32(2), int8(75)\n",
      "memory usage: 5.8 GB\n"
     ]
    }
   ],
   "source": [
    "df.info()"
   ]
  },
  {
   "cell_type": "code",
   "execution_count": 4,
   "metadata": {},
   "outputs": [
    {
     "data": {
      "text/plain": [
       "84"
      ]
     },
     "execution_count": 4,
     "metadata": {},
     "output_type": "execute_result"
    }
   ],
   "source": [
    "len(df.columns)"
   ]
  },
  {
   "cell_type": "code",
   "execution_count": 5,
   "metadata": {},
   "outputs": [
    {
     "data": {
      "text/plain": [
       "689"
      ]
     },
     "execution_count": 5,
     "metadata": {},
     "output_type": "execute_result"
    }
   ],
   "source": [
    "studio_to_int=load('studio_to_int_vocab_dict.pkl')\n",
    "num_studios=len(studio_to_int)\n",
    "num_studios"
   ]
  },
  {
   "cell_type": "code",
   "execution_count": 6,
   "metadata": {},
   "outputs": [],
   "source": [
    "user_input_shape=6"
   ]
  },
  {
   "cell_type": "code",
   "execution_count": 7,
   "metadata": {},
   "outputs": [],
   "source": [
    "anime_input_shape=68"
   ]
  },
  {
   "cell_type": "code",
   "execution_count": 8,
   "metadata": {},
   "outputs": [],
   "source": [
    "studio_max_length = 7"
   ]
  },
  {
   "cell_type": "code",
   "execution_count": 9,
   "metadata": {},
   "outputs": [],
   "source": [
    "user_columns=df.columns[3:9]\n",
    "anime_columns=df.columns[9:-7]\n",
    "anime_embedding_columns=df.columns[-7:]"
   ]
  },
  {
   "cell_type": "code",
   "execution_count": 7,
   "metadata": {},
   "outputs": [],
   "source": [
    "def user_data_generator(df, batch_size=32):\n",
    "    while True:\n",
    "        for i in range(0, len(df), batch_size):\n",
    "            batch_df = df.iloc[i:i+batch_size]\n",
    "            features = {col: np.array(batch_df[col]) for col in user_columns}\n",
    "            yield features\n",
    "\n",
    "def anime_data_generator(df, batch_size=32):\n",
    "    while True:\n",
    "        for i in range(0, len(df), batch_size):\n",
    "            batch_df = df.iloc[i:i+batch_size]\n",
    "            features = {col: np.array(batch_df[col]) for col in anime_columns}\n",
    "            yield features\n",
    "\n",
    "def anime_embedding_data_generator(df, batch_size=32):\n",
    "    while True:\n",
    "        for i in range(0, len(df), batch_size):\n",
    "            batch_df = df.iloc[i:i+batch_size]\n",
    "            features = {col: np.array(batch_df[col]) for col in anime_embedding_columns}\n",
    "            yield features\n",
    "\n",
    "def rating_data_generator(df, batch_size=32):\n",
    "    while True:\n",
    "        for i in range(0, len(df), batch_size):\n",
    "            batch_df = df.iloc[i:i+batch_size]\n",
    "            target = np.array(batch_df['rating'])\n",
    "            yield target\n"
   ]
  },
  {
   "cell_type": "code",
   "execution_count": 9,
   "metadata": {},
   "outputs": [],
   "source": [
    "\n",
    "# Create TensorFlow datasets using the generators\n",
    "batch_size = 2048\n",
    "\n",
    "user_metadata_dataset = tf.data.Dataset.from_generator(\n",
    "    lambda: user_data_generator(df, batch_size),\n",
    "    output_signature={col: tf.TensorSpec(shape=(None,), dtype=tf.float32) for col in user_columns}\n",
    ")\n",
    "\n",
    "anime_metadata_dataset = tf.data.Dataset.from_generator(\n",
    "    lambda: anime_data_generator(df, batch_size),\n",
    "    output_signature={col: tf.TensorSpec(shape=(None,), dtype=tf.float32) for col in anime_columns}\n",
    ")\n",
    "\n",
    "anime_embedding_dataset = tf.data.Dataset.from_generator(\n",
    "    lambda: anime_embedding_data_generator(df, batch_size),\n",
    "    output_signature={col: tf.TensorSpec(shape=(None,), dtype=tf.float32) for col in anime_embedding_columns}\n",
    ")\n",
    "\n",
    "ratings_dataset = tf.data.Dataset.from_generator(\n",
    "    lambda: rating_data_generator(df, batch_size),\n",
    "    output_signature=tf.TensorSpec(shape=(None,), dtype=tf.float32)\n",
    ")"
   ]
  },
  {
   "cell_type": "code",
   "execution_count": 4,
   "metadata": {},
   "outputs": [],
   "source": [
    "def user_metadata_generator():\n",
    "    for row in df[user_columns].itertuples(index=False):\n",
    "        yield row\n",
    "\n",
    "def anime_metadata_generator():\n",
    "    for row in df[anime_columns].itertuples(index=False):\n",
    "        yield row\n",
    "\n",
    "def anime_embedding_generator():\n",
    "    for row in df[anime_embedding_columns].itertuples(index=False):\n",
    "        yield row\n",
    "\n",
    "def ratings_generator():\n",
    "    for rating in df['rating'].values:\n",
    "        yield rating"
   ]
  },
  {
   "cell_type": "code",
   "execution_count": 5,
   "metadata": {},
   "outputs": [],
   "source": [
    "user_metadata_dataset = tf.data.Dataset.from_generator(user_metadata_generator, output_types=tf.float32, output_shapes=(len(user_columns)))\n",
    "anime_metadata_dataset = tf.data.Dataset.from_generator(anime_metadata_generator, output_types=tf.float32, output_shapes=(len(anime_columns)))\n",
    "anime_embedding_dataset = tf.data.Dataset.from_generator(anime_embedding_generator, output_types=tf.float32, output_shapes=(len(anime_embedding_columns)))\n",
    "ratings_dataset = tf.data.Dataset.from_generator(ratings_generator, output_types=tf.float32)"
   ]
  },
  {
   "cell_type": "code",
   "execution_count": 10,
   "metadata": {},
   "outputs": [],
   "source": [
    "dataset = tf.data.Dataset.zip(({'user_input':user_metadata_dataset, 'anime_input':anime_metadata_dataset,'anime_embedding_input':anime_embedding_dataset}, ratings_dataset))\n"
   ]
  },
  {
   "cell_type": "code",
   "execution_count": 10,
   "metadata": {},
   "outputs": [],
   "source": [
    "dataset.save('data/dataset')"
   ]
  },
  {
   "cell_type": "code",
   "execution_count": 4,
   "metadata": {},
   "outputs": [
    {
     "name": "stdout",
     "output_type": "stream",
     "text": [
      "Sample Row: ({'anime_embedding_input': {'studio_col_6': <tf.Tensor: shape=(2048,), dtype=float32, numpy=array([0., 0., 0., ..., 0., 0., 0.], dtype=float32)>, 'studio_col_5': <tf.Tensor: shape=(2048,), dtype=float32, numpy=array([0., 0., 0., ..., 0., 0., 0.], dtype=float32)>, 'studio_col_2': <tf.Tensor: shape=(2048,), dtype=float32, numpy=array([0., 0., 0., ..., 0., 0., 0.], dtype=float32)>, 'studio_col_7': <tf.Tensor: shape=(2048,), dtype=float32, numpy=array([0., 0., 0., ..., 0., 0., 0.], dtype=float32)>, 'studio_col_4': <tf.Tensor: shape=(2048,), dtype=float32, numpy=array([0., 0., 0., ..., 0., 0., 0.], dtype=float32)>, 'studio_col_1': <tf.Tensor: shape=(2048,), dtype=float32, numpy=array([110., 110., 110., ..., 110., 110., 110.], dtype=float32)>, 'studio_col_3': <tf.Tensor: shape=(2048,), dtype=float32, numpy=array([0., 0., 0., ..., 0., 0., 0.], dtype=float32)>}, 'user_input': {'Male': <tf.Tensor: shape=(2048,), dtype=float32, numpy=array([1., 1., 1., ..., 1., 0., 0.], dtype=float32)>, 'Female': <tf.Tensor: shape=(2048,), dtype=float32, numpy=array([0., 0., 0., ..., 0., 0., 0.], dtype=float32)>, 'Non-Binary': <tf.Tensor: shape=(2048,), dtype=float32, numpy=array([0., 0., 0., ..., 0., 0., 0.], dtype=float32)>, 'Mean Score': <tf.Tensor: shape=(2048,), dtype=float32, numpy=\n",
      "array([-0.6960926 , -0.47773093, -0.88754696, ..., -0.31753996,\n",
      "        1.6998643 , -0.10239231], dtype=float32)>, 'age': <tf.Tensor: shape=(2048,), dtype=float32, numpy=\n",
      "array([39.      , 33.691944, 35.      , ..., 33.691944, 33.691944,\n",
      "       33.691944], dtype=float32)>, 'Unknown_Gender': <tf.Tensor: shape=(2048,), dtype=float32, numpy=array([0., 0., 0., ..., 0., 1., 1.], dtype=float32)>}, 'anime_input': {'Shoujo Ai': <tf.Tensor: shape=(2048,), dtype=float32, numpy=array([0., 0., 0., ..., 0., 0., 0.], dtype=float32)>, 'Psychological': <tf.Tensor: shape=(2048,), dtype=float32, numpy=array([0., 0., 0., ..., 0., 0., 0.], dtype=float32)>, 'TV': <tf.Tensor: shape=(2048,), dtype=float32, numpy=array([1., 1., 1., ..., 1., 1., 1.], dtype=float32)>, 'School': <tf.Tensor: shape=(2048,), dtype=float32, numpy=array([1., 1., 1., ..., 1., 1., 1.], dtype=float32)>, 'Demons': <tf.Tensor: shape=(2048,), dtype=float32, numpy=array([0., 0., 0., ..., 0., 0., 0.], dtype=float32)>, 'Fantasy': <tf.Tensor: shape=(2048,), dtype=float32, numpy=array([0., 0., 0., ..., 0., 0., 0.], dtype=float32)>, 'Space': <tf.Tensor: shape=(2048,), dtype=float32, numpy=array([0., 0., 0., ..., 0., 0., 0.], dtype=float32)>, 'Visual novel': <tf.Tensor: shape=(2048,), dtype=float32, numpy=array([0., 0., 0., ..., 0., 0., 0.], dtype=float32)>, 'Mecha': <tf.Tensor: shape=(2048,), dtype=float32, numpy=array([0., 0., 0., ..., 0., 0., 0.], dtype=float32)>, 'Unknown_Genre': <tf.Tensor: shape=(2048,), dtype=float32, numpy=array([0., 0., 0., ..., 0., 0., 0.], dtype=float32)>, 'Game_Source': <tf.Tensor: shape=(2048,), dtype=float32, numpy=array([0., 0., 0., ..., 0., 0., 0.], dtype=float32)>, 'Samurai': <tf.Tensor: shape=(2048,), dtype=float32, numpy=array([0., 0., 0., ..., 0., 0., 0.], dtype=float32)>, 'Mystery': <tf.Tensor: shape=(2048,), dtype=float32, numpy=array([0., 0., 0., ..., 0., 0., 0.], dtype=float32)>, 'Dementia': <tf.Tensor: shape=(2048,), dtype=float32, numpy=array([0., 0., 0., ..., 0., 0., 0.], dtype=float32)>, 'Sci-Fi': <tf.Tensor: shape=(2048,), dtype=float32, numpy=array([0., 0., 0., ..., 0., 0., 0.], dtype=float32)>, 'Parody': <tf.Tensor: shape=(2048,), dtype=float32, numpy=array([0., 0., 0., ..., 0., 0., 0.], dtype=float32)>, 'ONA': <tf.Tensor: shape=(2048,), dtype=float32, numpy=array([0., 0., 0., ..., 0., 0., 0.], dtype=float32)>, 'Music': <tf.Tensor: shape=(2048,), dtype=float32, numpy=array([0., 0., 0., ..., 0., 0., 0.], dtype=float32)>, 'Unknown_Source': <tf.Tensor: shape=(2048,), dtype=float32, numpy=array([0., 0., 0., ..., 0., 0., 0.], dtype=float32)>, 'Shounen Ai': <tf.Tensor: shape=(2048,), dtype=float32, numpy=array([0., 0., 0., ..., 0., 0., 0.], dtype=float32)>, 'Score': <tf.Tensor: shape=(2048,), dtype=float32, numpy=array([7.35, 7.35, 7.35, ..., 7.35, 7.35, 7.35], dtype=float32)>, 'Game': <tf.Tensor: shape=(2048,), dtype=float32, numpy=array([0., 0., 0., ..., 0., 0., 0.], dtype=float32)>, 'Picture book': <tf.Tensor: shape=(2048,), dtype=float32, numpy=array([0., 0., 0., ..., 0., 0., 0.], dtype=float32)>, 'Hentai': <tf.Tensor: shape=(2048,), dtype=float32, numpy=array([0., 0., 0., ..., 0., 0., 0.], dtype=float32)>, 'Drama': <tf.Tensor: shape=(2048,), dtype=float32, numpy=array([1., 1., 1., ..., 1., 1., 1.], dtype=float32)>, 'Super Power': <tf.Tensor: shape=(2048,), dtype=float32, numpy=array([0., 0., 0., ..., 0., 0., 0.], dtype=float32)>, 'Military': <tf.Tensor: shape=(2048,), dtype=float32, numpy=array([0., 0., 0., ..., 0., 0., 0.], dtype=float32)>, 'Yuri': <tf.Tensor: shape=(2048,), dtype=float32, numpy=array([0., 0., 0., ..., 0., 0., 0.], dtype=float32)>, 'Light novel': <tf.Tensor: shape=(2048,), dtype=float32, numpy=array([0., 0., 0., ..., 0., 0., 0.], dtype=float32)>, 'Romance': <tf.Tensor: shape=(2048,), dtype=float32, numpy=array([0., 0., 0., ..., 0., 0., 0.], dtype=float32)>, 'Book': <tf.Tensor: shape=(2048,), dtype=float32, numpy=array([0., 0., 0., ..., 0., 0., 0.], dtype=float32)>, 'Novel': <tf.Tensor: shape=(2048,), dtype=float32, numpy=array([0., 0., 0., ..., 0., 0., 0.], dtype=float32)>, 'Original': <tf.Tensor: shape=(2048,), dtype=float32, numpy=array([0., 0., 0., ..., 0., 0., 0.], dtype=float32)>, 'Card game': <tf.Tensor: shape=(2048,), dtype=float32, numpy=array([0., 0., 0., ..., 0., 0., 0.], dtype=float32)>, 'Harem': <tf.Tensor: shape=(2048,), dtype=float32, numpy=array([0., 0., 0., ..., 0., 0., 0.], dtype=float32)>, 'Shounen': <tf.Tensor: shape=(2048,), dtype=float32, numpy=array([1., 1., 1., ..., 1., 1., 1.], dtype=float32)>, '4-koma manga': <tf.Tensor: shape=(2048,), dtype=float32, numpy=array([0., 0., 0., ..., 0., 0., 0.], dtype=float32)>, 'Cars': <tf.Tensor: shape=(2048,), dtype=float32, numpy=array([0., 0., 0., ..., 0., 0., 0.], dtype=float32)>, 'Martial Arts': <tf.Tensor: shape=(2048,), dtype=float32, numpy=array([0., 0., 0., ..., 0., 0., 0.], dtype=float32)>, 'Other': <tf.Tensor: shape=(2048,), dtype=float32, numpy=array([0., 0., 0., ..., 0., 0., 0.], dtype=float32)>, 'Seinen': <tf.Tensor: shape=(2048,), dtype=float32, numpy=array([0., 0., 0., ..., 0., 0., 0.], dtype=float32)>, 'Music_Type': <tf.Tensor: shape=(2048,), dtype=float32, numpy=array([0., 0., 0., ..., 0., 0., 0.], dtype=float32)>, 'OVA': <tf.Tensor: shape=(2048,), dtype=float32, numpy=array([0., 0., 0., ..., 0., 0., 0.], dtype=float32)>, 'Manga': <tf.Tensor: shape=(2048,), dtype=float32, numpy=array([1., 1., 1., ..., 1., 1., 1.], dtype=float32)>, 'Supernatural': <tf.Tensor: shape=(2048,), dtype=float32, numpy=array([0., 0., 0., ..., 0., 0., 0.], dtype=float32)>, 'Kids': <tf.Tensor: shape=(2048,), dtype=float32, numpy=array([0., 0., 0., ..., 0., 0., 0.], dtype=float32)>, 'Unknown_Type': <tf.Tensor: shape=(2048,), dtype=float32, numpy=array([0., 0., 0., ..., 0., 0., 0.], dtype=float32)>, 'Sports': <tf.Tensor: shape=(2048,), dtype=float32, numpy=array([1., 1., 1., ..., 1., 1., 1.], dtype=float32)>, 'Police': <tf.Tensor: shape=(2048,), dtype=float32, numpy=array([0., 0., 0., ..., 0., 0., 0.], dtype=float32)>, 'Ecchi': <tf.Tensor: shape=(2048,), dtype=float32, numpy=array([0., 0., 0., ..., 0., 0., 0.], dtype=float32)>, 'Josei': <tf.Tensor: shape=(2048,), dtype=float32, numpy=array([0., 0., 0., ..., 0., 0., 0.], dtype=float32)>, 'Yaoi': <tf.Tensor: shape=(2048,), dtype=float32, numpy=array([0., 0., 0., ..., 0., 0., 0.], dtype=float32)>, 'Action': <tf.Tensor: shape=(2048,), dtype=float32, numpy=array([0., 0., 0., ..., 0., 0., 0.], dtype=float32)>, 'Comedy': <tf.Tensor: shape=(2048,), dtype=float32, numpy=array([1., 1., 1., ..., 1., 1., 1.], dtype=float32)>, 'Vampire': <tf.Tensor: shape=(2048,), dtype=float32, numpy=array([0., 0., 0., ..., 0., 0., 0.], dtype=float32)>, 'Historical': <tf.Tensor: shape=(2048,), dtype=float32, numpy=array([0., 0., 0., ..., 0., 0., 0.], dtype=float32)>, 'Adventure': <tf.Tensor: shape=(2048,), dtype=float32, numpy=array([0., 0., 0., ..., 0., 0., 0.], dtype=float32)>, 'Magic': <tf.Tensor: shape=(2048,), dtype=float32, numpy=array([0., 0., 0., ..., 0., 0., 0.], dtype=float32)>, 'Movie': <tf.Tensor: shape=(2048,), dtype=float32, numpy=array([0., 0., 0., ..., 0., 0., 0.], dtype=float32)>, 'Digital manga': <tf.Tensor: shape=(2048,), dtype=float32, numpy=array([0., 0., 0., ..., 0., 0., 0.], dtype=float32)>, 'Special': <tf.Tensor: shape=(2048,), dtype=float32, numpy=array([0., 0., 0., ..., 0., 0., 0.], dtype=float32)>, 'Web manga': <tf.Tensor: shape=(2048,), dtype=float32, numpy=array([0., 0., 0., ..., 0., 0., 0.], dtype=float32)>, 'Shoujo': <tf.Tensor: shape=(2048,), dtype=float32, numpy=array([0., 0., 0., ..., 0., 0., 0.], dtype=float32)>, 'Thriller': <tf.Tensor: shape=(2048,), dtype=float32, numpy=array([0., 0., 0., ..., 0., 0., 0.], dtype=float32)>, 'Radio': <tf.Tensor: shape=(2048,), dtype=float32, numpy=array([0., 0., 0., ..., 0., 0., 0.], dtype=float32)>, 'Music_Source': <tf.Tensor: shape=(2048,), dtype=float32, numpy=array([0., 0., 0., ..., 0., 0., 0.], dtype=float32)>, 'Slice of Life': <tf.Tensor: shape=(2048,), dtype=float32, numpy=array([0., 0., 0., ..., 0., 0., 0.], dtype=float32)>, 'Horror': <tf.Tensor: shape=(2048,), dtype=float32, numpy=array([0., 0., 0., ..., 0., 0., 0.], dtype=float32)>}}, <tf.Tensor: shape=(2048,), dtype=float32, numpy=array([8., 0., 0., ..., 7., 6., 0.], dtype=float32)>)\n"
     ]
    }
   ],
   "source": [
    "# Take one element from the dataset\n",
    "sample_row = next(iter(dataset.take(1)))\n",
    "\n",
    "# Print the sample row\n",
    "print(\"Sample Row:\", sample_row)"
   ]
  },
  {
   "cell_type": "code",
   "execution_count": 2,
   "metadata": {},
   "outputs": [],
   "source": [
    "dataset=tf.data.Dataset.load(\"data/dataset\")"
   ]
  },
  {
   "cell_type": "code",
   "execution_count": 5,
   "metadata": {},
   "outputs": [
    {
     "data": {
      "text/plain": [
       "0"
      ]
     },
     "execution_count": 5,
     "metadata": {},
     "output_type": "execute_result"
    }
   ],
   "source": [
    "dataset.cardinality().numpy()"
   ]
  },
  {
   "cell_type": "code",
   "execution_count": 6,
   "metadata": {},
   "outputs": [
    {
     "ename": "InvalidArgumentError",
     "evalue": "{{function_node __wrapped__ShuffleDatasetV3_device_/job:localhost/replica:0/task:0/device:CPU:0}} buffer_size must be greater than zero. [Op:ShuffleDatasetV3]",
     "output_type": "error",
     "traceback": [
      "\u001b[1;31m---------------------------------------------------------------------------\u001b[0m",
      "\u001b[1;31mInvalidArgumentError\u001b[0m                      Traceback (most recent call last)",
      "Cell \u001b[1;32mIn[6], line 1\u001b[0m\n\u001b[1;32m----> 1\u001b[0m dataset\u001b[38;5;241m=\u001b[39m\u001b[43mdataset\u001b[49m\u001b[38;5;241;43m.\u001b[39;49m\u001b[43mshuffle\u001b[49m\u001b[43m(\u001b[49m\u001b[38;5;28;43mint\u001b[39;49m\u001b[43m(\u001b[49m\u001b[43mdataset\u001b[49m\u001b[38;5;241;43m.\u001b[39;49m\u001b[43mcardinality\u001b[49m\u001b[43m(\u001b[49m\u001b[43m)\u001b[49m\u001b[38;5;241;43m.\u001b[39;49m\u001b[43mnumpy\u001b[49m\u001b[43m(\u001b[49m\u001b[43m)\u001b[49m\u001b[43m)\u001b[49m\u001b[43m)\u001b[49m\n\u001b[0;32m      2\u001b[0m train_size \u001b[38;5;241m=\u001b[39m \u001b[38;5;28mint\u001b[39m(\u001b[38;5;241m0.8\u001b[39m \u001b[38;5;241m*\u001b[39m dataset\u001b[38;5;241m.\u001b[39mcardinality()\u001b[38;5;241m.\u001b[39mnumpy())  \u001b[38;5;66;03m# Assuming an 80-10-10 split\u001b[39;00m\n\u001b[0;32m      3\u001b[0m val_size \u001b[38;5;241m=\u001b[39m\u001b[38;5;28mint\u001b[39m(\u001b[38;5;241m0.1\u001b[39m\u001b[38;5;241m*\u001b[39mdataset\u001b[38;5;241m.\u001b[39mcardinality()\u001b[38;5;241m.\u001b[39mnumpy())\n",
      "File \u001b[1;32mc:\\Users\\aunno\\.conda\\envs\\AnimeInsight\\lib\\site-packages\\tensorflow\\python\\data\\ops\\dataset_ops.py:1531\u001b[0m, in \u001b[0;36mDatasetV2.shuffle\u001b[1;34m(self, buffer_size, seed, reshuffle_each_iteration, name)\u001b[0m\n\u001b[0;32m   1462\u001b[0m \u001b[38;5;28;01mdef\u001b[39;00m \u001b[38;5;21mshuffle\u001b[39m(\u001b[38;5;28mself\u001b[39m,\n\u001b[0;32m   1463\u001b[0m             buffer_size,\n\u001b[0;32m   1464\u001b[0m             seed\u001b[38;5;241m=\u001b[39m\u001b[38;5;28;01mNone\u001b[39;00m,\n\u001b[0;32m   1465\u001b[0m             reshuffle_each_iteration\u001b[38;5;241m=\u001b[39m\u001b[38;5;28;01mNone\u001b[39;00m,\n\u001b[0;32m   1466\u001b[0m             name\u001b[38;5;241m=\u001b[39m\u001b[38;5;28;01mNone\u001b[39;00m):\n\u001b[0;32m   1467\u001b[0m \u001b[38;5;250m  \u001b[39m\u001b[38;5;124;03m\"\"\"Randomly shuffles the elements of this dataset.\u001b[39;00m\n\u001b[0;32m   1468\u001b[0m \n\u001b[0;32m   1469\u001b[0m \u001b[38;5;124;03m  This dataset fills a buffer with `buffer_size` elements, then randomly\u001b[39;00m\n\u001b[1;32m   (...)\u001b[0m\n\u001b[0;32m   1529\u001b[0m \u001b[38;5;124;03m    Dataset: A `Dataset`.\u001b[39;00m\n\u001b[0;32m   1530\u001b[0m \u001b[38;5;124;03m  \"\"\"\u001b[39;00m\n\u001b[1;32m-> 1531\u001b[0m   \u001b[38;5;28;01mreturn\u001b[39;00m \u001b[43mShuffleDataset\u001b[49m\u001b[43m(\u001b[49m\n\u001b[0;32m   1532\u001b[0m \u001b[43m      \u001b[49m\u001b[38;5;28;43mself\u001b[39;49m\u001b[43m,\u001b[49m\u001b[43m \u001b[49m\u001b[43mbuffer_size\u001b[49m\u001b[43m,\u001b[49m\u001b[43m \u001b[49m\u001b[43mseed\u001b[49m\u001b[43m,\u001b[49m\u001b[43m \u001b[49m\u001b[43mreshuffle_each_iteration\u001b[49m\u001b[43m,\u001b[49m\u001b[43m \u001b[49m\u001b[43mname\u001b[49m\u001b[38;5;241;43m=\u001b[39;49m\u001b[43mname\u001b[49m\u001b[43m)\u001b[49m\n",
      "File \u001b[1;32mc:\\Users\\aunno\\.conda\\envs\\AnimeInsight\\lib\\site-packages\\tensorflow\\python\\data\\ops\\dataset_ops.py:5016\u001b[0m, in \u001b[0;36mShuffleDataset.__init__\u001b[1;34m(self, input_dataset, buffer_size, seed, reshuffle_each_iteration, name)\u001b[0m\n\u001b[0;32m   5012\u001b[0m \u001b[38;5;28mself\u001b[39m\u001b[38;5;241m.\u001b[39m_name \u001b[38;5;241m=\u001b[39m name\n\u001b[0;32m   5014\u001b[0m \u001b[38;5;28;01mif\u001b[39;00m (tf2\u001b[38;5;241m.\u001b[39menabled() \u001b[38;5;129;01mand\u001b[39;00m\n\u001b[0;32m   5015\u001b[0m     (context\u001b[38;5;241m.\u001b[39mexecuting_eagerly() \u001b[38;5;129;01mor\u001b[39;00m ops\u001b[38;5;241m.\u001b[39minside_function())):\n\u001b[1;32m-> 5016\u001b[0m   variant_tensor \u001b[38;5;241m=\u001b[39m gen_dataset_ops\u001b[38;5;241m.\u001b[39mshuffle_dataset_v3(\n\u001b[0;32m   5017\u001b[0m       input_dataset\u001b[38;5;241m.\u001b[39m_variant_tensor,  \u001b[38;5;66;03m# pylint: disable=protected-access\u001b[39;00m\n\u001b[0;32m   5018\u001b[0m       buffer_size\u001b[38;5;241m=\u001b[39m\u001b[38;5;28mself\u001b[39m\u001b[38;5;241m.\u001b[39m_buffer_size,\n\u001b[0;32m   5019\u001b[0m       seed\u001b[38;5;241m=\u001b[39m\u001b[38;5;28mself\u001b[39m\u001b[38;5;241m.\u001b[39m_seed,\n\u001b[0;32m   5020\u001b[0m       seed2\u001b[38;5;241m=\u001b[39m\u001b[38;5;28mself\u001b[39m\u001b[38;5;241m.\u001b[39m_seed2,\n\u001b[0;32m   5021\u001b[0m       seed_generator\u001b[38;5;241m=\u001b[39mgen_dataset_ops\u001b[38;5;241m.\u001b[39mdummy_seed_generator(),\n\u001b[0;32m   5022\u001b[0m       reshuffle_each_iteration\u001b[38;5;241m=\u001b[39m\u001b[38;5;28mself\u001b[39m\u001b[38;5;241m.\u001b[39m_reshuffle_each_iteration,\n\u001b[0;32m   5023\u001b[0m       \u001b[38;5;241m*\u001b[39m\u001b[38;5;241m*\u001b[39m\u001b[38;5;28mself\u001b[39m\u001b[38;5;241m.\u001b[39m_common_args)\n\u001b[0;32m   5024\u001b[0m \u001b[38;5;28;01melse\u001b[39;00m:\n\u001b[0;32m   5025\u001b[0m   variant_tensor \u001b[38;5;241m=\u001b[39m gen_dataset_ops\u001b[38;5;241m.\u001b[39mshuffle_dataset(\n\u001b[0;32m   5026\u001b[0m       input_dataset\u001b[38;5;241m.\u001b[39m_variant_tensor,  \u001b[38;5;66;03m# pylint: disable=protected-access\u001b[39;00m\n\u001b[0;32m   5027\u001b[0m       buffer_size\u001b[38;5;241m=\u001b[39m\u001b[38;5;28mself\u001b[39m\u001b[38;5;241m.\u001b[39m_buffer_size,\n\u001b[1;32m   (...)\u001b[0m\n\u001b[0;32m   5030\u001b[0m       reshuffle_each_iteration\u001b[38;5;241m=\u001b[39m\u001b[38;5;28mself\u001b[39m\u001b[38;5;241m.\u001b[39m_reshuffle_each_iteration,\n\u001b[0;32m   5031\u001b[0m       \u001b[38;5;241m*\u001b[39m\u001b[38;5;241m*\u001b[39m\u001b[38;5;28mself\u001b[39m\u001b[38;5;241m.\u001b[39m_common_args)\n",
      "File \u001b[1;32mc:\\Users\\aunno\\.conda\\envs\\AnimeInsight\\lib\\site-packages\\tensorflow\\python\\ops\\gen_dataset_ops.py:7344\u001b[0m, in \u001b[0;36mshuffle_dataset_v3\u001b[1;34m(input_dataset, buffer_size, seed, seed2, seed_generator, output_types, output_shapes, reshuffle_each_iteration, metadata, name)\u001b[0m\n\u001b[0;32m   7342\u001b[0m   \u001b[38;5;28;01mreturn\u001b[39;00m _result\n\u001b[0;32m   7343\u001b[0m \u001b[38;5;28;01mexcept\u001b[39;00m _core\u001b[38;5;241m.\u001b[39m_NotOkStatusException \u001b[38;5;28;01mas\u001b[39;00m e:\n\u001b[1;32m-> 7344\u001b[0m   \u001b[43m_ops\u001b[49m\u001b[38;5;241;43m.\u001b[39;49m\u001b[43mraise_from_not_ok_status\u001b[49m\u001b[43m(\u001b[49m\u001b[43me\u001b[49m\u001b[43m,\u001b[49m\u001b[43m \u001b[49m\u001b[43mname\u001b[49m\u001b[43m)\u001b[49m\n\u001b[0;32m   7345\u001b[0m \u001b[38;5;28;01mexcept\u001b[39;00m _core\u001b[38;5;241m.\u001b[39m_FallbackException:\n\u001b[0;32m   7346\u001b[0m   \u001b[38;5;28;01mpass\u001b[39;00m\n",
      "File \u001b[1;32mc:\\Users\\aunno\\.conda\\envs\\AnimeInsight\\lib\\site-packages\\tensorflow\\python\\framework\\ops.py:7209\u001b[0m, in \u001b[0;36mraise_from_not_ok_status\u001b[1;34m(e, name)\u001b[0m\n\u001b[0;32m   7207\u001b[0m \u001b[38;5;28;01mdef\u001b[39;00m \u001b[38;5;21mraise_from_not_ok_status\u001b[39m(e, name):\n\u001b[0;32m   7208\u001b[0m   e\u001b[38;5;241m.\u001b[39mmessage \u001b[38;5;241m+\u001b[39m\u001b[38;5;241m=\u001b[39m (\u001b[38;5;124m\"\u001b[39m\u001b[38;5;124m name: \u001b[39m\u001b[38;5;124m\"\u001b[39m \u001b[38;5;241m+\u001b[39m name \u001b[38;5;28;01mif\u001b[39;00m name \u001b[38;5;129;01mis\u001b[39;00m \u001b[38;5;129;01mnot\u001b[39;00m \u001b[38;5;28;01mNone\u001b[39;00m \u001b[38;5;28;01melse\u001b[39;00m \u001b[38;5;124m\"\u001b[39m\u001b[38;5;124m\"\u001b[39m)\n\u001b[1;32m-> 7209\u001b[0m   \u001b[38;5;28;01mraise\u001b[39;00m core\u001b[38;5;241m.\u001b[39m_status_to_exception(e) \u001b[38;5;28;01mfrom\u001b[39;00m \u001b[38;5;28;01mNone\u001b[39;00m\n",
      "\u001b[1;31mInvalidArgumentError\u001b[0m: {{function_node __wrapped__ShuffleDatasetV3_device_/job:localhost/replica:0/task:0/device:CPU:0}} buffer_size must be greater than zero. [Op:ShuffleDatasetV3]"
     ]
    }
   ],
   "source": [
    "dataset=dataset.shuffle(int(dataset.cardinality().numpy()))\n",
    "train_size = int(0.8 * dataset.cardinality().numpy())  # Assuming an 80-10-10 split\n",
    "val_size =int(0.1*dataset.cardinality().numpy())\n",
    "train_dataset = dataset.take(train_size)    \n",
    "val_dataset = dataset.skip(train_size).take(val_size)\n",
    "test_dataset = dataset.skip(train_size).skip(val_size)\n"
   ]
  },
  {
   "cell_type": "code",
   "execution_count": 9,
   "metadata": {},
   "outputs": [],
   "source": [
    "batch_size = 1024\n",
    "train_dataset=train_dataset.shuffle(batch_size*10)\n",
    "train_dataset = train_dataset.batch(batch_size)\n",
    "train_dataset = train_dataset.prefetch(buffer_size=tf.data.AUTOTUNE)"
   ]
  },
  {
   "cell_type": "code",
   "execution_count": 20,
   "metadata": {},
   "outputs": [],
   "source": [
    "def user_model(input_shape):\n",
    "    input=Input(shape=(input_shape,))\n",
    "    x=Dense(64,activation='relu', kernel_regularizer=L2())(input)\n",
    "    x=Dense(32,activation='relu',kernel_regularizer=L2())(x)\n",
    "    output=Dense(16,activation='relu',kernel_regularizer=L2())(x)\n",
    "    model = tf.keras.Model(inputs=input, outputs=output)\n",
    "    return model\n",
    "    \n",
    "    \n",
    "    \n"
   ]
  },
  {
   "cell_type": "code",
   "execution_count": 21,
   "metadata": {},
   "outputs": [],
   "source": [
    "def anime_model(input_shape):\n",
    "    input = Input(shape=(input_shape,),name='anime_inputs')\n",
    "    input_studio= Input(shape=(studio_max_length,),name='anime_embeddings_inputs')\n",
    "    studio_embedding=tf.keras.layers.Embedding(input_dim=num_studios+1,output_dim=4)(input_studio)\n",
    "    studio_flattened = tf.keras.layers.Flatten()(studio_embedding)\n",
    "    x=Concatenate()([input,studio_flattened])\n",
    "    x=Dense(64,activation='relu', kernel_regularizer=L2())(x)\n",
    "    x=Dense(32,activation='relu',kernel_regularizer=L2())(x)\n",
    "    output=Dense(16,activation='relu',kernel_regularizer=L2())(x)\n",
    "    model=Model(inputs=[input,input_studio],outputs=output)\n",
    "    return model\n"
   ]
  },
  {
   "cell_type": "code",
   "execution_count": 22,
   "metadata": {},
   "outputs": [],
   "source": [
    "def merge_models(model_1, model_2, user_input_shape , anime_input_shape):\n",
    "    user_inputs = tf.keras.Input(shape=(user_input_shape,),name='user_input')\n",
    "    anime_inputs=tf.keras.Input(shape=(anime_input_shape,),name='anime_input')\n",
    "    anime_embeddings_inputs=tf.keras.Input(shape=(studio_max_length),name='anime_embedding_input')\n",
    "    output_1 = model_1(user_inputs)\n",
    "    output_2 = model_2([anime_inputs,anime_embeddings_inputs])\n",
    "    merged = Concatenate()([output_1, output_2])\n",
    "    outputs = Dense(1,activation='relu',kernel_regularizer=L2())(merged)\n",
    "    model = tf.keras.Model(inputs=[user_inputs,anime_inputs,anime_embeddings_inputs], outputs=outputs)\n",
    "    return model"
   ]
  },
  {
   "cell_type": "code",
   "execution_count": 23,
   "metadata": {},
   "outputs": [],
   "source": [
    "model1=user_model(user_input_shape)\n",
    "model2=anime_model(anime_input_shape)\n",
    "model3=merge_models(model1,model2,user_input_shape,anime_input_shape)"
   ]
  },
  {
   "cell_type": "code",
   "execution_count": 24,
   "metadata": {},
   "outputs": [],
   "source": [
    "model3.compile(optimizer='adam', loss='mse', metrics=['mae'])"
   ]
  },
  {
   "cell_type": "code",
   "execution_count": 25,
   "metadata": {},
   "outputs": [
    {
     "name": "stdout",
     "output_type": "stream",
     "text": [
      "Model: \"model_1\"\n",
      "_________________________________________________________________\n",
      " Layer (type)                Output Shape              Param #   \n",
      "=================================================================\n",
      " input_2 (InputLayer)        [(None, 6)]               0         \n",
      "                                                                 \n",
      " dense_3 (Dense)             (None, 64)                448       \n",
      "                                                                 \n",
      " dense_4 (Dense)             (None, 32)                2080      \n",
      "                                                                 \n",
      " dense_5 (Dense)             (None, 16)                528       \n",
      "                                                                 \n",
      "=================================================================\n",
      "Total params: 3,056\n",
      "Trainable params: 3,056\n",
      "Non-trainable params: 0\n",
      "_________________________________________________________________\n"
     ]
    }
   ],
   "source": [
    "model1.summary()"
   ]
  },
  {
   "cell_type": "code",
   "execution_count": 26,
   "metadata": {},
   "outputs": [
    {
     "name": "stdout",
     "output_type": "stream",
     "text": [
      "Model: \"model_2\"\n",
      "__________________________________________________________________________________________________\n",
      " Layer (type)                   Output Shape         Param #     Connected to                     \n",
      "==================================================================================================\n",
      " anime_embeddings_inputs (Input  [(None, 7)]         0           []                               \n",
      " Layer)                                                                                           \n",
      "                                                                                                  \n",
      " embedding (Embedding)          (None, 7, 4)         2760        ['anime_embeddings_inputs[0][0]']\n",
      "                                                                                                  \n",
      " anime_inputs (InputLayer)      [(None, 68)]         0           []                               \n",
      "                                                                                                  \n",
      " flatten (Flatten)              (None, 28)           0           ['embedding[0][0]']              \n",
      "                                                                                                  \n",
      " concatenate (Concatenate)      (None, 96)           0           ['anime_inputs[0][0]',           \n",
      "                                                                  'flatten[0][0]']                \n",
      "                                                                                                  \n",
      " dense_6 (Dense)                (None, 64)           6208        ['concatenate[0][0]']            \n",
      "                                                                                                  \n",
      " dense_7 (Dense)                (None, 32)           2080        ['dense_6[0][0]']                \n",
      "                                                                                                  \n",
      " dense_8 (Dense)                (None, 16)           528         ['dense_7[0][0]']                \n",
      "                                                                                                  \n",
      "==================================================================================================\n",
      "Total params: 11,576\n",
      "Trainable params: 11,576\n",
      "Non-trainable params: 0\n",
      "__________________________________________________________________________________________________\n"
     ]
    }
   ],
   "source": [
    "model2.summary()"
   ]
  },
  {
   "cell_type": "code",
   "execution_count": 27,
   "metadata": {},
   "outputs": [
    {
     "name": "stdout",
     "output_type": "stream",
     "text": [
      "Model: \"model_3\"\n",
      "__________________________________________________________________________________________________\n",
      " Layer (type)                   Output Shape         Param #     Connected to                     \n",
      "==================================================================================================\n",
      " user_input (InputLayer)        [(None, 6)]          0           []                               \n",
      "                                                                                                  \n",
      " anime_input (InputLayer)       [(None, 68)]         0           []                               \n",
      "                                                                                                  \n",
      " anime_embedding_input (InputLa  [(None, 7)]         0           []                               \n",
      " yer)                                                                                             \n",
      "                                                                                                  \n",
      " model_1 (Functional)           (None, 16)           3056        ['user_input[0][0]']             \n",
      "                                                                                                  \n",
      " model_2 (Functional)           (None, 16)           11576       ['anime_input[0][0]',            \n",
      "                                                                  'anime_embedding_input[0][0]']  \n",
      "                                                                                                  \n",
      " concatenate_1 (Concatenate)    (None, 32)           0           ['model_1[0][0]',                \n",
      "                                                                  'model_2[0][0]']                \n",
      "                                                                                                  \n",
      " dense_9 (Dense)                (None, 1)            33          ['concatenate_1[0][0]']          \n",
      "                                                                                                  \n",
      "==================================================================================================\n",
      "Total params: 14,665\n",
      "Trainable params: 14,665\n",
      "Non-trainable params: 0\n",
      "__________________________________________________________________________________________________\n"
     ]
    }
   ],
   "source": [
    "model3.summary()"
   ]
  },
  {
   "cell_type": "code",
   "execution_count": null,
   "metadata": {},
   "outputs": [],
   "source": []
  },
  {
   "cell_type": "code",
   "execution_count": 28,
   "metadata": {},
   "outputs": [
    {
     "data": {
      "image/png": "[encoded data removed]",
      "text/plain": [
       "<IPython.core.display.Image object>"
      ]
     },
     "execution_count": 28,
     "metadata": {},
     "output_type": "execute_result"
    }
   ],
   "source": [
    "import pydot\n",
    "import pydotplus\n",
    "import graphviz\n",
    "tf.keras.utils.plot_model(\n",
    "model3,\n",
    "to_file=\"model.png\",\n",
    "show_shapes=True,\n",
    "show_layer_names=True,\n",
    "rankdir=\"TB\",\n",
    "expand_nested=True,\n",
    "dpi=96,\n",
    ")\n"
   ]
  },
  {
   "cell_type": "code",
   "execution_count": 30,
   "metadata": {},
   "outputs": [
    {
     "name": "stdout",
     "output_type": "stream",
     "text": [
      "Epoch 1/10\n"
     ]
    },
    {
     "ename": "ValueError",
     "evalue": "Unexpected result of `train_function` (Empty logs). Please use `Model.compile(..., run_eagerly=True)`, or `tf.config.run_functions_eagerly(True)` for more information of where went wrong, or file a issue/bug to `tf.keras`.",
     "output_type": "error",
     "traceback": [
      "\u001b[1;31m---------------------------------------------------------------------------\u001b[0m",
      "\u001b[1;31mValueError\u001b[0m                                Traceback (most recent call last)",
      "Cell \u001b[1;32mIn[30], line 5\u001b[0m\n\u001b[0;32m      1\u001b[0m num_epochs \u001b[38;5;241m=\u001b[39m \u001b[38;5;241m2000\u001b[39m\n\u001b[0;32m      2\u001b[0m batch_size \u001b[38;5;241m=\u001b[39m \u001b[38;5;241m1100\u001b[39m\n\u001b[1;32m----> 5\u001b[0m \u001b[43mmodel3\u001b[49m\u001b[38;5;241;43m.\u001b[39;49m\u001b[43mfit\u001b[49m\u001b[43m(\u001b[49m\u001b[43mdataset\u001b[49m\u001b[43m,\u001b[49m\u001b[43m \u001b[49m\u001b[43mepochs\u001b[49m\u001b[38;5;241;43m=\u001b[39;49m\u001b[38;5;241;43m10\u001b[39;49m\u001b[43m)\u001b[49m\n",
      "File \u001b[1;32mc:\\Users\\aunno\\.conda\\envs\\AnimeInsight\\lib\\site-packages\\keras\\utils\\traceback_utils.py:70\u001b[0m, in \u001b[0;36mfilter_traceback.<locals>.error_handler\u001b[1;34m(*args, **kwargs)\u001b[0m\n\u001b[0;32m     67\u001b[0m     filtered_tb \u001b[38;5;241m=\u001b[39m _process_traceback_frames(e\u001b[38;5;241m.\u001b[39m__traceback__)\n\u001b[0;32m     68\u001b[0m     \u001b[38;5;66;03m# To get the full stack trace, call:\u001b[39;00m\n\u001b[0;32m     69\u001b[0m     \u001b[38;5;66;03m# `tf.debugging.disable_traceback_filtering()`\u001b[39;00m\n\u001b[1;32m---> 70\u001b[0m     \u001b[38;5;28;01mraise\u001b[39;00m e\u001b[38;5;241m.\u001b[39mwith_traceback(filtered_tb) \u001b[38;5;28;01mfrom\u001b[39;00m \u001b[38;5;28;01mNone\u001b[39;00m\n\u001b[0;32m     71\u001b[0m \u001b[38;5;28;01mfinally\u001b[39;00m:\n\u001b[0;32m     72\u001b[0m     \u001b[38;5;28;01mdel\u001b[39;00m filtered_tb\n",
      "File \u001b[1;32mc:\\Users\\aunno\\.conda\\envs\\AnimeInsight\\lib\\site-packages\\keras\\engine\\training.py:1576\u001b[0m, in \u001b[0;36mModel.fit\u001b[1;34m(self, x, y, batch_size, epochs, verbose, callbacks, validation_split, validation_data, shuffle, class_weight, sample_weight, initial_epoch, steps_per_epoch, validation_steps, validation_batch_size, validation_freq, max_queue_size, workers, use_multiprocessing)\u001b[0m\n\u001b[0;32m   1574\u001b[0m logs \u001b[38;5;241m=\u001b[39m tf_utils\u001b[38;5;241m.\u001b[39msync_to_numpy_or_python_type(logs)\n\u001b[0;32m   1575\u001b[0m \u001b[38;5;28;01mif\u001b[39;00m logs \u001b[38;5;129;01mis\u001b[39;00m \u001b[38;5;28;01mNone\u001b[39;00m:\n\u001b[1;32m-> 1576\u001b[0m     \u001b[38;5;28;01mraise\u001b[39;00m \u001b[38;5;167;01mValueError\u001b[39;00m(\n\u001b[0;32m   1577\u001b[0m         \u001b[38;5;124m\"\u001b[39m\u001b[38;5;124mUnexpected result of `train_function` \u001b[39m\u001b[38;5;124m\"\u001b[39m\n\u001b[0;32m   1578\u001b[0m         \u001b[38;5;124m\"\u001b[39m\u001b[38;5;124m(Empty logs). Please use \u001b[39m\u001b[38;5;124m\"\u001b[39m\n\u001b[0;32m   1579\u001b[0m         \u001b[38;5;124m\"\u001b[39m\u001b[38;5;124m`Model.compile(..., run_eagerly=True)`, or \u001b[39m\u001b[38;5;124m\"\u001b[39m\n\u001b[0;32m   1580\u001b[0m         \u001b[38;5;124m\"\u001b[39m\u001b[38;5;124m`tf.config.run_functions_eagerly(True)` for more \u001b[39m\u001b[38;5;124m\"\u001b[39m\n\u001b[0;32m   1581\u001b[0m         \u001b[38;5;124m\"\u001b[39m\u001b[38;5;124minformation of where went wrong, or file a \u001b[39m\u001b[38;5;124m\"\u001b[39m\n\u001b[0;32m   1582\u001b[0m         \u001b[38;5;124m\"\u001b[39m\u001b[38;5;124missue/bug to `tf.keras`.\u001b[39m\u001b[38;5;124m\"\u001b[39m\n\u001b[0;32m   1583\u001b[0m     )\n\u001b[0;32m   1584\u001b[0m epoch_logs \u001b[38;5;241m=\u001b[39m copy\u001b[38;5;241m.\u001b[39mcopy(logs)\n\u001b[0;32m   1586\u001b[0m \u001b[38;5;66;03m# Run validation.\u001b[39;00m\n",
      "\u001b[1;31mValueError\u001b[0m: Unexpected result of `train_function` (Empty logs). Please use `Model.compile(..., run_eagerly=True)`, or `tf.config.run_functions_eagerly(True)` for more information of where went wrong, or file a issue/bug to `tf.keras`."
     ]
    }
   ],
   "source": [
    "num_epochs = 2000\n",
    "batch_size = 1100\n",
    "\n",
    "\n",
    "model3.fit(dataset, epochs=10)"
   ]
  },
  {
   "cell_type": "code",
   "execution_count": 2,
   "metadata": {},
   "outputs": [],
   "source": [
    "df=pd.read_pickle(\"merged_final.pkl\")"
   ]
  }
 ],
 "metadata": {
  "kernelspec": {
   "display_name": "AnimeInsight",
   "language": "python",
   "name": "python3"
  },
  "language_info": {
   "codemirror_mode": {
    "name": "ipython",
    "version": 3
   },
   "file_extension": ".py",
   "mimetype": "text/x-python",
   "name": "python",
   "nbconvert_exporter": "python",
   "pygments_lexer": "ipython3",
   "version": "3.10.13"
  }
 },
 "nbformat": 4,
 "nbformat_minor": 2
}
