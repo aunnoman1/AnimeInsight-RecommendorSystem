{
 "cells": [
  {
   "cell_type": "code",
   "execution_count": 1,
   "metadata": {},
   "outputs": [],
   "source": [
    "import pandas as pd\n",
    "import numpy as np\n",
    "import matplotlib.pyplot as plt\n",
    "from sklearn.preprocessing import StandardScaler, OneHotEncoder\n",
    "from sklearn.compose import ColumnTransformer\n",
    "from sklearn.model_selection import train_test_split\n",
    "import tensorflow as tf\n",
    "from tensorflow.keras.layers import Input, Dense, Embedding, Concatenate,Dot\n",
    "from tensorflow.keras.models import Model\n",
    "from tensorflow.keras import mixed_precision\n",
    "import tensorflow.data\n",
    "from tensorflow.keras.regularizers import L2\n",
    "from joblib import load\n",
    "import pydot\n",
    "from datetime import datetime"
   ]
  },
  {
   "cell_type": "code",
   "execution_count": 2,
   "metadata": {},
   "outputs": [],
   "source": [
    "rating_df = pd.read_csv('data\\\\users-score-2023.csv')\n",
    "anime_metadata_df = pd.read_csv('data\\\\anime-dataset-2023.csv')"
   ]
  },
  {
   "cell_type": "code",
   "execution_count": 3,
   "metadata": {},
   "outputs": [],
   "source": [
    "model=tf.keras.models.load_model('models/merged_model.keras')"
   ]
  },
  {
   "cell_type": "code",
   "execution_count": 4,
   "metadata": {},
   "outputs": [],
   "source": [
    "anime_metadata_df.drop([\"Name\",'English name','Other name','Synopsis','Premiered','Episodes','Duration','Rating','Popularity',\t'Members',\t'Favorites','Status','Scored By','Image URL'\t,\t'Licensors','Producers' , 'Aired' , 'Rank'],axis=1,inplace=True)"
   ]
  },
  {
   "cell_type": "code",
   "execution_count": 5,
   "metadata": {},
   "outputs": [
    {
     "data": {
      "text/html": [
       "<div>\n",
       "<style scoped>\n",
       "    .dataframe tbody tr th:only-of-type {\n",
       "        vertical-align: middle;\n",
       "    }\n",
       "\n",
       "    .dataframe tbody tr th {\n",
       "        vertical-align: top;\n",
       "    }\n",
       "\n",
       "    .dataframe thead th {\n",
       "        text-align: right;\n",
       "    }\n",
       "</style>\n",
       "<table border=\"1\" class=\"dataframe\">\n",
       "  <thead>\n",
       "    <tr style=\"text-align: right;\">\n",
       "      <th></th>\n",
       "      <th>anime_id</th>\n",
       "      <th>Score</th>\n",
       "      <th>Genres</th>\n",
       "      <th>Type</th>\n",
       "      <th>Studios</th>\n",
       "      <th>Source</th>\n",
       "    </tr>\n",
       "  </thead>\n",
       "  <tbody>\n",
       "    <tr>\n",
       "      <th>11</th>\n",
       "      <td>21</td>\n",
       "      <td>8.69</td>\n",
       "      <td>Action, Adventure, Fantasy</td>\n",
       "      <td>TV</td>\n",
       "      <td>Toei Animation</td>\n",
       "      <td>Manga</td>\n",
       "    </tr>\n",
       "    <tr>\n",
       "      <th>29</th>\n",
       "      <td>48</td>\n",
       "      <td>6.95</td>\n",
       "      <td>Adventure, Fantasy, Mystery</td>\n",
       "      <td>TV</td>\n",
       "      <td>Bee Train</td>\n",
       "      <td>Original</td>\n",
       "    </tr>\n",
       "    <tr>\n",
       "      <th>296</th>\n",
       "      <td>320</td>\n",
       "      <td>6.54</td>\n",
       "      <td>Action, Drama, Hentai</td>\n",
       "      <td>OVA</td>\n",
       "      <td>Arms</td>\n",
       "      <td>Original</td>\n",
       "    </tr>\n",
       "  </tbody>\n",
       "</table>\n",
       "</div>"
      ],
      "text/plain": [
       "     anime_id Score                       Genres Type         Studios  \\\n",
       "11         21  8.69   Action, Adventure, Fantasy   TV  Toei Animation   \n",
       "29         48  6.95  Adventure, Fantasy, Mystery   TV       Bee Train   \n",
       "296       320  6.54        Action, Drama, Hentai  OVA            Arms   \n",
       "\n",
       "       Source  \n",
       "11      Manga  \n",
       "29   Original  \n",
       "296  Original  "
      ]
     },
     "execution_count": 5,
     "metadata": {},
     "output_type": "execute_result"
    }
   ],
   "source": [
    "anime_metadata_df = anime_metadata_df[anime_metadata_df['anime_id'].isin([21,48,320])]\n",
    "anime_metadata_df"
   ]
  },
  {
   "cell_type": "code",
   "execution_count": 6,
   "metadata": {},
   "outputs": [],
   "source": [
    "user_mean_score=7.37\n",
    "user_age=39\n",
    "user_gender='Male'"
   ]
  },
  {
   "cell_type": "code",
   "execution_count": 7,
   "metadata": {},
   "outputs": [],
   "source": [
    "mean_score_scaler=load('intermediate_data_all_embeddings/mean_score_scaler.pkl')\n",
    "\n",
    "rating_scaler=load('intermediate_data_all_embeddings/rating_scaler.pkl')\n",
    "\n",
    "score_scaler=load('intermediate_data_all_embeddings/score_scaler.pkl')\n",
    "\n",
    "type_encoder=load('intermediate_data_all_embeddings/Type_encoder.pkl')\n",
    "\n",
    "\n",
    "gender_encoder=load('intermediate_data_all_embeddings/gender_encoder.pkl')\n",
    "\n",
    "user_input_shape=6\n",
    "\n",
    "anime_input_shape=8\n",
    "\n",
    "studio_max_length = 10\n",
    "\n",
    "genre_max_length=9\n",
    "\n",
    "source_max_length=1\n",
    "\n"
   ]
  },
  {
   "cell_type": "code",
   "execution_count": 8,
   "metadata": {},
   "outputs": [],
   "source": [
    "@tf.keras.utils.register_keras_serializable()\n",
    "def split_func(input_str):\n",
    "  return tf.strings.split(input_str, sep=\", \")"
   ]
  },
  {
   "cell_type": "code",
   "execution_count": 9,
   "metadata": {},
   "outputs": [
    {
     "name": "stdout",
     "output_type": "stream",
     "text": [
      "WARNING:tensorflow:No training configuration found in save file, so the model was *not* compiled. Compile it manually.\n"
     ]
    },
    {
     "data": {
      "text/plain": [
       "914"
      ]
     },
     "execution_count": 9,
     "metadata": {},
     "output_type": "execute_result"
    }
   ],
   "source": [
    "\n",
    "studio_vectorize_layer_model=tf.keras.models.load_model('intermediate_data_all_embeddings/studio_vectorize_layer_model')\n",
    "studio_vectorize_layer = studio_vectorize_layer_model.layers[0]\n",
    "\n",
    "num_studios=len(studio_vectorize_layer.get_vocabulary())\n",
    "num_studios"
   ]
  },
  {
   "cell_type": "code",
   "execution_count": 10,
   "metadata": {},
   "outputs": [
    {
     "name": "stdout",
     "output_type": "stream",
     "text": [
      "WARNING:tensorflow:No training configuration found in save file, so the model was *not* compiled. Compile it manually.\n"
     ]
    },
    {
     "data": {
      "text/plain": [
       "23"
      ]
     },
     "execution_count": 10,
     "metadata": {},
     "output_type": "execute_result"
    }
   ],
   "source": [
    "genre_vectorize_layer_model=tf.keras.models.load_model('intermediate_data_all_embeddings/genre_vectorize_layer_model')\n",
    "genre_vectorize_layer = genre_vectorize_layer_model.layers[0]\n",
    "\n",
    "num_genres=len(genre_vectorize_layer.get_vocabulary())\n",
    "num_genres"
   ]
  },
  {
   "cell_type": "code",
   "execution_count": 11,
   "metadata": {},
   "outputs": [
    {
     "name": "stdout",
     "output_type": "stream",
     "text": [
      "WARNING:tensorflow:No training configuration found in save file, so the model was *not* compiled. Compile it manually.\n"
     ]
    },
    {
     "data": {
      "text/plain": [
       "19"
      ]
     },
     "execution_count": 11,
     "metadata": {},
     "output_type": "execute_result"
    }
   ],
   "source": [
    "source_vectorize_layer_model=tf.keras.models.load_model('intermediate_data_all_embeddings/source_vectorize_layer_model')\n",
    "source_vectorize_layer = source_vectorize_layer_model.layers[0]\n",
    "\n",
    "\n",
    "num_sources=len(source_vectorize_layer.get_vocabulary())\n",
    "num_sources"
   ]
  },
  {
   "cell_type": "code",
   "execution_count": 12,
   "metadata": {},
   "outputs": [],
   "source": [
    "type_encoder=load('intermediate_data_all_embeddings/Type_encoder.pkl')"
   ]
  },
  {
   "cell_type": "code",
   "execution_count": 13,
   "metadata": {},
   "outputs": [
    {
     "name": "stderr",
     "output_type": "stream",
     "text": [
      "c:\\Users\\aunno\\.conda\\envs\\AnimeInsight\\lib\\site-packages\\sklearn\\base.py:457: UserWarning: X has feature names, but PowerTransformer was fitted without feature names\n",
      "  warnings.warn(\n"
     ]
    }
   ],
   "source": [
    "anime_metadata_df.loc[:,'Score']=score_scaler.transform(anime_metadata_df[['Score']]).astype(np.float32)"
   ]
  },
  {
   "cell_type": "code",
   "execution_count": 14,
   "metadata": {},
   "outputs": [
    {
     "data": {
      "text/plain": [
       "float"
      ]
     },
     "execution_count": 14,
     "metadata": {},
     "output_type": "execute_result"
    }
   ],
   "source": [
    "type(anime_metadata_df['Score'].iloc[0])"
   ]
  },
  {
   "cell_type": "code",
   "execution_count": 15,
   "metadata": {},
   "outputs": [],
   "source": [
    "encoded_Types = type_encoder.transform(anime_metadata_df[['Type']])  # Fit and transform the column\n",
    "encoded_df = pd.DataFrame(encoded_Types.toarray(), columns=type_encoder.categories_[0],index=anime_metadata_df.index)  # Create a DataFrame from the encoded columns\n",
    "\n",
    "anime_metadata_df=pd.concat([anime_metadata_df, encoded_df], axis=1)  # Concatenate the original DataFrame with the encoded DataFrame\n",
    "anime_metadata_df.drop(['Type'],axis=1,inplace=True)"
   ]
  },
  {
   "cell_type": "code",
   "execution_count": 16,
   "metadata": {},
   "outputs": [
    {
     "data": {
      "text/html": [
       "<div>\n",
       "<style scoped>\n",
       "    .dataframe tbody tr th:only-of-type {\n",
       "        vertical-align: middle;\n",
       "    }\n",
       "\n",
       "    .dataframe tbody tr th {\n",
       "        vertical-align: top;\n",
       "    }\n",
       "\n",
       "    .dataframe thead th {\n",
       "        text-align: right;\n",
       "    }\n",
       "</style>\n",
       "<table border=\"1\" class=\"dataframe\">\n",
       "  <thead>\n",
       "    <tr style=\"text-align: right;\">\n",
       "      <th></th>\n",
       "      <th>anime_id</th>\n",
       "      <th>Score</th>\n",
       "      <th>Genres</th>\n",
       "      <th>Studios</th>\n",
       "      <th>Source</th>\n",
       "      <th>Movie</th>\n",
       "      <th>Music</th>\n",
       "      <th>ONA</th>\n",
       "      <th>OVA</th>\n",
       "      <th>Special</th>\n",
       "      <th>TV</th>\n",
       "      <th>UNKNOWN</th>\n",
       "    </tr>\n",
       "  </thead>\n",
       "  <tbody>\n",
       "    <tr>\n",
       "      <th>11</th>\n",
       "      <td>21</td>\n",
       "      <td>2.587209</td>\n",
       "      <td>Action, Adventure, Fantasy</td>\n",
       "      <td>Toei Animation</td>\n",
       "      <td>Manga</td>\n",
       "      <td>0</td>\n",
       "      <td>0</td>\n",
       "      <td>0</td>\n",
       "      <td>0</td>\n",
       "      <td>0</td>\n",
       "      <td>1</td>\n",
       "      <td>0</td>\n",
       "    </tr>\n",
       "    <tr>\n",
       "      <th>29</th>\n",
       "      <td>48</td>\n",
       "      <td>0.602828</td>\n",
       "      <td>Adventure, Fantasy, Mystery</td>\n",
       "      <td>Bee Train</td>\n",
       "      <td>Original</td>\n",
       "      <td>0</td>\n",
       "      <td>0</td>\n",
       "      <td>0</td>\n",
       "      <td>0</td>\n",
       "      <td>0</td>\n",
       "      <td>1</td>\n",
       "      <td>0</td>\n",
       "    </tr>\n",
       "    <tr>\n",
       "      <th>296</th>\n",
       "      <td>320</td>\n",
       "      <td>0.153191</td>\n",
       "      <td>Action, Drama, Hentai</td>\n",
       "      <td>Arms</td>\n",
       "      <td>Original</td>\n",
       "      <td>0</td>\n",
       "      <td>0</td>\n",
       "      <td>0</td>\n",
       "      <td>1</td>\n",
       "      <td>0</td>\n",
       "      <td>0</td>\n",
       "      <td>0</td>\n",
       "    </tr>\n",
       "  </tbody>\n",
       "</table>\n",
       "</div>"
      ],
      "text/plain": [
       "     anime_id     Score                       Genres         Studios  \\\n",
       "11         21  2.587209   Action, Adventure, Fantasy  Toei Animation   \n",
       "29         48  0.602828  Adventure, Fantasy, Mystery       Bee Train   \n",
       "296       320  0.153191        Action, Drama, Hentai            Arms   \n",
       "\n",
       "       Source  Movie  Music  ONA  OVA  Special  TV  UNKNOWN  \n",
       "11      Manga      0      0    0    0        0   1        0  \n",
       "29   Original      0      0    0    0        0   1        0  \n",
       "296  Original      0      0    0    1        0   0        0  "
      ]
     },
     "execution_count": 16,
     "metadata": {},
     "output_type": "execute_result"
    }
   ],
   "source": [
    "anime_metadata_df"
   ]
  },
  {
   "cell_type": "code",
   "execution_count": 17,
   "metadata": {},
   "outputs": [],
   "source": [
    "sequences=studio_vectorize_layer(anime_metadata_df.loc[:,'Studios'])\n",
    "padded_sequences = tf.keras.preprocessing.sequence.pad_sequences(sequences, maxlen=studio_max_length, padding='post')\n",
    "\n",
    "# Create separate columns for each index in the sequence\n",
    "for i in range(studio_max_length):\n",
    "    anime_metadata_df[f'Studio_Index_{i+1}'] = padded_sequences[:, i]\n",
    "\n",
    "anime_metadata_df.drop('Studios', axis=1, inplace=True)"
   ]
  },
  {
   "cell_type": "code",
   "execution_count": 18,
   "metadata": {},
   "outputs": [],
   "source": [
    "sequences=genre_vectorize_layer(anime_metadata_df.loc[:,'Genres'])\n",
    "\n",
    "padded_sequences = tf.keras.preprocessing.sequence.pad_sequences(sequences, maxlen=genre_max_length, padding='post')\n",
    "\n",
    "# Create separate columns for each index in the sequence\n",
    "for i in range(genre_max_length):\n",
    "    anime_metadata_df[f'Genre_Index_{i+1}'] = padded_sequences[:, i]\n",
    "\n",
    "anime_metadata_df.drop('Genres', axis=1, inplace=True)"
   ]
  },
  {
   "cell_type": "code",
   "execution_count": 19,
   "metadata": {},
   "outputs": [],
   "source": [
    "sequences=source_vectorize_layer(anime_metadata_df.loc[:,'Source'])\n",
    "\n",
    "padded_sequences = tf.keras.preprocessing.sequence.pad_sequences(sequences, maxlen=source_max_length, padding='post')\n",
    "\n",
    "# Create separate columns for each index in the sequence\n",
    "for i in range(source_max_length):\n",
    "    anime_metadata_df[f'Source_Index_{i+1}'] = padded_sequences[:, i]\n",
    "\n",
    "anime_metadata_df.drop('Source', axis=1, inplace=True)"
   ]
  },
  {
   "cell_type": "code",
   "execution_count": 20,
   "metadata": {},
   "outputs": [
    {
     "data": {
      "text/html": [
       "<div>\n",
       "<style scoped>\n",
       "    .dataframe tbody tr th:only-of-type {\n",
       "        vertical-align: middle;\n",
       "    }\n",
       "\n",
       "    .dataframe tbody tr th {\n",
       "        vertical-align: top;\n",
       "    }\n",
       "\n",
       "    .dataframe thead th {\n",
       "        text-align: right;\n",
       "    }\n",
       "</style>\n",
       "<table border=\"1\" class=\"dataframe\">\n",
       "  <thead>\n",
       "    <tr style=\"text-align: right;\">\n",
       "      <th></th>\n",
       "      <th>anime_id</th>\n",
       "      <th>Score</th>\n",
       "      <th>Movie</th>\n",
       "      <th>Music</th>\n",
       "      <th>ONA</th>\n",
       "      <th>OVA</th>\n",
       "      <th>Special</th>\n",
       "      <th>TV</th>\n",
       "      <th>UNKNOWN</th>\n",
       "      <th>Studio_Index_1</th>\n",
       "      <th>...</th>\n",
       "      <th>Genre_Index_1</th>\n",
       "      <th>Genre_Index_2</th>\n",
       "      <th>Genre_Index_3</th>\n",
       "      <th>Genre_Index_4</th>\n",
       "      <th>Genre_Index_5</th>\n",
       "      <th>Genre_Index_6</th>\n",
       "      <th>Genre_Index_7</th>\n",
       "      <th>Genre_Index_8</th>\n",
       "      <th>Genre_Index_9</th>\n",
       "      <th>Source_Index_1</th>\n",
       "    </tr>\n",
       "  </thead>\n",
       "  <tbody>\n",
       "    <tr>\n",
       "      <th>11</th>\n",
       "      <td>21</td>\n",
       "      <td>2.587209</td>\n",
       "      <td>0</td>\n",
       "      <td>0</td>\n",
       "      <td>0</td>\n",
       "      <td>0</td>\n",
       "      <td>0</td>\n",
       "      <td>1</td>\n",
       "      <td>0</td>\n",
       "      <td>2</td>\n",
       "      <td>...</td>\n",
       "      <td>3</td>\n",
       "      <td>5</td>\n",
       "      <td>4</td>\n",
       "      <td>0</td>\n",
       "      <td>0</td>\n",
       "      <td>0</td>\n",
       "      <td>0</td>\n",
       "      <td>0</td>\n",
       "      <td>0</td>\n",
       "      <td>3</td>\n",
       "    </tr>\n",
       "    <tr>\n",
       "      <th>29</th>\n",
       "      <td>48</td>\n",
       "      <td>0.602828</td>\n",
       "      <td>0</td>\n",
       "      <td>0</td>\n",
       "      <td>0</td>\n",
       "      <td>0</td>\n",
       "      <td>0</td>\n",
       "      <td>1</td>\n",
       "      <td>0</td>\n",
       "      <td>90</td>\n",
       "      <td>...</td>\n",
       "      <td>5</td>\n",
       "      <td>4</td>\n",
       "      <td>13</td>\n",
       "      <td>0</td>\n",
       "      <td>0</td>\n",
       "      <td>0</td>\n",
       "      <td>0</td>\n",
       "      <td>0</td>\n",
       "      <td>0</td>\n",
       "      <td>2</td>\n",
       "    </tr>\n",
       "    <tr>\n",
       "      <th>296</th>\n",
       "      <td>320</td>\n",
       "      <td>0.153191</td>\n",
       "      <td>0</td>\n",
       "      <td>0</td>\n",
       "      <td>0</td>\n",
       "      <td>1</td>\n",
       "      <td>0</td>\n",
       "      <td>0</td>\n",
       "      <td>0</td>\n",
       "      <td>23</td>\n",
       "      <td>...</td>\n",
       "      <td>3</td>\n",
       "      <td>7</td>\n",
       "      <td>9</td>\n",
       "      <td>0</td>\n",
       "      <td>0</td>\n",
       "      <td>0</td>\n",
       "      <td>0</td>\n",
       "      <td>0</td>\n",
       "      <td>0</td>\n",
       "      <td>2</td>\n",
       "    </tr>\n",
       "  </tbody>\n",
       "</table>\n",
       "<p>3 rows × 29 columns</p>\n",
       "</div>"
      ],
      "text/plain": [
       "     anime_id     Score  Movie  Music  ONA  OVA  Special  TV  UNKNOWN  \\\n",
       "11         21  2.587209      0      0    0    0        0   1        0   \n",
       "29         48  0.602828      0      0    0    0        0   1        0   \n",
       "296       320  0.153191      0      0    0    1        0   0        0   \n",
       "\n",
       "     Studio_Index_1  ...  Genre_Index_1  Genre_Index_2  Genre_Index_3  \\\n",
       "11                2  ...              3              5              4   \n",
       "29               90  ...              5              4             13   \n",
       "296              23  ...              3              7              9   \n",
       "\n",
       "     Genre_Index_4  Genre_Index_5  Genre_Index_6  Genre_Index_7  \\\n",
       "11               0              0              0              0   \n",
       "29               0              0              0              0   \n",
       "296              0              0              0              0   \n",
       "\n",
       "     Genre_Index_8  Genre_Index_9  Source_Index_1  \n",
       "11               0              0               3  \n",
       "29               0              0               2  \n",
       "296              0              0               2  \n",
       "\n",
       "[3 rows x 29 columns]"
      ]
     },
     "execution_count": 20,
     "metadata": {},
     "output_type": "execute_result"
    }
   ],
   "source": [
    "anime_metadata_df"
   ]
  },
  {
   "cell_type": "code",
   "execution_count": 21,
   "metadata": {},
   "outputs": [],
   "source": [
    "user_df=pd.DataFrame([[user_gender,user_mean_score,user_age]],columns=['Gender','Mean Score','age'])"
   ]
  },
  {
   "cell_type": "code",
   "execution_count": 22,
   "metadata": {},
   "outputs": [],
   "source": [
    "user_df['age'].fillna(33.691945637815515, inplace=True)"
   ]
  },
  {
   "cell_type": "code",
   "execution_count": 23,
   "metadata": {},
   "outputs": [
    {
     "data": {
      "text/html": [
       "<div>\n",
       "<style scoped>\n",
       "    .dataframe tbody tr th:only-of-type {\n",
       "        vertical-align: middle;\n",
       "    }\n",
       "\n",
       "    .dataframe tbody tr th {\n",
       "        vertical-align: top;\n",
       "    }\n",
       "\n",
       "    .dataframe thead th {\n",
       "        text-align: right;\n",
       "    }\n",
       "</style>\n",
       "<table border=\"1\" class=\"dataframe\">\n",
       "  <thead>\n",
       "    <tr style=\"text-align: right;\">\n",
       "      <th></th>\n",
       "      <th>Gender</th>\n",
       "      <th>Mean Score</th>\n",
       "      <th>age</th>\n",
       "    </tr>\n",
       "  </thead>\n",
       "  <tbody>\n",
       "    <tr>\n",
       "      <th>0</th>\n",
       "      <td>Male</td>\n",
       "      <td>7.37</td>\n",
       "      <td>39</td>\n",
       "    </tr>\n",
       "  </tbody>\n",
       "</table>\n",
       "</div>"
      ],
      "text/plain": [
       "  Gender  Mean Score  age\n",
       "0   Male        7.37   39"
      ]
     },
     "execution_count": 23,
     "metadata": {},
     "output_type": "execute_result"
    }
   ],
   "source": [
    "user_df"
   ]
  },
  {
   "cell_type": "code",
   "execution_count": 24,
   "metadata": {},
   "outputs": [],
   "source": [
    "encoded_gender = gender_encoder.transform(user_df[['Gender']])  # Fit and transform the column\n",
    "encoded_df = pd.DataFrame(encoded_gender.toarray(), columns=gender_encoder.categories_[0])  # Create a DataFrame from the encoded columns\n",
    "\n",
    "user_df=pd.concat([user_df, encoded_df], axis=1)  # Concatenate the original DataFrame with the encoded DataFrame\n",
    "user_df.drop(['Gender'],axis=1,inplace=True)"
   ]
  },
  {
   "cell_type": "code",
   "execution_count": 25,
   "metadata": {},
   "outputs": [
    {
     "data": {
      "text/html": [
       "<div>\n",
       "<style scoped>\n",
       "    .dataframe tbody tr th:only-of-type {\n",
       "        vertical-align: middle;\n",
       "    }\n",
       "\n",
       "    .dataframe tbody tr th {\n",
       "        vertical-align: top;\n",
       "    }\n",
       "\n",
       "    .dataframe thead th {\n",
       "        text-align: right;\n",
       "    }\n",
       "</style>\n",
       "<table border=\"1\" class=\"dataframe\">\n",
       "  <thead>\n",
       "    <tr style=\"text-align: right;\">\n",
       "      <th></th>\n",
       "      <th>Mean Score</th>\n",
       "      <th>age</th>\n",
       "      <th>Female</th>\n",
       "      <th>Male</th>\n",
       "      <th>Non-Binary</th>\n",
       "      <th>Unknown_Gender</th>\n",
       "    </tr>\n",
       "  </thead>\n",
       "  <tbody>\n",
       "    <tr>\n",
       "      <th>0</th>\n",
       "      <td>7.37</td>\n",
       "      <td>39</td>\n",
       "      <td>0</td>\n",
       "      <td>1</td>\n",
       "      <td>0</td>\n",
       "      <td>0</td>\n",
       "    </tr>\n",
       "  </tbody>\n",
       "</table>\n",
       "</div>"
      ],
      "text/plain": [
       "   Mean Score  age  Female  Male  Non-Binary  Unknown_Gender\n",
       "0        7.37   39       0     1           0               0"
      ]
     },
     "execution_count": 25,
     "metadata": {},
     "output_type": "execute_result"
    }
   ],
   "source": [
    "user_df"
   ]
  },
  {
   "cell_type": "code",
   "execution_count": 26,
   "metadata": {},
   "outputs": [
    {
     "name": "stderr",
     "output_type": "stream",
     "text": [
      "c:\\Users\\aunno\\.conda\\envs\\AnimeInsight\\lib\\site-packages\\sklearn\\base.py:457: UserWarning: X has feature names, but PowerTransformer was fitted without feature names\n",
      "  warnings.warn(\n"
     ]
    }
   ],
   "source": [
    "user_df.loc[:,'Mean Score']=mean_score_scaler.transform(user_df[['Mean Score']])"
   ]
  },
  {
   "cell_type": "code",
   "execution_count": 27,
   "metadata": {},
   "outputs": [
    {
     "data": {
      "text/html": [
       "<div>\n",
       "<style scoped>\n",
       "    .dataframe tbody tr th:only-of-type {\n",
       "        vertical-align: middle;\n",
       "    }\n",
       "\n",
       "    .dataframe tbody tr th {\n",
       "        vertical-align: top;\n",
       "    }\n",
       "\n",
       "    .dataframe thead th {\n",
       "        text-align: right;\n",
       "    }\n",
       "</style>\n",
       "<table border=\"1\" class=\"dataframe\">\n",
       "  <thead>\n",
       "    <tr style=\"text-align: right;\">\n",
       "      <th></th>\n",
       "      <th>Mean Score</th>\n",
       "      <th>age</th>\n",
       "      <th>Female</th>\n",
       "      <th>Male</th>\n",
       "      <th>Non-Binary</th>\n",
       "      <th>Unknown_Gender</th>\n",
       "    </tr>\n",
       "  </thead>\n",
       "  <tbody>\n",
       "    <tr>\n",
       "      <th>0</th>\n",
       "      <td>-0.696093</td>\n",
       "      <td>39</td>\n",
       "      <td>0</td>\n",
       "      <td>1</td>\n",
       "      <td>0</td>\n",
       "      <td>0</td>\n",
       "    </tr>\n",
       "  </tbody>\n",
       "</table>\n",
       "</div>"
      ],
      "text/plain": [
       "   Mean Score  age  Female  Male  Non-Binary  Unknown_Gender\n",
       "0   -0.696093   39       0     1           0               0"
      ]
     },
     "execution_count": 27,
     "metadata": {},
     "output_type": "execute_result"
    }
   ],
   "source": [
    "user_df"
   ]
  },
  {
   "cell_type": "code",
   "execution_count": 28,
   "metadata": {},
   "outputs": [
    {
     "data": {
      "text/plain": [
       "3"
      ]
     },
     "execution_count": 28,
     "metadata": {},
     "output_type": "execute_result"
    }
   ],
   "source": [
    "anime_metadata_df.shape[0]"
   ]
  },
  {
   "cell_type": "code",
   "execution_count": 29,
   "metadata": {},
   "outputs": [],
   "source": [
    "user_df=user_df.reindex(user_df.index.repeat(anime_metadata_df.shape[0]))"
   ]
  },
  {
   "cell_type": "code",
   "execution_count": 30,
   "metadata": {},
   "outputs": [],
   "source": [
    "user_input=user_df.to_numpy()"
   ]
  },
  {
   "cell_type": "code",
   "execution_count": 34,
   "metadata": {},
   "outputs": [],
   "source": [
    "anime_columns=anime_metadata_df.iloc[:,1:1+anime_input_shape].to_numpy(dtype='float32')\n",
    "anime_studio_embedding_columns = anime_metadata_df.iloc[:,1+anime_input_shape:1+anime_input_shape+studio_max_length].to_numpy()\n",
    "anime_genre_embedding_columns= anime_metadata_df.iloc[:,1+anime_input_shape+studio_max_length:1+anime_input_shape+studio_max_length+genre_max_length].to_numpy()\n",
    "anime_source_embedding_columns = anime_metadata_df.iloc[:,-1:].to_numpy()"
   ]
  },
  {
   "cell_type": "code",
   "execution_count": 35,
   "metadata": {},
   "outputs": [
    {
     "data": {
      "text/plain": [
       "array([[2.5872092 , 0.        , 0.        , 0.        , 0.        ,\n",
       "        0.        , 1.        , 0.        ],\n",
       "       [0.60282815, 0.        , 0.        , 0.        , 0.        ,\n",
       "        0.        , 1.        , 0.        ],\n",
       "       [0.15319087, 0.        , 0.        , 0.        , 1.        ,\n",
       "        0.        , 0.        , 0.        ]], dtype=float32)"
      ]
     },
     "execution_count": 35,
     "metadata": {},
     "output_type": "execute_result"
    }
   ],
   "source": [
    "anime_columns"
   ]
  },
  {
   "cell_type": "code",
   "execution_count": 36,
   "metadata": {},
   "outputs": [
    {
     "data": {
      "text/plain": [
       "array([[ 3,  5,  4,  0,  0,  0,  0,  0,  0],\n",
       "       [ 5,  4, 13,  0,  0,  0,  0,  0,  0],\n",
       "       [ 3,  7,  9,  0,  0,  0,  0,  0,  0]])"
      ]
     },
     "execution_count": 36,
     "metadata": {},
     "output_type": "execute_result"
    }
   ],
   "source": [
    "anime_genre_embedding_columns"
   ]
  },
  {
   "cell_type": "code",
   "execution_count": 37,
   "metadata": {},
   "outputs": [
    {
     "data": {
      "text/plain": [
       "array([[ 2,  0,  0,  0,  0,  0,  0,  0,  0,  0],\n",
       "       [90,  0,  0,  0,  0,  0,  0,  0,  0,  0],\n",
       "       [23,  0,  0,  0,  0,  0,  0,  0,  0,  0]])"
      ]
     },
     "execution_count": 37,
     "metadata": {},
     "output_type": "execute_result"
    }
   ],
   "source": [
    "anime_studio_embedding_columns"
   ]
  },
  {
   "cell_type": "code",
   "execution_count": 38,
   "metadata": {},
   "outputs": [
    {
     "data": {
      "text/plain": [
       "array([[3],\n",
       "       [2],\n",
       "       [2]])"
      ]
     },
     "execution_count": 38,
     "metadata": {},
     "output_type": "execute_result"
    }
   ],
   "source": [
    "anime_source_embedding_columns"
   ]
  },
  {
   "cell_type": "code",
   "execution_count": 39,
   "metadata": {},
   "outputs": [],
   "source": [
    "input={'user_input':user_input, 'anime_input':anime_columns,'anime_genre_embedding_input':anime_genre_embedding_columns,'anime_studio_embedding_input':anime_studio_embedding_columns,'anime_source_embedding_input':anime_source_embedding_columns}"
   ]
  },
  {
   "cell_type": "code",
   "execution_count": 40,
   "metadata": {},
   "outputs": [],
   "source": [
    "ratings=model(input)"
   ]
  },
  {
   "cell_type": "code",
   "execution_count": 41,
   "metadata": {},
   "outputs": [
    {
     "data": {
      "text/plain": [
       "<tf.Tensor: shape=(3, 1), dtype=float32, numpy=\n",
       "array([[ 0.2614975 ],\n",
       "       [-0.5352173 ],\n",
       "       [-0.59625983]], dtype=float32)>"
      ]
     },
     "execution_count": 41,
     "metadata": {},
     "output_type": "execute_result"
    }
   ],
   "source": [
    "ratings"
   ]
  },
  {
   "cell_type": "code",
   "execution_count": 42,
   "metadata": {},
   "outputs": [
    {
     "data": {
      "text/plain": [
       "array([[8.18147972],\n",
       "       [6.93125094],\n",
       "       [6.82658651]])"
      ]
     },
     "execution_count": 42,
     "metadata": {},
     "output_type": "execute_result"
    }
   ],
   "source": [
    "rating_scaler.inverse_transform(ratings)"
   ]
  },
  {
   "cell_type": "code",
   "execution_count": 43,
   "metadata": {},
   "outputs": [
    {
     "name": "stderr",
     "output_type": "stream",
     "text": [
      "C:\\Users\\aunno\\AppData\\Local\\Temp\\ipykernel_3256\\3911218047.py:1: UserWarning: Boolean Series key will be reindexed to match DataFrame index.\n",
      "  (rating_df[rating_df['anime_id'].isin([21,48,320])])[rating_df['user_id']==1]\n"
     ]
    },
    {
     "data": {
      "text/html": [
       "<div>\n",
       "<style scoped>\n",
       "    .dataframe tbody tr th:only-of-type {\n",
       "        vertical-align: middle;\n",
       "    }\n",
       "\n",
       "    .dataframe tbody tr th {\n",
       "        vertical-align: top;\n",
       "    }\n",
       "\n",
       "    .dataframe thead th {\n",
       "        text-align: right;\n",
       "    }\n",
       "</style>\n",
       "<table border=\"1\" class=\"dataframe\">\n",
       "  <thead>\n",
       "    <tr style=\"text-align: right;\">\n",
       "      <th></th>\n",
       "      <th>user_id</th>\n",
       "      <th>Username</th>\n",
       "      <th>anime_id</th>\n",
       "      <th>Anime Title</th>\n",
       "      <th>rating</th>\n",
       "    </tr>\n",
       "  </thead>\n",
       "  <tbody>\n",
       "    <tr>\n",
       "      <th>0</th>\n",
       "      <td>1</td>\n",
       "      <td>Xinil</td>\n",
       "      <td>21</td>\n",
       "      <td>One Piece</td>\n",
       "      <td>9</td>\n",
       "    </tr>\n",
       "    <tr>\n",
       "      <th>1</th>\n",
       "      <td>1</td>\n",
       "      <td>Xinil</td>\n",
       "      <td>48</td>\n",
       "      <td>.hack//Sign</td>\n",
       "      <td>7</td>\n",
       "    </tr>\n",
       "    <tr>\n",
       "      <th>2</th>\n",
       "      <td>1</td>\n",
       "      <td>Xinil</td>\n",
       "      <td>320</td>\n",
       "      <td>A Kite</td>\n",
       "      <td>5</td>\n",
       "    </tr>\n",
       "  </tbody>\n",
       "</table>\n",
       "</div>"
      ],
      "text/plain": [
       "   user_id Username  anime_id  Anime Title  rating\n",
       "0        1    Xinil        21    One Piece       9\n",
       "1        1    Xinil        48  .hack//Sign       7\n",
       "2        1    Xinil       320       A Kite       5"
      ]
     },
     "execution_count": 43,
     "metadata": {},
     "output_type": "execute_result"
    }
   ],
   "source": [
    "(rating_df[rating_df['anime_id'].isin([21,48,320])])[rating_df['user_id']==1]"
   ]
  },
  {
   "cell_type": "code",
   "execution_count": null,
   "metadata": {},
   "outputs": [],
   "source": []
  }
 ],
 "metadata": {
  "kernelspec": {
   "display_name": "AnimeInsight",
   "language": "python",
   "name": "python3"
  },
  "language_info": {
   "codemirror_mode": {
    "name": "ipython",
    "version": 3
   },
   "file_extension": ".py",
   "mimetype": "text/x-python",
   "name": "python",
   "nbconvert_exporter": "python",
   "pygments_lexer": "ipython3",
   "version": "3.10.13"
  }
 },
 "nbformat": 4,
 "nbformat_minor": 2
}
