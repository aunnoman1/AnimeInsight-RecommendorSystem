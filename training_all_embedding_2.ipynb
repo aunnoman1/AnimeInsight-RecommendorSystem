{
 "cells": [
  {
   "cell_type": "code",
   "execution_count": 1,
   "metadata": {},
   "outputs": [],
   "source": [
    "import pandas as pd\n",
    "import numpy as np\n",
    "import matplotlib.pyplot as plt\n",
    "from sklearn.preprocessing import StandardScaler, OneHotEncoder\n",
    "from sklearn.compose import ColumnTransformer\n",
    "from sklearn.model_selection import train_test_split\n",
    "import tensorflow as tf\n",
    "from tensorflow.keras.layers import Input, Dense, Embedding, Concatenate,Dot\n",
    "from tensorflow.keras.models import Model\n",
    "from tensorflow.keras import mixed_precision\n",
    "import tensorflow.data\n",
    "from tensorflow.keras.regularizers import L2\n",
    "from joblib import load\n",
    "import pydot\n",
    "from datetime import datetime\n",
    "from thefuzz import process"
   ]
  },
  {
   "cell_type": "code",
   "execution_count": 2,
   "metadata": {},
   "outputs": [],
   "source": [
    "@tf.keras.utils.register_keras_serializable()\n",
    "def split_func(input_str):\n",
    "  return tf.strings.split(input_str, sep=\", \")"
   ]
  },
  {
   "cell_type": "code",
   "execution_count": 3,
   "metadata": {},
   "outputs": [
    {
     "name": "stdout",
     "output_type": "stream",
     "text": [
      "WARNING:tensorflow:No training configuration found in save file, so the model was *not* compiled. Compile it manually.\n"
     ]
    },
    {
     "data": {
      "text/plain": [
       "914"
      ]
     },
     "execution_count": 3,
     "metadata": {},
     "output_type": "execute_result"
    }
   ],
   "source": [
    "\n",
    "studio_vectorize_layer_model=tf.keras.models.load_model('intermediate_data_all_embeddings/studio_vectorize_layer_model')\n",
    "studio_vectorize_layer = studio_vectorize_layer_model.layers[0]\n",
    "\n",
    "num_studios=len(studio_vectorize_layer.get_vocabulary())\n",
    "num_studios"
   ]
  },
  {
   "cell_type": "code",
   "execution_count": 4,
   "metadata": {},
   "outputs": [
    {
     "name": "stdout",
     "output_type": "stream",
     "text": [
      "WARNING:tensorflow:No training configuration found in save file, so the model was *not* compiled. Compile it manually.\n"
     ]
    },
    {
     "data": {
      "text/plain": [
       "23"
      ]
     },
     "execution_count": 4,
     "metadata": {},
     "output_type": "execute_result"
    }
   ],
   "source": [
    "genre_vectorize_layer_model=tf.keras.models.load_model('intermediate_data_all_embeddings/genre_vectorize_layer_model')\n",
    "genre_vectorize_layer = genre_vectorize_layer_model.layers[0]\n",
    "\n",
    "num_genres=len(genre_vectorize_layer.get_vocabulary())\n",
    "num_genres"
   ]
  },
  {
   "cell_type": "code",
   "execution_count": 5,
   "metadata": {},
   "outputs": [
    {
     "name": "stdout",
     "output_type": "stream",
     "text": [
      "WARNING:tensorflow:No training configuration found in save file, so the model was *not* compiled. Compile it manually.\n"
     ]
    },
    {
     "data": {
      "text/plain": [
       "19"
      ]
     },
     "execution_count": 5,
     "metadata": {},
     "output_type": "execute_result"
    }
   ],
   "source": [
    "source_vectorize_layer_model=tf.keras.models.load_model('intermediate_data_all_embeddings/source_vectorize_layer_model')\n",
    "source_vectorize_layer = source_vectorize_layer_model.layers[0]\n",
    "\n",
    "\n",
    "num_sources=len(source_vectorize_layer.get_vocabulary())\n",
    "num_sources"
   ]
  },
  {
   "cell_type": "code",
   "execution_count": 6,
   "metadata": {},
   "outputs": [],
   "source": [
    "user_input_shape=6"
   ]
  },
  {
   "cell_type": "code",
   "execution_count": 7,
   "metadata": {},
   "outputs": [],
   "source": [
    "anime_input_shape=8"
   ]
  },
  {
   "cell_type": "code",
   "execution_count": 8,
   "metadata": {},
   "outputs": [],
   "source": [
    "studio_max_length = 10"
   ]
  },
  {
   "cell_type": "code",
   "execution_count": 9,
   "metadata": {},
   "outputs": [],
   "source": [
    "genre_max_length=9"
   ]
  },
  {
   "cell_type": "code",
   "execution_count": 10,
   "metadata": {},
   "outputs": [],
   "source": [
    "source_max_length=1"
   ]
  },
  {
   "cell_type": "code",
   "execution_count": 2,
   "metadata": {},
   "outputs": [],
   "source": [
    "df=np.load('F:/merged.npy',mmap_mode='r+')"
   ]
  },
  {
   "cell_type": "code",
   "execution_count": 3,
   "metadata": {},
   "outputs": [
    {
     "data": {
      "text/plain": [
       "memmap([ 1.4194900e+05,  2.0000000e+01,  1.2018528e+00, -2.4250230e-01,\n",
       "         3.2000000e+01,  0.0000000e+00,  0.0000000e+00,  0.0000000e+00,\n",
       "         1.0000000e+00,  1.8112249e+00,  0.0000000e+00,  0.0000000e+00,\n",
       "         0.0000000e+00,  0.0000000e+00,  0.0000000e+00,  1.0000000e+00,\n",
       "         0.0000000e+00,  9.0000000e+00,  0.0000000e+00,  0.0000000e+00,\n",
       "         0.0000000e+00,  0.0000000e+00,  0.0000000e+00,  0.0000000e+00,\n",
       "         3.0000000e+00,  5.0000000e+00,  2.0000000e+00,  2.5000000e+01,\n",
       "         3.1000000e+01,  8.0000000e+00,  0.0000000e+00,  0.0000000e+00,\n",
       "         0.0000000e+00,  0.0000000e+00,  0.0000000e+00,  0.0000000e+00,\n",
       "         0.0000000e+00,  2.0000000e+00], dtype=float32)"
      ]
     },
     "execution_count": 3,
     "metadata": {},
     "output_type": "execute_result"
    }
   ],
   "source": [
    "df[0]"
   ]
  },
  {
   "cell_type": "code",
   "execution_count": 4,
   "metadata": {},
   "outputs": [
    {
     "data": {
      "text/plain": [
       "memmap([[ 1.4194900e+05,  2.0000000e+01,  1.2018528e+00, ...,\n",
       "          0.0000000e+00,  0.0000000e+00,  2.0000000e+00],\n",
       "        [ 3.3784000e+05,  5.3560000e+03,  9.4899648e-01, ...,\n",
       "          0.0000000e+00,  0.0000000e+00,  5.0000000e+00],\n",
       "        [ 1.8695600e+05,  9.2600000e+03, -1.1260273e+00, ...,\n",
       "          0.0000000e+00,  0.0000000e+00,  7.0000000e+00],\n",
       "        ...,\n",
       "        [ 3.5065600e+05,  1.5750000e+03,  1.0801682e+00, ...,\n",
       "          0.0000000e+00,  0.0000000e+00,  3.0000000e+00],\n",
       "        [ 1.8338100e+05,  3.7450000e+04,  1.2018528e+00, ...,\n",
       "          0.0000000e+00,  0.0000000e+00,  7.0000000e+00],\n",
       "        [ 5.3598000e+04,  1.6011000e+04,  4.7535399e-01, ...,\n",
       "          0.0000000e+00,  0.0000000e+00,  7.0000000e+00]], dtype=float32)"
      ]
     },
     "execution_count": 4,
     "metadata": {},
     "output_type": "execute_result"
    }
   ],
   "source": [
    "df"
   ]
  },
  {
   "cell_type": "code",
   "execution_count": 12,
   "metadata": {},
   "outputs": [],
   "source": [
    "np.random.shuffle(df)"
   ]
  },
  {
   "cell_type": "code",
   "execution_count": 14,
   "metadata": {},
   "outputs": [],
   "source": [
    "size=df.shape[0]"
   ]
  },
  {
   "cell_type": "code",
   "execution_count": 15,
   "metadata": {},
   "outputs": [],
   "source": [
    "dfhalf1=df[0:int(size/2),:]"
   ]
  },
  {
   "cell_type": "code",
   "execution_count": 16,
   "metadata": {},
   "outputs": [
    {
     "data": {
      "text/plain": [
       "(29984240, 38)"
      ]
     },
     "execution_count": 16,
     "metadata": {},
     "output_type": "execute_result"
    }
   ],
   "source": [
    "dfhalf1.shape"
   ]
  },
  {
   "cell_type": "code",
   "execution_count": 17,
   "metadata": {},
   "outputs": [],
   "source": [
    "np.save('F:/merged_half1.npy',dfhalf1)"
   ]
  },
  {
   "cell_type": "code",
   "execution_count": 18,
   "metadata": {},
   "outputs": [],
   "source": [
    "dfhalf2=df[int(size/2):,:]"
   ]
  },
  {
   "cell_type": "code",
   "execution_count": 19,
   "metadata": {},
   "outputs": [
    {
     "data": {
      "text/plain": [
       "(29984240, 38)"
      ]
     },
     "execution_count": 19,
     "metadata": {},
     "output_type": "execute_result"
    }
   ],
   "source": [
    "dfhalf2.shape"
   ]
  },
  {
   "cell_type": "code",
   "execution_count": 20,
   "metadata": {},
   "outputs": [],
   "source": [
    "np.save('F:/merged_half2.npy',dfhalf2)"
   ]
  },
  {
   "cell_type": "code",
   "execution_count": 24,
   "metadata": {},
   "outputs": [
    {
     "data": {
      "text/plain": [
       "(59968480, 38)"
      ]
     },
     "execution_count": 24,
     "metadata": {},
     "output_type": "execute_result"
    }
   ],
   "source": [
    "df.shape"
   ]
  },
  {
   "cell_type": "code",
   "execution_count": 11,
   "metadata": {},
   "outputs": [],
   "source": [
    "df=np.load('F:/merged_half1.npy')"
   ]
  },
  {
   "cell_type": "code",
   "execution_count": 11,
   "metadata": {},
   "outputs": [],
   "source": [
    "df=np.load('intermediate_data_all_embeddings/merged.npy')"
   ]
  },
  {
   "cell_type": "code",
   "execution_count": 12,
   "metadata": {},
   "outputs": [
    {
     "data": {
      "text/plain": [
       "(23793954, 37)"
      ]
     },
     "execution_count": 12,
     "metadata": {},
     "output_type": "execute_result"
    }
   ],
   "source": [
    "df.shape"
   ]
  },
  {
   "cell_type": "code",
   "execution_count": 13,
   "metadata": {},
   "outputs": [],
   "source": [
    "user_metadata_dataset = tf.data.Dataset.from_tensor_slices(df[:,3:9])\n",
    "anime_metadata_dataset = tf.data.Dataset.from_tensor_slices(df[:,9:9+anime_input_shape])\n",
    "anime_studio_embedding_dataset = tf.data.Dataset.from_tensor_slices(df[:,9+anime_input_shape:9+anime_input_shape+studio_max_length])\n",
    "anime_genre_embedding_dataset = tf.data.Dataset.from_tensor_slices(df[:,9+anime_input_shape+studio_max_length:9+anime_input_shape+studio_max_length+genre_max_length])\n",
    "anime_source_embedding_dataset = tf.data.Dataset.from_tensor_slices(df[:,-1:])\n",
    "ratings_dataset = tf.data.Dataset.from_tensor_slices(df[:,2])"
   ]
  },
  {
   "cell_type": "code",
   "execution_count": 14,
   "metadata": {},
   "outputs": [],
   "source": [
    "dataset = tf.data.Dataset.zip(({'user_input':user_metadata_dataset, 'anime_input':anime_metadata_dataset,'anime_genre_embedding_input':anime_genre_embedding_dataset,'anime_studio_embedding_input':anime_studio_embedding_dataset,'anime_source_embedding_input':anime_source_embedding_dataset}, ratings_dataset))\n"
   ]
  },
  {
   "cell_type": "code",
   "execution_count": 14,
   "metadata": {},
   "outputs": [
    {
     "name": "stdout",
     "output_type": "stream",
     "text": [
      "Sample Row: ({'user_input': <tf.Tensor: shape=(6,), dtype=float32, numpy=\n",
      "array([-0.2425023, 32.       ,  0.       ,  0.       ,  0.       ,\n",
      "        1.       ], dtype=float32)>, 'anime_input': <tf.Tensor: shape=(8,), dtype=float32, numpy=\n",
      "array([1.8112249, 0.       , 0.       , 0.       , 0.       , 0.       ,\n",
      "       1.       , 0.       ], dtype=float32)>, 'anime_genre_embedding_input': <tf.Tensor: shape=(13,), dtype=float32, numpy=\n",
      "array([ 9.,  0.,  0.,  0.,  0.,  0.,  0.,  3.,  5.,  2., 25., 31.,  8.],\n",
      "      dtype=float32)>, 'anime_studio_embedding_input': <tf.Tensor: shape=(7,), dtype=float32, numpy=array([0., 0., 0., 0., 0., 0., 0.], dtype=float32)>, 'anime_source_embedding_input': <tf.Tensor: shape=(1,), dtype=float32, numpy=array([2.], dtype=float32)>}, <tf.Tensor: shape=(), dtype=float32, numpy=1.2018528>)\n"
     ]
    }
   ],
   "source": [
    "# Take one element from the dataset\n",
    "sample_row = next(iter(dataset.take(1)))\n",
    "\n",
    "# Print the sample row\n",
    "print(\"Sample Row:\", sample_row)"
   ]
  },
  {
   "cell_type": "code",
   "execution_count": 15,
   "metadata": {},
   "outputs": [],
   "source": [
    "size = dataset.cardinality().numpy()"
   ]
  },
  {
   "cell_type": "code",
   "execution_count": 16,
   "metadata": {},
   "outputs": [
    {
     "data": {
      "text/plain": [
       "23793954"
      ]
     },
     "execution_count": 16,
     "metadata": {},
     "output_type": "execute_result"
    }
   ],
   "source": [
    "size"
   ]
  },
  {
   "cell_type": "code",
   "execution_count": 17,
   "metadata": {},
   "outputs": [],
   "source": [
    "#dataset=dataset.shuffle(int(size ))\n",
    "train_size = int(0.99 * size)  # Assuming an 80-10-10 split\n",
    "val_size =int(0.005*size)\n",
    "train_dataset = dataset.take(train_size)    \n",
    "val_dataset = dataset.skip(train_size).take(val_size)\n",
    "test_dataset1 = dataset.skip(train_size).skip(val_size)\n"
   ]
  },
  {
   "cell_type": "code",
   "execution_count": 18,
   "metadata": {},
   "outputs": [],
   "source": [
    "batch_size = 16384\n",
    "val_dataset=val_dataset.shuffle(2*batch_size)\n",
    "val_dataset = val_dataset.batch(batch_size)\n",
    "val_dataset = val_dataset.prefetch(buffer_size=tf.data.AUTOTUNE)"
   ]
  },
  {
   "cell_type": "code",
   "execution_count": 19,
   "metadata": {},
   "outputs": [
    {
     "data": {
      "text/plain": [
       "<tf.Tensor: shape=(), dtype=int64, numpy=8>"
      ]
     },
     "execution_count": 19,
     "metadata": {},
     "output_type": "execute_result"
    }
   ],
   "source": [
    "val_dataset.cardinality()"
   ]
  },
  {
   "cell_type": "code",
   "execution_count": 20,
   "metadata": {},
   "outputs": [],
   "source": [
    "batch_size = 16384\n",
    "train_dataset=train_dataset.shuffle(2*batch_size)\n",
    "train_dataset = train_dataset.batch(batch_size)\n",
    "train_dataset = train_dataset.prefetch(buffer_size=tf.data.AUTOTUNE)"
   ]
  },
  {
   "cell_type": "code",
   "execution_count": 21,
   "metadata": {},
   "outputs": [
    {
     "data": {
      "text/plain": [
       "<tf.Tensor: shape=(), dtype=int64, numpy=1438>"
      ]
     },
     "execution_count": 21,
     "metadata": {},
     "output_type": "execute_result"
    }
   ],
   "source": [
    "train_dataset.cardinality()"
   ]
  },
  {
   "cell_type": "code",
   "execution_count": 22,
   "metadata": {},
   "outputs": [],
   "source": [
    "def user_model(input_shape):\n",
    "    input=Input(shape=(input_shape))\n",
    "    x=Dense(32,activation='relu' )(input)\n",
    "    # x=Dense(128,activation='relu')(x)\n",
    "    # x=Dense(64,activation='relu')(x)\n",
    "    output=Dense(16,activation='relu')(x)\n",
    "    model = tf.keras.Model(inputs=input, outputs=output)\n",
    "    return model\n",
    "    \n",
    "    \n",
    "    \n"
   ]
  },
  {
   "cell_type": "code",
   "execution_count": 23,
   "metadata": {},
   "outputs": [],
   "source": [
    "def anime_model(input_shape):\n",
    "    input = Input(shape=(input_shape,),name='anime_inputs')\n",
    "    input_genre= Input(shape=(genre_max_length,),name='anime_genre_embeddings_inputs')\n",
    "    input_studio= Input(shape=(studio_max_length,),name='anime_studio_embeddings_inputs')\n",
    "    input_source= Input(shape=(source_max_length,),name='anime_source_embeddings_inputs')\n",
    "    genre_embedding=tf.keras.layers.Embedding(input_dim=num_genres,output_dim=16,mask_zero=True)(input_genre)\n",
    "    genre_flattened = tf.keras.layers.Flatten()(genre_embedding)\n",
    "   \n",
    "    studio_embedding=tf.keras.layers.Embedding(input_dim=num_studios,output_dim=16,mask_zero=True)(input_studio)\n",
    "    studio_flattened = tf.keras.layers.Flatten()(studio_embedding)\n",
    "    \n",
    "    source_embedding=tf.keras.layers.Embedding(input_dim=num_sources,output_dim=16,mask_zero=True)(input_source)\n",
    "    source_flattened = tf.keras.layers.Flatten()(source_embedding)\n",
    "    \n",
    "    x=Concatenate()([input,genre_flattened,studio_flattened,source_flattened])\n",
    "    # x=Dense(128,activation='relu')(x)\n",
    "    # x=Dense(64,activation='relu')(x)\n",
    "    x=Dense(32,activation='relu')(x)\n",
    "    output=Dense(16,activation='relu')(x)\n",
    "    model=Model(inputs=[input,input_genre,input_studio,input_source],outputs=output)\n",
    "    return model\n"
   ]
  },
  {
   "cell_type": "code",
   "execution_count": 24,
   "metadata": {},
   "outputs": [],
   "source": [
    "def merge_models(model_1, model_2, user_input_shape , anime_input_shape):\n",
    "    user_inputs = tf.keras.Input(shape=(user_input_shape,),name='user_input')\n",
    "    anime_inputs=tf.keras.Input(shape=(anime_input_shape,),name='anime_input')\n",
    "    anime_genre_embeddings_inputs=tf.keras.Input(shape=(genre_max_length),name='anime_genre_embedding_input')\n",
    "    anime_studio_embeddings_inputs=tf.keras.Input(shape=(studio_max_length),name='anime_studio_embedding_input')\n",
    "    anime_source_embeddings_inputs=tf.keras.Input(shape=(source_max_length),name='anime_source_embedding_input')\n",
    "    output_1 = model_1(user_inputs)\n",
    "    output_2 = model_2([anime_inputs,anime_genre_embeddings_inputs,anime_studio_embeddings_inputs,anime_source_embeddings_inputs])\n",
    "    merged = Dot(1)([output_1, output_2])\n",
    "    \n",
    "    x=Dense(16,activation='relu')(merged)\n",
    "    # x=Dense(64,activation='relu')(x)\n",
    "    # x=Dense(32,activation='relu')(x)\n",
    "    # x=Dense(16,activation='relu')(x)\n",
    "    x=Dense(8,activation='relu')(x)\n",
    "    \n",
    "    outputs = Dense(1,activation='linear')(x)\n",
    "    model = tf.keras.Model(inputs=[user_inputs,anime_inputs,anime_genre_embeddings_inputs,anime_studio_embeddings_inputs,anime_source_embeddings_inputs], outputs=outputs)\n",
    "    return model"
   ]
  },
  {
   "cell_type": "code",
   "execution_count": 25,
   "metadata": {},
   "outputs": [],
   "source": [
    "model1=user_model(user_input_shape)\n",
    "model2=anime_model(anime_input_shape)\n",
    "model3=merge_models(model1,model2,user_input_shape,anime_input_shape)"
   ]
  },
  {
   "cell_type": "code",
   "execution_count": 26,
   "metadata": {},
   "outputs": [
    {
     "data": {
      "text/plain": [
       "[array([[ 6.91485405e-03, -2.73878928e-02, -1.93721298e-02,\n",
       "          2.32989453e-02, -4.23332825e-02, -2.30582803e-03,\n",
       "          7.76128843e-03, -2.49066707e-02,  1.70747899e-02,\n",
       "          3.12689655e-02,  1.59975030e-02,  4.84030582e-02,\n",
       "          1.54096149e-02, -1.92909595e-02, -9.96045023e-03,\n",
       "          6.93514198e-03],\n",
       "        [-3.36411744e-02, -4.52087522e-02,  1.22640021e-02,\n",
       "          1.69651620e-02,  1.74281485e-02, -1.01978891e-02,\n",
       "         -2.52470374e-02,  4.39139642e-02,  2.92385109e-02,\n",
       "         -1.03427880e-02,  3.15418877e-02,  1.45793445e-02,\n",
       "         -3.49535830e-02,  2.66151503e-03, -3.76952291e-02,\n",
       "          1.00169070e-02],\n",
       "        [-3.30216177e-02,  1.63531788e-02, -3.26029658e-02,\n",
       "         -2.26198081e-02, -4.56374772e-02,  4.39175405e-02,\n",
       "         -3.46436128e-02, -1.00123063e-02, -4.55418006e-02,\n",
       "          3.58743183e-02, -7.46204704e-03, -4.71622832e-02,\n",
       "         -4.95786592e-03, -9.74364206e-03, -4.95126843e-02,\n",
       "          3.20444815e-02],\n",
       "        [-1.40916184e-03,  4.57731821e-02, -1.24799833e-02,\n",
       "         -3.02321669e-02, -4.68321890e-03, -1.36431456e-02,\n",
       "         -4.97790352e-02,  4.59348299e-02, -6.45915419e-03,\n",
       "          1.19189508e-02,  4.28830497e-02,  4.61483710e-02,\n",
       "          2.14638449e-02, -3.60723622e-02, -4.58150394e-02,\n",
       "         -4.72270623e-02],\n",
       "        [ 1.06807798e-03,  3.05524729e-02, -4.00304794e-03,\n",
       "          3.88007648e-02,  1.09685548e-02, -3.52691896e-02,\n",
       "         -1.34817958e-02,  4.17403020e-02,  6.30797073e-03,\n",
       "         -1.94044244e-02,  3.68192680e-02,  5.15005738e-03,\n",
       "          2.25371011e-02, -3.78637686e-02,  4.74550463e-02,\n",
       "         -3.50335985e-03],\n",
       "        [-2.89355870e-02,  6.47854805e-03, -3.37066874e-02,\n",
       "         -1.45590082e-02, -4.77828830e-03,  2.29703076e-02,\n",
       "          2.36362554e-02,  3.01706791e-03,  2.13184841e-02,\n",
       "         -4.75132838e-02,  1.53594352e-02, -4.18483615e-02,\n",
       "         -3.86607274e-02,  7.98989087e-04,  2.21691169e-02,\n",
       "          2.79375426e-02],\n",
       "        [ 1.02500431e-02,  4.57412489e-02, -2.82745436e-03,\n",
       "          6.95626810e-03, -4.39719930e-02, -3.85221727e-02,\n",
       "          3.17778103e-02,  3.14262025e-02, -4.43157330e-02,\n",
       "          2.16046683e-02, -2.49503609e-02,  2.21979283e-02,\n",
       "          3.74380462e-02,  4.09628637e-02, -3.33885439e-02,\n",
       "         -3.64066362e-02],\n",
       "        [ 2.81765312e-03,  1.43353678e-02, -2.92705782e-02,\n",
       "          4.70103510e-02,  1.53658874e-02, -3.77987027e-02,\n",
       "         -2.64017656e-03,  2.47876085e-02, -2.59077549e-02,\n",
       "         -3.23261246e-02,  2.37245075e-02,  4.43704389e-02,\n",
       "          4.22265194e-02,  6.57828897e-03,  4.57263701e-02,\n",
       "         -3.81676182e-02],\n",
       "        [ 1.91585757e-02,  4.42731380e-03, -6.95586205e-05,\n",
       "          3.77102233e-02, -1.17892250e-02,  3.11383717e-02,\n",
       "          3.92198004e-02,  4.43403833e-02,  2.53121592e-02,\n",
       "          4.72456105e-02, -4.05993350e-02, -4.80090976e-02,\n",
       "         -6.15272671e-03, -4.54117656e-02, -3.15362215e-03,\n",
       "          4.31836769e-03],\n",
       "        [ 4.79324497e-02, -3.93462069e-02,  8.63338634e-03,\n",
       "         -1.62184238e-02, -2.68959757e-02, -8.97489488e-04,\n",
       "          3.95650007e-02, -1.40515342e-02,  2.12757662e-03,\n",
       "         -3.29062939e-02,  3.86846773e-02,  2.16873921e-02,\n",
       "         -1.15952119e-02,  4.66452949e-02,  3.25267352e-02,\n",
       "         -4.68830243e-02],\n",
       "        [-1.76511630e-02, -1.26720294e-02, -4.90124226e-02,\n",
       "         -1.13039240e-02, -3.52216884e-03, -1.01625919e-03,\n",
       "         -1.93480738e-02, -2.13067289e-02, -1.75795183e-02,\n",
       "          4.30571698e-02, -2.95672901e-02, -1.56255476e-02,\n",
       "         -3.95368449e-02,  1.14964843e-02,  1.91347264e-02,\n",
       "          3.76229919e-02],\n",
       "        [-5.60327619e-03, -4.47020046e-02,  4.97710593e-02,\n",
       "          3.78907211e-02,  3.51102836e-02, -4.69544195e-02,\n",
       "          5.45198843e-03, -6.15467876e-03,  2.68782489e-02,\n",
       "          2.61687972e-02, -5.39825112e-03, -3.04342043e-02,\n",
       "          1.85643099e-02,  1.54416673e-02,  1.26676634e-03,\n",
       "         -6.79580122e-03],\n",
       "        [ 4.74183671e-02, -2.97269709e-02, -3.89345288e-02,\n",
       "          4.26158570e-02, -4.73470613e-03,  3.13316621e-02,\n",
       "          4.70462479e-02, -1.20399371e-02,  1.39461644e-02,\n",
       "         -6.45466894e-03, -3.12162880e-02, -4.40413468e-02,\n",
       "          1.79320462e-02, -3.27580199e-02, -5.00776619e-03,\n",
       "         -1.71124116e-02],\n",
       "        [ 4.99956645e-02,  3.39683406e-02,  1.72856487e-02,\n",
       "          5.43219969e-03,  4.95624542e-03, -2.56844293e-02,\n",
       "          3.63279022e-02, -3.87614965e-03, -3.83274332e-02,\n",
       "          3.30048315e-02, -1.57732368e-02,  3.44859399e-02,\n",
       "         -3.94926779e-02, -4.79496010e-02, -2.37664822e-02,\n",
       "          1.28694065e-02],\n",
       "        [-2.76483055e-02, -2.75726914e-02, -1.21761449e-02,\n",
       "         -2.36040354e-03,  3.24092060e-03, -1.12875812e-02,\n",
       "         -2.72966269e-02,  1.59862153e-02,  2.21470036e-02,\n",
       "         -1.70709603e-02, -4.37951572e-02,  8.03799555e-03,\n",
       "          5.81686571e-03, -4.20334116e-02, -4.18557636e-02,\n",
       "         -1.34636275e-02],\n",
       "        [ 1.38188042e-02, -3.90165560e-02,  1.51856802e-02,\n",
       "          4.02624719e-02,  2.48606130e-03, -3.22114602e-02,\n",
       "          4.39972542e-02,  1.52355321e-02,  2.35570557e-02,\n",
       "         -3.99774425e-02,  3.06635611e-02,  4.68050875e-02,\n",
       "         -3.79153378e-02,  2.79829539e-02, -1.52646080e-02,\n",
       "         -3.50804217e-02],\n",
       "        [-3.10562849e-02, -2.55958922e-02,  3.09305079e-02,\n",
       "          2.73050927e-02,  4.64524068e-02,  5.16500324e-03,\n",
       "         -3.74510288e-02,  9.05476883e-03, -9.79896635e-03,\n",
       "          2.33190097e-02, -2.99826860e-02, -2.57420428e-02,\n",
       "          2.92916559e-02, -3.13853249e-02, -3.35395336e-03,\n",
       "         -3.29653025e-02],\n",
       "        [-4.51247692e-02,  1.09335296e-02, -3.14105041e-02,\n",
       "         -2.05272082e-02,  2.95912288e-02,  1.94737427e-02,\n",
       "          1.85570978e-02, -2.00701114e-02,  2.35377066e-02,\n",
       "          2.14136876e-02, -3.22935134e-02,  6.98673725e-03,\n",
       "          2.30230391e-04, -1.59047358e-02,  4.74282391e-02,\n",
       "         -2.23926902e-02],\n",
       "        [-4.29286733e-02, -7.57981092e-04,  2.68733390e-02,\n",
       "         -4.12947051e-02,  7.07213953e-03,  4.18519638e-02,\n",
       "         -1.03913434e-02, -3.45427766e-02, -1.92251336e-02,\n",
       "         -3.76391411e-03, -3.80087867e-02,  8.27457756e-03,\n",
       "         -3.26807052e-02, -2.90274620e-03,  3.14383022e-02,\n",
       "          4.37631272e-02],\n",
       "        [-2.44973786e-02, -1.85509212e-02,  4.98784222e-02,\n",
       "         -4.07350548e-02, -9.97953489e-03, -1.22784488e-02,\n",
       "         -4.19059992e-02, -4.35917638e-02,  8.88921320e-04,\n",
       "         -2.12243944e-03, -2.46335268e-02,  4.29833792e-02,\n",
       "          1.22076981e-02,  4.87811454e-02,  4.96118404e-02,\n",
       "          2.20673420e-02],\n",
       "        [ 3.01075093e-02, -1.58462524e-02,  1.00223422e-02,\n",
       "          1.25072487e-02, -2.86204815e-02,  3.42806242e-02,\n",
       "         -3.11977267e-02,  8.34112242e-03,  2.35080831e-02,\n",
       "          3.73565666e-02, -4.89443056e-02, -2.83078309e-02,\n",
       "          1.27992071e-02, -2.61093974e-02, -3.36333737e-02,\n",
       "         -1.20717511e-02],\n",
       "        [-1.76756009e-02, -4.85395268e-03,  2.27461122e-02,\n",
       "         -1.22155547e-02,  3.59192230e-02, -2.78341528e-02,\n",
       "         -2.92419679e-02, -4.63437214e-02, -1.70117840e-02,\n",
       "         -3.88929993e-03, -2.94946134e-04, -6.53697178e-03,\n",
       "         -2.89269574e-02, -4.99824546e-02, -1.95487626e-02,\n",
       "         -4.13323753e-02],\n",
       "        [-3.12349927e-02, -1.71428211e-02, -6.74793869e-03,\n",
       "         -5.91511652e-03, -2.90755033e-02, -1.77629367e-02,\n",
       "          3.86584438e-02,  3.42211239e-02,  4.55800928e-02,\n",
       "         -1.27199776e-02,  2.54826583e-02,  3.16979997e-02,\n",
       "         -1.57404914e-02, -3.83246168e-02, -2.59456784e-03,\n",
       "          3.62901129e-02]], dtype=float32),\n",
       " array([[ 0.04959515,  0.00426706,  0.01741253, ...,  0.02549347,\n",
       "         -0.03312763,  0.04652766],\n",
       "        [ 0.03517821,  0.03241459, -0.00442144, ..., -0.04918399,\n",
       "         -0.01251595,  0.00658824],\n",
       "        [ 0.01955985,  0.04694265,  0.01001664, ...,  0.03102252,\n",
       "         -0.04840697,  0.02998408],\n",
       "        ...,\n",
       "        [ 0.00972377,  0.01373062, -0.03138825, ..., -0.01562728,\n",
       "          0.03416227,  0.0424775 ],\n",
       "        [ 0.00805952, -0.0220234 , -0.00586822, ..., -0.03895309,\n",
       "         -0.04734538, -0.01049494],\n",
       "        [ 0.01602225, -0.04731947,  0.013275  , ..., -0.02336571,\n",
       "          0.03357181,  0.03060928]], dtype=float32),\n",
       " array([[ 0.02953554,  0.04787408,  0.03272371,  0.01941172, -0.04792256,\n",
       "          0.00262854, -0.01428517,  0.04539299,  0.04550654,  0.01151462,\n",
       "         -0.02021471, -0.04800725, -0.02304028,  0.04622892,  0.03758312,\n",
       "          0.02608902],\n",
       "        [-0.00856835,  0.01839859,  0.04199084,  0.03598534, -0.02125569,\n",
       "         -0.03618271,  0.03330788,  0.01159519, -0.04799841, -0.00584338,\n",
       "          0.02574534, -0.03052095,  0.01894767,  0.03586895, -0.00847001,\n",
       "         -0.02132212],\n",
       "        [ 0.0477145 ,  0.01666106, -0.01558324, -0.04781219, -0.00337563,\n",
       "          0.02952273,  0.00972719,  0.04832114, -0.04583777, -0.02935718,\n",
       "          0.02586662, -0.03821249,  0.01083417,  0.00227764, -0.01803013,\n",
       "          0.03490401],\n",
       "        [-0.04706937,  0.00044582,  0.02288577,  0.02816049, -0.04877895,\n",
       "         -0.00083847,  0.02215623, -0.00464137, -0.02725103, -0.0299069 ,\n",
       "         -0.00983206,  0.03559006,  0.02247247, -0.04140843,  0.04877441,\n",
       "          0.01008696],\n",
       "        [ 0.00298303, -0.03173995, -0.04619554,  0.04750253,  0.00652864,\n",
       "          0.01837433,  0.01376409, -0.0069476 , -0.04523087,  0.00431409,\n",
       "          0.0242262 , -0.02534929, -0.03998263, -0.01955189,  0.00520269,\n",
       "         -0.00858207],\n",
       "        [ 0.03186286, -0.0045805 , -0.03714478, -0.02776989,  0.0316785 ,\n",
       "          0.04667429, -0.00711703, -0.02994713,  0.00590439,  0.00518119,\n",
       "         -0.03124043,  0.00121649, -0.0177471 ,  0.01266671,  0.04703676,\n",
       "          0.00797983],\n",
       "        [ 0.00226951, -0.00615035, -0.03674872, -0.00716227, -0.03874777,\n",
       "          0.03856853,  0.03565129, -0.00394293, -0.03954504,  0.03159633,\n",
       "          0.00936403,  0.0415366 ,  0.03469389, -0.02747394, -0.0218636 ,\n",
       "          0.00782299],\n",
       "        [ 0.01034915, -0.03023554,  0.0152471 ,  0.01706982,  0.01739272,\n",
       "         -0.01215633,  0.04569229, -0.01721318, -0.03877927,  0.00355706,\n",
       "         -0.02861898,  0.00311384,  0.03351006, -0.01819902,  0.02949196,\n",
       "         -0.04322621],\n",
       "        [ 0.04535898,  0.0122629 ,  0.03352476, -0.02503549, -0.01097032,\n",
       "         -0.01047509,  0.02165246, -0.02305255, -0.04686954,  0.02663983,\n",
       "          0.04295379, -0.01932918, -0.03895389,  0.01014428, -0.00364991,\n",
       "         -0.00440215],\n",
       "        [ 0.03230181,  0.04127034, -0.00150407, -0.02098006,  0.02762372,\n",
       "          0.04535366, -0.04910636, -0.01123969,  0.00966275,  0.02755307,\n",
       "          0.04858016, -0.02660041, -0.03163316, -0.00212952, -0.03949531,\n",
       "          0.00643717],\n",
       "        [-0.04914476,  0.04355654, -0.00814174,  0.00454248, -0.02313134,\n",
       "         -0.02580487,  0.0091737 , -0.04047645, -0.01767953,  0.0095363 ,\n",
       "         -0.02921315,  0.04606021, -0.00969595, -0.04601849, -0.01927867,\n",
       "         -0.00757331],\n",
       "        [-0.00528117,  0.04813356, -0.03464502, -0.01606591, -0.02878766,\n",
       "          0.04389383,  0.02919156, -0.04825782, -0.02261688,  0.02850487,\n",
       "         -0.02398431, -0.00451416,  0.04890266,  0.03969156,  0.03829029,\n",
       "          0.028924  ],\n",
       "        [ 0.01555433,  0.00635042,  0.01923314, -0.00078994, -0.01600061,\n",
       "         -0.02854086,  0.03869409, -0.04246296,  0.04347838, -0.04206706,\n",
       "          0.0170682 ,  0.04508873, -0.02030003, -0.0403889 ,  0.04014145,\n",
       "         -0.01209824],\n",
       "        [-0.0015359 , -0.00843605,  0.00649458,  0.02203076,  0.0159911 ,\n",
       "         -0.01494899,  0.02856873,  0.01339436,  0.00945307,  0.04080239,\n",
       "          0.02288492,  0.04987185, -0.01176358,  0.00631423, -0.02340853,\n",
       "         -0.00230654],\n",
       "        [ 0.00048167, -0.0375419 , -0.00650122, -0.01663399, -0.00567428,\n",
       "         -0.02337078, -0.01962279, -0.02024235,  0.00538798, -0.0079124 ,\n",
       "          0.02539596,  0.00529829,  0.02417358, -0.01707046, -0.02309575,\n",
       "          0.03581828],\n",
       "        [ 0.04945096, -0.02774463,  0.0017953 , -0.04882887, -0.00165764,\n",
       "          0.01140495, -0.02226762, -0.03350109,  0.00135439,  0.0198588 ,\n",
       "         -0.04456141,  0.03759817, -0.04027423, -0.01132993, -0.0160039 ,\n",
       "          0.04964733],\n",
       "        [-0.04182737, -0.01815573, -0.02053139, -0.04266498, -0.01349594,\n",
       "         -0.02121892,  0.02378212,  0.04832141,  0.01960203, -0.02234509,\n",
       "          0.00434182, -0.0049156 , -0.04245349,  0.02628628,  0.0197263 ,\n",
       "          0.0424737 ],\n",
       "        [-0.04148494, -0.0042497 ,  0.01998918,  0.04769999, -0.00084032,\n",
       "          0.00900031,  0.03019324,  0.04630053,  0.00541954, -0.00299001,\n",
       "         -0.04268866,  0.035799  , -0.03524833, -0.04745474,  0.03032764,\n",
       "         -0.01371086],\n",
       "        [ 0.02282319, -0.02719908, -0.0292304 , -0.03471132, -0.03407602,\n",
       "          0.00602408,  0.01900101, -0.01024248, -0.02177819, -0.04576783,\n",
       "         -0.01237862,  0.01428771,  0.01988288, -0.01692856,  0.00955429,\n",
       "         -0.04482089]], dtype=float32),\n",
       " array([[-0.0421726 , -0.04641069, -0.05365087, ...,  0.09272273,\n",
       "          0.07969382,  0.08554065],\n",
       "        [ 0.06419612,  0.03549571, -0.01035786, ..., -0.01860609,\n",
       "          0.08248238,  0.0917113 ],\n",
       "        [ 0.01316577,  0.12384404, -0.03044423, ..., -0.11320052,\n",
       "         -0.09766991, -0.06622272],\n",
       "        ...,\n",
       "        [ 0.04895407,  0.09371433, -0.12499026, ...,  0.10676658,\n",
       "          0.05833712,  0.06250407],\n",
       "        [-0.10490936, -0.01338003,  0.07919683, ...,  0.05149654,\n",
       "          0.07024895,  0.01746976],\n",
       "        [-0.08271064,  0.11865069,  0.06403013, ..., -0.02248122,\n",
       "          0.07164675,  0.12474994]], dtype=float32),\n",
       " array([0., 0., 0., 0., 0., 0., 0., 0., 0., 0., 0., 0., 0., 0., 0., 0., 0.,\n",
       "        0., 0., 0., 0., 0., 0., 0., 0., 0., 0., 0., 0., 0., 0., 0.],\n",
       "       dtype=float32),\n",
       " array([[-0.02343726,  0.22423205, -0.2186768 ,  0.04070425, -0.27776372,\n",
       "         -0.291632  ,  0.30777618, -0.23996258, -0.22630143,  0.1648567 ,\n",
       "          0.12336019, -0.2074252 , -0.07181308,  0.2808943 ,  0.31961843,\n",
       "         -0.01084328],\n",
       "        [-0.321994  , -0.03570765, -0.06863099,  0.2534558 ,  0.01865098,\n",
       "         -0.3207547 ,  0.33019748,  0.13638401, -0.15005213,  0.04902327,\n",
       "         -0.16655321,  0.25839016, -0.26928902,  0.18466642, -0.24489199,\n",
       "         -0.12980875],\n",
       "        [-0.07981923,  0.00670305,  0.13967195,  0.00783738, -0.3262617 ,\n",
       "         -0.04410473,  0.33276597,  0.09075421,  0.20925942,  0.09016213,\n",
       "         -0.13367455, -0.02154851, -0.03838667, -0.28941768,  0.27713415,\n",
       "         -0.00944206],\n",
       "        [-0.09107572,  0.1345228 ,  0.33161613,  0.17940184, -0.17371877,\n",
       "         -0.16660944, -0.08874062, -0.1827145 , -0.10054374, -0.32101348,\n",
       "         -0.32834435,  0.2674468 ,  0.33479282, -0.3210199 ,  0.3265544 ,\n",
       "         -0.1629355 ],\n",
       "        [ 0.10132635, -0.0402981 ,  0.03001437,  0.21716031,  0.30934808,\n",
       "          0.10551119,  0.14798298,  0.04616031,  0.00820464, -0.305639  ,\n",
       "         -0.2596385 ,  0.2068424 ,  0.24769738, -0.32323775, -0.27759245,\n",
       "          0.06010631],\n",
       "        [ 0.06150836,  0.24709061, -0.29008275, -0.35096693, -0.06183472,\n",
       "          0.18725398,  0.21757492,  0.04759753,  0.3484117 ,  0.26396158,\n",
       "          0.02942768,  0.04710585,  0.02325705,  0.30744264,  0.15595403,\n",
       "         -0.15868685],\n",
       "        [-0.26316458, -0.21010558,  0.01281196, -0.18019101, -0.29170263,\n",
       "          0.2337037 ,  0.06006861, -0.10144383,  0.12752339, -0.2843288 ,\n",
       "          0.2747548 ,  0.055969  , -0.05734441, -0.07763627, -0.26455432,\n",
       "         -0.23816012],\n",
       "        [ 0.05879602,  0.05846146,  0.24885699, -0.16234864, -0.11886549,\n",
       "          0.2382671 , -0.0763056 ,  0.1204648 , -0.3059689 ,  0.30948678,\n",
       "          0.19978306,  0.09320161, -0.30172852, -0.290534  ,  0.1530526 ,\n",
       "         -0.19298957],\n",
       "        [-0.29717338,  0.19616535, -0.17664883,  0.01480079, -0.19892225,\n",
       "          0.23406515,  0.24570963, -0.32485786, -0.22600421, -0.31107998,\n",
       "          0.230921  ,  0.24594018,  0.11064222, -0.09682885,  0.14661601,\n",
       "         -0.33368164],\n",
       "        [ 0.21081921,  0.23019823, -0.21727847, -0.1433373 , -0.25441337,\n",
       "         -0.30763027,  0.20073906, -0.13884571, -0.13084961, -0.20405683,\n",
       "         -0.31512195, -0.0345391 ,  0.0879243 , -0.24476124,  0.04444546,\n",
       "         -0.24028744],\n",
       "        [ 0.10361743, -0.3273501 ,  0.16298184, -0.03462818, -0.11237252,\n",
       "         -0.29668522, -0.13725635, -0.31580827, -0.05273128, -0.27375346,\n",
       "         -0.1017516 , -0.2744467 , -0.3009214 ,  0.04199705, -0.2393001 ,\n",
       "          0.04555932],\n",
       "        [-0.05236048,  0.22342172,  0.30944064,  0.0593366 ,  0.17544588,\n",
       "         -0.17511214,  0.15788361,  0.2201834 ,  0.30968204,  0.0447441 ,\n",
       "         -0.00362656,  0.1506696 ,  0.22055826,  0.15232316,  0.32552144,\n",
       "          0.08119971],\n",
       "        [ 0.35279104, -0.3456285 ,  0.05760303, -0.25653666,  0.11976078,\n",
       "         -0.18683234, -0.11642189,  0.10136172, -0.17172834,  0.16425851,\n",
       "         -0.18348208,  0.25721136,  0.33726433,  0.27992597,  0.24076882,\n",
       "         -0.04943413],\n",
       "        [ 0.00400832,  0.28141502, -0.28032306, -0.20102218, -0.26851124,\n",
       "          0.04591823,  0.08850384,  0.02111262, -0.11017911,  0.23060444,\n",
       "         -0.2229553 , -0.2579925 , -0.02798289,  0.25586292, -0.00855082,\n",
       "         -0.1318613 ],\n",
       "        [ 0.18385854, -0.15125804,  0.17326477,  0.04438046,  0.22144845,\n",
       "          0.17590538, -0.24956945, -0.2471852 ,  0.35148337,  0.1519672 ,\n",
       "          0.07998729,  0.01501977,  0.32675424,  0.19337216, -0.3271987 ,\n",
       "         -0.20774172],\n",
       "        [-0.19933663, -0.27521572, -0.26146817, -0.16132052,  0.18391469,\n",
       "         -0.28392217,  0.27663532, -0.01225233, -0.25621086,  0.14656779,\n",
       "          0.04850715,  0.15894648, -0.05274433, -0.10901038, -0.12571377,\n",
       "         -0.04209778],\n",
       "        [ 0.27130237, -0.16997083,  0.02781826, -0.05888134,  0.29710957,\n",
       "          0.03461024,  0.1452403 , -0.33173564,  0.08725595,  0.29525247,\n",
       "          0.08123004, -0.35320905, -0.23982854, -0.16525215,  0.28573146,\n",
       "          0.33669093],\n",
       "        [ 0.30033454, -0.15483968,  0.11043316,  0.11240396, -0.1374219 ,\n",
       "          0.27682808,  0.34096536,  0.10080656, -0.05240059, -0.09132016,\n",
       "         -0.2707162 , -0.302427  , -0.02505705,  0.04713956, -0.04499194,\n",
       "         -0.07240111],\n",
       "        [-0.32413024, -0.21302459,  0.11195982, -0.2751906 ,  0.2494944 ,\n",
       "         -0.3101021 , -0.01489589, -0.3160581 ,  0.34532705,  0.3126367 ,\n",
       "         -0.09913334, -0.08726978, -0.01207137, -0.03980979,  0.11650738,\n",
       "          0.26893488],\n",
       "        [ 0.10514846, -0.21490905, -0.03106779, -0.14407706,  0.02176833,\n",
       "         -0.333743  , -0.00828052,  0.03245568,  0.13365221,  0.12840745,\n",
       "          0.27359197,  0.20623335, -0.3423296 , -0.02058715,  0.1792722 ,\n",
       "          0.23078945],\n",
       "        [-0.3485803 , -0.32312194,  0.13833421,  0.22318533, -0.18317889,\n",
       "         -0.0288513 ,  0.32852516,  0.17912671, -0.09250432,  0.22366777,\n",
       "         -0.09583747,  0.26644132,  0.06475106, -0.11041008,  0.07056049,\n",
       "         -0.25496846],\n",
       "        [ 0.044801  ,  0.24047008, -0.263619  , -0.1548503 ,  0.16407725,\n",
       "         -0.09746248, -0.18651152, -0.12553734, -0.10748753,  0.06954998,\n",
       "          0.31587765,  0.2986023 ,  0.02110723,  0.0115478 , -0.02066922,\n",
       "         -0.16317388],\n",
       "        [ 0.09544745, -0.329045  ,  0.17253652,  0.26040295, -0.25633442,\n",
       "          0.0271183 ,  0.05469102,  0.22898296, -0.09018406, -0.3237644 ,\n",
       "          0.00996715, -0.22397694,  0.05005857,  0.27276757,  0.23823193,\n",
       "         -0.22555636],\n",
       "        [-0.04251108,  0.05335388, -0.1174545 , -0.17551304, -0.02120206,\n",
       "          0.32638916,  0.13479549, -0.3356275 , -0.00937134, -0.35326308,\n",
       "          0.3236793 , -0.233132  ,  0.25661263,  0.18565747,  0.04173389,\n",
       "         -0.22800964],\n",
       "        [-0.17012045,  0.28794298,  0.0521858 ,  0.28920266, -0.02692366,\n",
       "         -0.15222843, -0.2401186 ,  0.2736738 , -0.33321333, -0.29268187,\n",
       "          0.03297949,  0.21881959, -0.21603471,  0.3485293 , -0.34515917,\n",
       "         -0.02145594],\n",
       "        [-0.1628695 ,  0.26552656,  0.23906544,  0.2383978 ,  0.08521232,\n",
       "          0.29208794,  0.0600827 ,  0.11651605,  0.11880445, -0.08254266,\n",
       "         -0.20961161, -0.03732684,  0.34659353, -0.23064187, -0.18702023,\n",
       "          0.29760507],\n",
       "        [ 0.35238054,  0.34578595,  0.23923329,  0.10266525, -0.0019443 ,\n",
       "         -0.27774587,  0.00671628,  0.13141531, -0.19036154,  0.09620616,\n",
       "         -0.09127834, -0.08529198,  0.29610923, -0.04680863,  0.2755002 ,\n",
       "          0.07954037],\n",
       "        [ 0.25561205, -0.06717938,  0.13937524, -0.21134503, -0.33428848,\n",
       "         -0.09428754,  0.26647988, -0.28641558,  0.17572573, -0.34045473,\n",
       "         -0.3110869 ,  0.26793525, -0.31217733, -0.32512653, -0.29377508,\n",
       "         -0.18106759],\n",
       "        [-0.19238797, -0.167296  , -0.1267263 ,  0.09343839, -0.12050281,\n",
       "         -0.10680188, -0.04160821,  0.2650455 , -0.02888492, -0.3278116 ,\n",
       "          0.13527915,  0.18165049, -0.00241062,  0.10209575, -0.05646589,\n",
       "         -0.24227129],\n",
       "        [-0.24558428,  0.27402213, -0.23674408,  0.2637758 , -0.19409424,\n",
       "          0.04864243,  0.23670503, -0.15506507,  0.31944874, -0.2484979 ,\n",
       "         -0.19365752, -0.25524998, -0.03475773,  0.19910643,  0.21250978,\n",
       "         -0.26191998],\n",
       "        [-0.15596542,  0.3493913 ,  0.21517643, -0.28127414,  0.08908966,\n",
       "         -0.20817323, -0.33484507,  0.07244033, -0.28839368, -0.03518564,\n",
       "         -0.01585835, -0.20855811,  0.08492851, -0.07848021, -0.2050778 ,\n",
       "          0.24332067],\n",
       "        [-0.21948595, -0.07053807,  0.20405445, -0.31457818,  0.2172288 ,\n",
       "          0.1262863 , -0.21163146, -0.2666492 ,  0.07074282,  0.10511735,\n",
       "          0.00638542, -0.2272252 , -0.03292748, -0.2233584 ,  0.13722178,\n",
       "          0.07939076]], dtype=float32),\n",
       " array([0., 0., 0., 0., 0., 0., 0., 0., 0., 0., 0., 0., 0., 0., 0., 0.],\n",
       "       dtype=float32)]"
      ]
     },
     "execution_count": 26,
     "metadata": {},
     "output_type": "execute_result"
    }
   ],
   "source": [
    "model2.get_weights()"
   ]
  },
  {
   "cell_type": "code",
   "execution_count": 27,
   "metadata": {},
   "outputs": [],
   "source": [
    "model3.compile(optimizer=tf.keras.optimizers.Adam(learning_rate=0.01), loss='mse', metrics=['mae'])"
   ]
  },
  {
   "cell_type": "code",
   "execution_count": 28,
   "metadata": {},
   "outputs": [
    {
     "name": "stdout",
     "output_type": "stream",
     "text": [
      "Model: \"model\"\n",
      "_________________________________________________________________\n",
      " Layer (type)                Output Shape              Param #   \n",
      "=================================================================\n",
      " input_1 (InputLayer)        [(None, 6)]               0         \n",
      "                                                                 \n",
      " dense (Dense)               (None, 32)                224       \n",
      "                                                                 \n",
      " dense_1 (Dense)             (None, 16)                528       \n",
      "                                                                 \n",
      "=================================================================\n",
      "Total params: 752\n",
      "Trainable params: 752\n",
      "Non-trainable params: 0\n",
      "_________________________________________________________________\n"
     ]
    }
   ],
   "source": [
    "model1.summary()"
   ]
  },
  {
   "cell_type": "code",
   "execution_count": 29,
   "metadata": {},
   "outputs": [
    {
     "name": "stdout",
     "output_type": "stream",
     "text": [
      "Model: \"model_1\"\n",
      "__________________________________________________________________________________________________\n",
      " Layer (type)                   Output Shape         Param #     Connected to                     \n",
      "==================================================================================================\n",
      " anime_genre_embeddings_inputs   [(None, 9)]         0           []                               \n",
      " (InputLayer)                                                                                     \n",
      "                                                                                                  \n",
      " anime_studio_embeddings_inputs  [(None, 10)]        0           []                               \n",
      "  (InputLayer)                                                                                    \n",
      "                                                                                                  \n",
      " anime_source_embeddings_inputs  [(None, 1)]         0           []                               \n",
      "  (InputLayer)                                                                                    \n",
      "                                                                                                  \n",
      " embedding (Embedding)          (None, 9, 16)        368         ['anime_genre_embeddings_inputs[0\n",
      "                                                                 ][0]']                           \n",
      "                                                                                                  \n",
      " embedding_1 (Embedding)        (None, 10, 16)       14624       ['anime_studio_embeddings_inputs[\n",
      "                                                                 0][0]']                          \n",
      "                                                                                                  \n",
      " embedding_2 (Embedding)        (None, 1, 16)        304         ['anime_source_embeddings_inputs[\n",
      "                                                                 0][0]']                          \n",
      "                                                                                                  \n",
      " anime_inputs (InputLayer)      [(None, 8)]          0           []                               \n",
      "                                                                                                  \n",
      " flatten (Flatten)              (None, 144)          0           ['embedding[0][0]']              \n",
      "                                                                                                  \n",
      " flatten_1 (Flatten)            (None, 160)          0           ['embedding_1[0][0]']            \n",
      "                                                                                                  \n",
      " flatten_2 (Flatten)            (None, 16)           0           ['embedding_2[0][0]']            \n",
      "                                                                                                  \n",
      " concatenate (Concatenate)      (None, 328)          0           ['anime_inputs[0][0]',           \n",
      "                                                                  'flatten[0][0]',                \n",
      "                                                                  'flatten_1[0][0]',              \n",
      "                                                                  'flatten_2[0][0]']              \n",
      "                                                                                                  \n",
      " dense_2 (Dense)                (None, 32)           10528       ['concatenate[0][0]']            \n",
      "                                                                                                  \n",
      " dense_3 (Dense)                (None, 16)           528         ['dense_2[0][0]']                \n",
      "                                                                                                  \n",
      "==================================================================================================\n",
      "Total params: 26,352\n",
      "Trainable params: 26,352\n",
      "Non-trainable params: 0\n",
      "__________________________________________________________________________________________________\n"
     ]
    }
   ],
   "source": [
    "model2.summary()"
   ]
  },
  {
   "cell_type": "code",
   "execution_count": 30,
   "metadata": {},
   "outputs": [
    {
     "name": "stdout",
     "output_type": "stream",
     "text": [
      "Model: \"model_2\"\n",
      "__________________________________________________________________________________________________\n",
      " Layer (type)                   Output Shape         Param #     Connected to                     \n",
      "==================================================================================================\n",
      " user_input (InputLayer)        [(None, 6)]          0           []                               \n",
      "                                                                                                  \n",
      " anime_input (InputLayer)       [(None, 8)]          0           []                               \n",
      "                                                                                                  \n",
      " anime_genre_embedding_input (I  [(None, 9)]         0           []                               \n",
      " nputLayer)                                                                                       \n",
      "                                                                                                  \n",
      " anime_studio_embedding_input (  [(None, 10)]        0           []                               \n",
      " InputLayer)                                                                                      \n",
      "                                                                                                  \n",
      " anime_source_embedding_input (  [(None, 1)]         0           []                               \n",
      " InputLayer)                                                                                      \n",
      "                                                                                                  \n",
      " model (Functional)             (None, 16)           752         ['user_input[0][0]']             \n",
      "                                                                                                  \n",
      " model_1 (Functional)           (None, 16)           26352       ['anime_input[0][0]',            \n",
      "                                                                  'anime_genre_embedding_input[0][\n",
      "                                                                 0]',                             \n",
      "                                                                  'anime_studio_embedding_input[0]\n",
      "                                                                 [0]',                            \n",
      "                                                                  'anime_source_embedding_input[0]\n",
      "                                                                 [0]']                            \n",
      "                                                                                                  \n",
      " dot (Dot)                      (None, 1)            0           ['model[0][0]',                  \n",
      "                                                                  'model_1[0][0]']                \n",
      "                                                                                                  \n",
      " dense_4 (Dense)                (None, 16)           32          ['dot[0][0]']                    \n",
      "                                                                                                  \n",
      " dense_5 (Dense)                (None, 8)            136         ['dense_4[0][0]']                \n",
      "                                                                                                  \n",
      " dense_6 (Dense)                (None, 1)            9           ['dense_5[0][0]']                \n",
      "                                                                                                  \n",
      "==================================================================================================\n",
      "Total params: 27,281\n",
      "Trainable params: 27,281\n",
      "Non-trainable params: 0\n",
      "__________________________________________________________________________________________________\n"
     ]
    }
   ],
   "source": [
    "model3.summary()"
   ]
  },
  {
   "cell_type": "code",
   "execution_count": null,
   "metadata": {},
   "outputs": [],
   "source": []
  },
  {
   "cell_type": "code",
   "execution_count": 31,
   "metadata": {},
   "outputs": [
    {
     "data": {
      "image/png": "[encoded data removed]",
      "text/plain": [
       "<IPython.core.display.Image object>"
      ]
     },
     "execution_count": 31,
     "metadata": {},
     "output_type": "execute_result"
    }
   ],
   "source": [
    "import pydot\n",
    "import pydotplus\n",
    "import graphviz\n",
    "tf.keras.utils.plot_model(\n",
    "model3,\n",
    "to_file=\"model.png\",\n",
    "show_shapes=True,\n",
    "show_layer_names=True,\n",
    "rankdir=\"TB\",\n",
    "expand_nested=True,\n",
    "dpi=96,\n",
    ")\n"
   ]
  },
  {
   "cell_type": "code",
   "execution_count": 32,
   "metadata": {},
   "outputs": [
    {
     "name": "stdout",
     "output_type": "stream",
     "text": [
      "INFO:tensorflow:Mixed precision compatibility check (mixed_float16): OK\n",
      "Your GPU will likely run quickly with dtype policy mixed_float16 as it has compute capability of at least 7.0. Your GPU: NVIDIA GeForce RTX 3060, compute capability 8.6\n"
     ]
    }
   ],
   "source": [
    "mixed_precision.set_global_policy('mixed_float16')"
   ]
  },
  {
   "cell_type": "code",
   "execution_count": 33,
   "metadata": {},
   "outputs": [
    {
     "name": "stdout",
     "output_type": "stream",
     "text": [
      "Epoch 1/6\n",
      "1438/1438 [==============================] - 287s 198ms/step - loss: 0.6722 - mae: 0.6460 - val_loss: 0.5862 - val_mae: 0.5849\n",
      "Epoch 2/6\n",
      "1438/1438 [==============================] - 282s 196ms/step - loss: 0.6150 - mae: 0.6178 - val_loss: 0.5753 - val_mae: 0.5791\n",
      "Epoch 3/6\n",
      "1438/1438 [==============================] - 279s 194ms/step - loss: 0.6096 - mae: 0.6149 - val_loss: 0.5753 - val_mae: 0.5802\n",
      "Epoch 4/6\n",
      "1438/1438 [==============================] - 278s 193ms/step - loss: 0.6083 - mae: 0.6146 - val_loss: 0.5744 - val_mae: 0.5788\n",
      "Epoch 5/6\n",
      "1438/1438 [==============================] - 286s 199ms/step - loss: 0.6082 - mae: 0.6139 - val_loss: 0.5790 - val_mae: 0.5809\n",
      "Epoch 6/6\n",
      "1438/1438 [==============================] - 280s 195ms/step - loss: 0.6071 - mae: 0.6120 - val_loss: 0.5747 - val_mae: 0.5794\n"
     ]
    }
   ],
   "source": [
    "\n",
    "history=model3.fit(train_dataset, epochs=6,validation_data=val_dataset)"
   ]
  },
  {
   "cell_type": "code",
   "execution_count": 34,
   "metadata": {},
   "outputs": [
    {
     "data": {
      "image/png": "[encoded data removed]",
      "text/plain": [
       "<Figure size 1000x500 with 1 Axes>"
      ]
     },
     "metadata": {},
     "output_type": "display_data"
    }
   ],
   "source": [
    "# Plot training loss and validation loss\n",
    "plt.figure(figsize=(10, 5))\n",
    "plt.plot(history.history['loss'][:], label='Training Loss')\n",
    "plt.plot(history.history['val_loss'][:], label='Validation Loss')\n",
    "plt.title('Training and Validation Loss')\n",
    "plt.xlabel('Epoch')\n",
    "plt.ylabel('Loss')\n",
    "plt.legend()\n",
    "plt.show()"
   ]
  },
  {
   "cell_type": "code",
   "execution_count": 35,
   "metadata": {},
   "outputs": [],
   "source": [
    "batch_size = 16384\n",
    "test_dataset=test_dataset1.shuffle(batch_size)\n",
    "test_dataset = test_dataset.batch(batch_size)\n",
    "test_dataset = test_dataset.prefetch(buffer_size=tf.data.AUTOTUNE)"
   ]
  },
  {
   "cell_type": "code",
   "execution_count": 36,
   "metadata": {},
   "outputs": [
    {
     "name": "stdout",
     "output_type": "stream",
     "text": [
      "8/8 [==============================] - 101s 110ms/step - loss: 0.5768 - mae: 0.5775\n"
     ]
    },
    {
     "data": {
      "text/plain": [
       "[0.5768083333969116, 0.5775251388549805]"
      ]
     },
     "execution_count": 36,
     "metadata": {},
     "output_type": "execute_result"
    }
   ],
   "source": [
    "model3.evaluate(test_dataset)"
   ]
  },
  {
   "cell_type": "code",
   "execution_count": 38,
   "metadata": {},
   "outputs": [
    {
     "data": {
      "text/plain": [
       "[array([[ 5.62825380e-03,  9.91345104e-03, -1.10392766e-02,\n",
       "          9.54613090e-03,  4.28834930e-02, -5.84538188e-03,\n",
       "          5.27394190e-03,  2.14367732e-02, -1.09464033e-02,\n",
       "          1.99142732e-02, -1.10869920e-02,  9.95585322e-03,\n",
       "          3.48102488e-02, -1.63817797e-02,  3.46202813e-02,\n",
       "          5.19492722e-04],\n",
       "        [-3.36411744e-02, -4.52087522e-02,  1.22640021e-02,\n",
       "          1.69651620e-02,  1.74281485e-02, -1.01978891e-02,\n",
       "         -2.52470374e-02,  4.39139642e-02,  2.92385109e-02,\n",
       "         -1.03427880e-02,  3.15418877e-02,  1.45793445e-02,\n",
       "         -3.49535830e-02,  2.66151503e-03, -3.76952291e-02,\n",
       "          1.00169070e-02],\n",
       "        [-1.13230109e-01, -1.83368567e-02, -1.95923582e-01,\n",
       "          1.08080685e-01,  7.57813826e-02, -5.30283935e-02,\n",
       "          1.81446657e-01,  6.98020458e-02,  1.48174046e-02,\n",
       "         -1.41629711e-01, -5.26574105e-02,  4.28185165e-02,\n",
       "          1.16613664e-01,  7.89154544e-02, -1.12268880e-01,\n",
       "          3.13983522e-02],\n",
       "        [ 1.09950872e-02, -8.41116812e-03, -5.44561781e-02,\n",
       "         -1.57328650e-01, -1.29766744e-02,  8.95484015e-02,\n",
       "         -1.75455570e-01, -1.03761286e-01,  1.25967652e-01,\n",
       "         -2.14947369e-02, -2.38715187e-02, -1.38728889e-02,\n",
       "         -1.85423233e-02, -4.02555242e-02, -1.66876167e-02,\n",
       "          1.11648850e-02],\n",
       "        [ 1.33894458e-01, -5.32729132e-03, -1.00184597e-01,\n",
       "         -9.11771730e-02, -3.74768600e-02, -2.85296794e-02,\n",
       "          2.23066118e-02,  1.83142852e-02, -4.78292406e-02,\n",
       "         -3.65584880e-01, -3.74420881e-02,  1.16537549e-01,\n",
       "          5.81069998e-02,  8.01686123e-02, -1.04774609e-01,\n",
       "          1.35489792e-01],\n",
       "        [-1.85769960e-01, -1.71128243e-01,  9.87883508e-02,\n",
       "          1.29114792e-01, -7.83746541e-02,  1.18405065e-02,\n",
       "          1.11697242e-01,  3.66095193e-02,  7.64930900e-03,\n",
       "         -6.08482845e-02, -5.11322096e-02,  3.99217457e-02,\n",
       "          7.30176717e-02, -2.19139624e-02, -4.25458625e-02,\n",
       "         -5.12242168e-02],\n",
       "        [-3.44685353e-02,  9.92911682e-03, -2.68358849e-02,\n",
       "         -5.78090511e-02,  1.32468894e-01, -7.95346051e-02,\n",
       "          2.57214122e-02, -1.04014024e-01, -1.14392184e-01,\n",
       "          8.49410594e-02,  1.16769999e-01, -3.42637971e-02,\n",
       "         -6.28292421e-03,  3.79464328e-02,  1.33433089e-01,\n",
       "          2.66307648e-02],\n",
       "        [ 2.76352968e-02,  6.34410605e-02, -9.02955532e-02,\n",
       "          6.15124851e-02,  3.36404860e-01, -3.55933160e-02,\n",
       "          1.65094435e-01,  8.18569213e-02, -4.58811298e-02,\n",
       "          2.36105055e-01,  9.16295275e-02, -6.69408143e-02,\n",
       "          1.20550536e-01, -2.76369900e-02,  3.61889869e-01,\n",
       "          6.29122332e-02],\n",
       "        [ 2.83631504e-01,  2.38724891e-02, -1.27112627e-01,\n",
       "         -4.48066555e-02, -2.25468650e-01, -4.05844348e-03,\n",
       "         -5.89508675e-02, -5.14234640e-02,  2.10024655e-01,\n",
       "         -1.86561599e-01, -1.07161015e-01,  1.36447132e-01,\n",
       "         -3.34158503e-02,  1.31147936e-01, -4.33220565e-01,\n",
       "         -1.25633910e-01],\n",
       "        [ 1.02759212e-01,  6.38763070e-01,  3.38897437e-01,\n",
       "          7.97984079e-02,  3.74298364e-01,  1.64076284e-01,\n",
       "          3.59216854e-02, -3.12186331e-01,  2.07675323e-01,\n",
       "         -1.40540034e-01,  7.29530036e-01,  4.03913766e-01,\n",
       "         -1.29043043e-01,  1.66554913e-01,  1.82991400e-01,\n",
       "          3.63294899e-01],\n",
       "        [-1.82243153e-01, -1.11007012e-01,  2.48696227e-02,\n",
       "         -1.95390768e-02, -3.95344831e-02, -4.36941162e-02,\n",
       "          4.62908968e-02, -9.23130363e-02,  1.13310955e-01,\n",
       "         -2.14068755e-03,  8.99844617e-02,  4.03361507e-02,\n",
       "         -2.93520801e-02, -4.65560779e-02, -3.83947827e-02,\n",
       "         -7.33780563e-02],\n",
       "        [-1.51714146e-01, -7.84004014e-03,  1.36934295e-01,\n",
       "          1.67578027e-01,  4.13192034e-01,  1.49837121e-01,\n",
       "          5.97503148e-02, -9.80818346e-02, -4.96415533e-02,\n",
       "          8.49424839e-01, -1.19752571e-01, -1.30654737e-01,\n",
       "          1.00164637e-01,  2.38402903e-01,  3.45614672e-01,\n",
       "         -6.19722940e-02],\n",
       "        [-1.15131512e-01, -1.56231135e-01,  1.82438135e-01,\n",
       "         -2.33580500e-01, -3.43717545e-01,  3.84838437e-03,\n",
       "         -1.39014199e-01, -3.30677301e-01, -7.70780891e-02,\n",
       "         -3.83920848e-01,  2.63103068e-01,  2.86820769e-01,\n",
       "         -1.82437658e-01,  1.02134146e-01, -2.19258726e-01,\n",
       "          8.46486725e-03],\n",
       "        [ 9.99248847e-02,  1.79123059e-01,  5.24695450e-03,\n",
       "          2.39690226e-02, -3.64639126e-02,  2.38036767e-01,\n",
       "         -1.06727749e-01,  3.63431498e-02, -8.83121938e-02,\n",
       "          1.31018236e-01, -4.72694635e-02, -1.68384865e-01,\n",
       "         -2.44131997e-01, -1.80911258e-01,  1.58495292e-01,\n",
       "         -7.34278839e-03],\n",
       "        [ 4.16421056e-01, -2.33502641e-01,  7.13226140e-01,\n",
       "         -7.92022943e-02,  1.02078438e-01, -7.11034238e-02,\n",
       "         -8.00750852e-02,  1.80031091e-01,  8.53946805e-02,\n",
       "         -1.30452737e-01,  8.04741532e-02,  3.24653447e-01,\n",
       "         -4.69209880e-01,  3.70990962e-01,  2.67076399e-02,\n",
       "         -1.78066306e-02],\n",
       "        [-2.67700642e-01, -2.66659856e-01,  2.62311518e-01,\n",
       "          7.16499984e-01,  2.03990430e-01, -4.06823128e-01,\n",
       "          7.23274052e-01,  6.06209263e-02, -6.15447879e-01,\n",
       "          2.17416361e-01,  4.92775626e-02,  3.49520773e-01,\n",
       "          1.14531934e-01,  4.35148150e-01,  2.09148481e-01,\n",
       "         -3.85024130e-01],\n",
       "        [ 7.45031610e-02, -1.18464895e-01, -7.97612667e-02,\n",
       "          1.04695216e-01,  4.75886874e-02, -2.37562120e-01,\n",
       "          1.44039318e-01, -1.84088238e-02, -2.11801097e-01,\n",
       "         -9.93609652e-02,  1.60913244e-01,  1.05706789e-02,\n",
       "          1.11732915e-01,  1.08140953e-01, -1.58050358e-02,\n",
       "         -2.03330159e-01],\n",
       "        [-8.97262022e-02,  6.67689219e-02,  2.78849125e-01,\n",
       "         -4.15202118e-02,  6.74471408e-02, -1.37765989e-01,\n",
       "         -2.30279863e-01, -1.97646737e-01, -7.51224160e-02,\n",
       "          3.68127286e-01,  1.93196937e-01,  4.61138263e-02,\n",
       "          1.36948362e-01,  6.40277658e-03,  3.36062700e-01,\n",
       "         -3.84214483e-02],\n",
       "        [ 5.29275656e-01,  2.39242092e-01, -3.56979102e-01,\n",
       "         -9.69565064e-02,  3.58818531e-01,  1.93443745e-02,\n",
       "          1.32924110e-01,  2.88784504e-01,  2.13971496e-01,\n",
       "          7.60178864e-02, -2.55186021e-01, -3.69179249e-02,\n",
       "          2.78144509e-01, -2.05785362e-03,  1.44315258e-01,\n",
       "          1.13805763e-01],\n",
       "        [ 3.95879626e-01,  8.61377954e-01, -6.39788985e-01,\n",
       "          4.81702268e-01, -5.66803813e-01,  5.06009340e-01,\n",
       "          2.67692268e-01,  1.01637113e+00, -6.48697793e-01,\n",
       "         -6.75355434e-01, -4.59760904e-01, -4.87697780e-01,\n",
       "         -6.20866597e-01, -9.15299237e-01, -7.52671480e-01,\n",
       "          7.72182792e-02],\n",
       "        [ 1.50907233e-01, -8.07046413e-01, -3.97601336e-01,\n",
       "         -6.67959690e-01, -2.92021483e-01, -5.17220795e-01,\n",
       "          4.47155952e-01, -2.78732747e-01,  1.27875740e-02,\n",
       "         -3.47215354e-01,  1.88681707e-01,  5.27341187e-01,\n",
       "         -1.52635556e-02,  8.25371802e-01,  8.05447027e-02,\n",
       "         -1.06666833e-01],\n",
       "        [-6.97241247e-01,  7.38997579e-01,  3.07539493e-01,\n",
       "          2.33156100e-01, -6.32356182e-02, -3.77617061e-01,\n",
       "         -9.14154947e-02, -4.02493805e-01, -3.56295675e-01,\n",
       "         -5.33762462e-02,  5.23012638e-01,  2.22287610e-01,\n",
       "          8.71028900e-01, -1.53203130e-01,  1.17325284e-01,\n",
       "          4.06068981e-01],\n",
       "        [ 5.34786917e-02, -8.84411156e-01,  6.70478046e-01,\n",
       "          1.59874165e+00,  4.00631607e-01, -2.47372985e-01,\n",
       "          3.24764818e-01,  8.57711732e-01, -1.55459106e+00,\n",
       "          6.18117929e-01, -7.78378695e-02, -6.61657333e-01,\n",
       "          1.63343906e-01, -6.27246559e-01,  6.90968990e-01,\n",
       "         -3.08102190e-01]], dtype=float32),\n",
       " array([[-2.16610618e-02, -6.51174830e-03,  6.30495965e-01, ...,\n",
       "         -2.91718426e-03, -9.63451993e-03, -2.10855622e-03],\n",
       "        [ 3.51782106e-02,  3.24145891e-02, -4.42143530e-03, ...,\n",
       "         -4.91839908e-02, -1.25159509e-02,  6.58824295e-03],\n",
       "        [ 1.26754031e-01,  3.72192502e-01, -1.18726894e-01, ...,\n",
       "         -1.01638585e-01, -6.67697638e-02,  2.24631011e-01],\n",
       "        ...,\n",
       "        [-3.30134511e-01, -6.45727098e-01, -1.56663619e-02, ...,\n",
       "          2.83409692e-02, -6.46310210e-01,  7.72512555e-02],\n",
       "        [ 1.01347733e+00,  5.38075268e-01, -7.04931855e-01, ...,\n",
       "         -8.59962702e-01,  5.34153581e-01,  1.78343616e-04],\n",
       "        [ 1.60222538e-02, -4.73194718e-02,  1.32750012e-02, ...,\n",
       "         -2.33657118e-02,  3.35718058e-02,  3.06092761e-02]], dtype=float32),\n",
       " array([[ 0.02953554,  0.04787408,  0.03272371,  0.01941172, -0.04792256,\n",
       "          0.00262854, -0.01428517,  0.04539299,  0.04550654,  0.01151462,\n",
       "         -0.02021471, -0.04800725, -0.02304028,  0.04622892,  0.03758312,\n",
       "          0.02608902],\n",
       "        [-0.00856835,  0.01839859,  0.04199084,  0.03598534, -0.02125569,\n",
       "         -0.03618271,  0.03330788,  0.01159519, -0.04799841, -0.00584338,\n",
       "          0.02574534, -0.03052095,  0.01894767,  0.03586895, -0.00847001,\n",
       "         -0.02132212],\n",
       "        [-0.04913739,  0.12908138,  0.1255511 ,  0.01160085,  0.11061172,\n",
       "         -0.1735624 ,  0.40493536,  0.20979242,  0.05711823,  0.11501799,\n",
       "         -0.39317617, -0.1282868 , -0.18107675, -0.07783386,  0.02819259,\n",
       "          0.21585977],\n",
       "        [ 0.02561455, -0.02311704,  0.01241523,  0.01923527,  0.06476007,\n",
       "          0.02986985, -0.08262745, -0.05937668, -0.02804847, -0.05641211,\n",
       "          0.02949434,  0.06606763, -0.07720698,  0.0584828 ,  0.32359448,\n",
       "          0.13847397],\n",
       "        [ 0.29706743,  0.36510357,  0.39801466,  0.26891273, -0.82750267,\n",
       "         -0.6325832 ,  0.33377823,  0.34212714,  0.2285337 , -0.497863  ,\n",
       "         -0.49318117, -0.2564511 ,  0.10564242, -0.10233022,  0.41002926,\n",
       "          0.22771369],\n",
       "        [-0.21638653, -0.07007859, -0.14607549, -0.05320518,  0.01559239,\n",
       "         -0.01775333,  0.07893698, -0.20370047,  0.25119606,  0.20191029,\n",
       "          0.25687793,  0.2638099 ,  0.10795072, -0.05745337, -0.18098083,\n",
       "         -0.09741703],\n",
       "        [ 0.46579885, -0.27267754, -0.2605641 , -0.16145107,  0.11036307,\n",
       "          0.01181254, -0.00289302, -0.12413482, -0.19882408, -0.20679592,\n",
       "          0.05687027,  0.18086979, -0.13078766, -0.14552271,  0.5240463 ,\n",
       "          0.06063562],\n",
       "        [-0.134692  , -0.14958407, -0.01757486,  0.06799778, -0.02675522,\n",
       "          0.13315976, -0.3825401 , -0.41416124,  0.29806504,  0.11678271,\n",
       "          0.34286457,  0.23816517,  0.14077562, -0.04610544,  0.17813608,\n",
       "         -0.23993534],\n",
       "        [ 0.00904061, -0.1164559 ,  0.5318207 ,  0.46526223, -0.33688334,\n",
       "         -0.2925486 ,  0.22102484, -0.00696025,  0.13512823, -0.11807627,\n",
       "          0.02739624,  0.06705094,  0.17530982, -0.1676158 , -0.68506545,\n",
       "          0.00889847],\n",
       "        [ 0.29587844, -0.0985794 , -0.18343881, -0.02277653, -0.64759314,\n",
       "          0.25907022,  0.08039109,  0.19930176, -0.0303529 ,  0.01234681,\n",
       "          0.09901297, -0.14435604,  0.14282836,  0.14903845, -0.71929383,\n",
       "         -0.1718492 ],\n",
       "        [ 0.27612096, -0.07839636,  0.16675885,  0.13826422, -0.11538823,\n",
       "          0.03211005,  0.23909035, -0.10205059,  0.13474528,  0.11673913,\n",
       "         -0.4236505 ,  0.11519564, -0.21402097,  0.00536202, -0.38307908,\n",
       "          0.19033504],\n",
       "        [ 0.31517294, -0.7512063 , -0.44522724, -0.5101635 ,  0.3335196 ,\n",
       "          0.37071943, -0.32839322, -0.47381505, -0.16159841,  0.15357101,\n",
       "         -1.0001636 ,  0.3248154 ,  0.3848111 , -1.690817  ,  1.9350185 ,\n",
       "         -0.8038306 ],\n",
       "        [ 0.37980056, -0.05843307,  0.23201407,  0.14688541, -0.06241979,\n",
       "         -0.06524476,  0.31283307,  0.30963534, -0.24865575, -0.35054868,\n",
       "         -0.38132304, -0.33584702,  0.17326285, -0.17038186,  0.5311708 ,\n",
       "         -0.11310675],\n",
       "        [-0.49245077,  0.27759716,  0.2217901 ,  0.09513208,  1.5164845 ,\n",
       "          0.4772648 , -1.5438765 , -0.14013183, -0.07553382, -0.50865185,\n",
       "          0.9041829 ,  0.22865021, -0.42309532,  0.6746278 ,  0.9936845 ,\n",
       "          0.50624335],\n",
       "        [ 0.11475746,  0.03391217,  0.13403954,  0.05964441, -0.09748658,\n",
       "          0.00789695,  0.7647242 , -0.5681386 , -0.40670264, -0.49614227,\n",
       "         -0.13361862,  0.60880244, -0.06493046,  0.04879419, -1.0282471 ,\n",
       "          0.27497676],\n",
       "        [-0.41953042, -0.21254338,  0.11739138,  0.02929209,  0.7249767 ,\n",
       "         -0.5597455 ,  1.6251984 , -0.54372156,  0.76374465,  1.0512277 ,\n",
       "          0.30078405,  0.892343  , -1.1084807 , -0.07608764, -0.82722557,\n",
       "          1.5629905 ],\n",
       "        [-1.1756542 ,  0.5812523 , -0.13975734,  0.36001283, -1.7410226 ,\n",
       "         -0.62779593, -0.02948414,  0.8963816 ,  0.5506226 , -0.2930363 ,\n",
       "         -0.654849  , -1.6072117 ,  1.4563211 ,  0.3242821 , -0.54805785,\n",
       "         -0.29166412],\n",
       "        [ 0.95053124,  0.6637248 ,  0.71748585, -0.04093757, -0.09988744,\n",
       "          0.13844924,  0.40373746,  0.24435484, -0.22219917, -0.5030992 ,\n",
       "          0.21140477, -0.17542881, -0.68947786,  0.35243222, -1.1952053 ,\n",
       "          0.6747079 ],\n",
       "        [-0.07277378,  0.31868285,  0.10104883,  0.13986   , -0.74236095,\n",
       "          0.16189331,  0.2342009 ,  0.00637886,  0.42840582,  0.19230646,\n",
       "          0.86031944, -0.25768942, -0.06850639,  0.01885033,  0.56195474,\n",
       "          0.16000925]], dtype=float32),\n",
       " array([[-0.727713  , -0.08940877, -0.473771  , ...,  0.07273351,\n",
       "         -0.05675691,  0.09170602],\n",
       "        [ 0.5749676 ,  0.07603823, -0.06381247, ..., -0.07121439,\n",
       "         -0.36906254,  0.05835241],\n",
       "        [-0.21714798,  0.3367438 , -0.32463843, ..., -0.62297004,\n",
       "         -0.09766991, -0.06622272],\n",
       "        ...,\n",
       "        [-0.07144049,  0.16111316,  0.09458533, ...,  0.07350346,\n",
       "         -0.20532247, -0.10435985],\n",
       "        [ 0.19157203, -0.25087893,  0.01561897, ..., -0.1628438 ,\n",
       "          0.21284592,  0.04949159],\n",
       "        [-0.24301659,  0.12610702, -0.21995023, ..., -0.06135858,\n",
       "         -0.3707351 , -0.05389013]], dtype=float32),\n",
       " array([-0.3502701 ,  0.03412509, -0.3809706 , -0.21801586, -0.06140528,\n",
       "         0.5136853 , -0.31528434, -0.44835752, -0.09694277, -0.5688559 ,\n",
       "        -0.19860546, -0.24338543, -0.5419788 , -0.01337163,  1.49243   ,\n",
       "        -0.5873112 , -0.04992585, -0.11100654, -0.0715799 , -0.08600919,\n",
       "        -0.11139544, -0.06385082, -0.30188566, -0.8651027 , -0.58252734,\n",
       "        -0.33862105, -0.0600192 ,  0.5161139 , -0.14930661, -0.07871649,\n",
       "        -0.15929022, -0.04950817], dtype=float32),\n",
       " array([[-0.36463645,  0.23158051, -0.2186768 , -0.23543333, -0.352564  ,\n",
       "         -0.15425327,  0.39283457, -0.23996258, -0.06811964, -0.01302927,\n",
       "          0.12336019, -0.4774131 , -0.4807662 ,  0.04813984, -0.10502508,\n",
       "         -0.09902889],\n",
       "        [-0.48323673, -0.06626593, -0.18792015,  0.14381503, -0.04056485,\n",
       "         -0.61462116,  0.33737105,  0.0913648 ,  0.03613329, -0.00751142,\n",
       "         -0.18649045,  0.1381172 , -0.3870019 ,  0.18553546, -0.33615172,\n",
       "         -0.15713526],\n",
       "        [-0.3246283 ,  0.00670305,  0.13967195,  0.00783738, -0.29816267,\n",
       "         -0.04410473, -0.05294298,  0.09075421,  0.10418918, -0.07629777,\n",
       "         -0.13367455, -0.48791698, -0.03838667, -0.28941768,  0.02804686,\n",
       "         -0.00944206],\n",
       "        [-0.3897489 ,  0.06411071,  0.33161613, -0.01136086, -0.22490014,\n",
       "         -0.16660944, -0.3042484 , -0.1827145 ,  0.01073251, -0.23190278,\n",
       "         -0.32834435,  0.48693871, -0.01350185, -0.3210199 ,  0.2619914 ,\n",
       "         -0.1629355 ],\n",
       "        [ 0.05321113, -0.08787137,  0.05319916,  0.16823417,  0.26293743,\n",
       "         -0.5344036 ,  0.13510215,  0.03590512, -0.0261104 , -0.382562  ,\n",
       "         -0.39301473, -0.21799432,  0.19924855, -0.32285383, -0.3237709 ,\n",
       "          0.0174831 ],\n",
       "        [-0.02097712,  0.39863172,  0.08585406, -0.80064154, -0.34670687,\n",
       "         -0.05556734, -0.04796094, -0.08569327,  0.08798754, -0.30912265,\n",
       "         -0.0297394 , -0.34780547, -0.11394376,  0.60137993, -0.05579706,\n",
       "         -0.15972352],\n",
       "        [-0.2189048 ,  0.5158859 ,  0.01281196, -0.12005255, -0.23167479,\n",
       "          0.693717  , -0.22872095, -0.10144383,  0.01864564, -0.3342453 ,\n",
       "          0.20624015,  0.12311286,  0.00292323, -0.07763627, -0.22331017,\n",
       "         -0.27028698],\n",
       "        [ 0.05879602,  0.10514282,  0.24885699, -0.16367912, -0.06041494,\n",
       "          0.2382671 , -0.18610679,  0.1204648 ,  0.24521597,  0.30948678,\n",
       "          0.19978306,  0.06402597, -0.30172852, -0.290534  ,  0.20886211,\n",
       "         -0.23317872],\n",
       "        [-0.35220164,  0.14697137, -0.9320024 , -0.08390805, -0.24382403,\n",
       "          0.25279513,  0.06304693, -0.32485786, -0.04774594, -0.2941138 ,\n",
       "          0.20099375,  0.45381522,  0.063958  , -0.42539793,  0.10433434,\n",
       "         -0.5772492 ],\n",
       "        [-0.00684143,  0.35256925, -0.14721125, -0.1963663 , -0.30761677,\n",
       "         -0.30763027,  0.47730342, -0.13884571,  0.05794327, -0.30733484,\n",
       "         -0.34720224,  0.26758507, -0.00584298, -0.24476124, -0.01610916,\n",
       "         -0.2552254 ],\n",
       "        [ 0.3848342 , -0.26732132,  0.18682547,  0.02034456, -0.11297288,\n",
       "         -0.31210142,  0.01770639, -0.31580827,  0.2193032 , -0.3560138 ,\n",
       "         -0.08770509, -0.28569373, -0.36246002,  0.43793297, -0.19058646,\n",
       "          0.05423053],\n",
       "        [-0.1295028 ,  0.14723967,  0.30944064,  0.0593366 ,  0.17544588,\n",
       "         -0.17511214,  0.07602531,  0.2201834 ,  0.22483999, -0.04060549,\n",
       "         -0.00362656,  0.09844842,  0.22055826,  0.15232316,  0.27325362,\n",
       "          0.08119971],\n",
       "        [ 0.18639235, -0.39897224,  0.12975179, -0.25629285,  0.01016996,\n",
       "         -0.17524382, -0.073144  ,  0.10136172,  0.03753211,  0.05829263,\n",
       "         -0.16381888, -0.57228553,  0.27391937,  0.27992597,  0.23152252,\n",
       "         -0.04943413],\n",
       "        [-0.17383872,  0.22674887, -0.37280273, -0.26385748, -0.31533474,\n",
       "         -0.13044232,  0.12283104,  0.02111262,  0.08361755,  0.17937261,\n",
       "         -0.30141297, -0.22647366, -0.21579446,  0.25693688, -0.09028634,\n",
       "         -0.15550561],\n",
       "        [-0.62291354,  0.33814502,  0.04799411, -0.54289037, -0.36337027,\n",
       "         -0.33413947, -0.29884458, -0.2471852 ,  0.27011073, -0.07562333,\n",
       "         -0.02244593,  0.03172472, -0.05428416, -0.11948565, -0.5194777 ,\n",
       "         -0.48356843],\n",
       "        [-0.25331867, -0.32666263, -0.02752651, -0.2144368 ,  0.15022089,\n",
       "         -0.28392217,  0.04113455, -0.01225233,  0.3194277 ,  0.03577019,\n",
       "         -0.03351016,  0.14851685, -0.10601444, -0.10888243, -0.19374777,\n",
       "         -0.06252864],\n",
       "        [ 0.2238762 , -0.2172266 ,  0.08703901, -0.10544695,  0.25211543,\n",
       "         -0.00244366, -0.00836062, -0.33173564, -0.01611761,  0.27937827,\n",
       "         -0.1117213 , -0.46892023, -0.2874463 , -0.16525215,  0.23982961,\n",
       "          0.2805159 ],\n",
       "        [ 0.25321168, -0.20247811,  0.11043316,  0.06604633, -0.18371372,\n",
       "          0.23510294,  0.01695727,  0.10080656,  0.01009345, -0.12880261,\n",
       "         -0.2707162 , -0.3823369 , -0.0715606 ,  0.04713956, -0.09160831,\n",
       "         -0.11628134],\n",
       "        [-0.46305835, -0.24218087,  0.41596046, -0.33359918,  0.07208028,\n",
       "         -0.2452233 , -0.03736654, -0.3160581 ,  0.08722761,  0.23463854,\n",
       "         -0.22772047, -0.36294836, -0.09820001,  0.45315325,  0.02181977,\n",
       "          0.21644805],\n",
       "        [-0.11267211, -0.25078216, -0.5592548 , -0.18969895,  0.00610758,\n",
       "          0.1907621 , -0.01868904,  0.02334048,  0.03034573,  0.09619828,\n",
       "          0.15069956, -0.42197332, -0.39876598, -0.02040397,  0.12787071,\n",
       "          0.1285409 ],\n",
       "        [-0.2023964 , -0.26182666,  0.17951196,  0.28071877, -0.1505896 ,\n",
       "         -0.06641412,  0.5686744 ,  0.17912671,  0.03954687,  0.3398475 ,\n",
       "         -0.09583747,  0.52016705,  0.12479353, -0.11041008,  0.14904872,\n",
       "         -0.29886428],\n",
       "        [-0.00246981,  0.19340208, -0.3014807 , -0.20129825,  0.11698335,\n",
       "          0.0642037 , -0.26752818, -0.12553734,  0.14302172, -0.0888381 ,\n",
       "          0.16189526,  0.78536755, -0.02624597,  0.0115478 , -0.06734324,\n",
       "         -0.17086802],\n",
       "        [ 0.04237127, -0.38218206,  0.2523407 ,  0.20474887, -0.31192192,\n",
       "          0.0271183 ,  0.0859212 ,  0.22898296,  0.16993375, -0.52614725,\n",
       "          0.00731662, -0.22288421, -0.01369679,  0.27276757,  0.18516003,\n",
       "         -0.22555636],\n",
       "        [-0.04251108,  0.05335388, -0.1174545 , -0.17551304,  0.03406466,\n",
       "          0.32638916, -0.15468314, -0.3356275 ,  0.07437426, -0.48123345,\n",
       "          0.3236793 , -0.5266623 ,  0.25661263,  0.18565747,  0.04173389,\n",
       "         -0.21287534],\n",
       "        [-0.17012045,  0.28794298,  0.0521858 ,  0.02870862, -0.2547734 ,\n",
       "         -0.15222843, -0.17039564,  0.2736738 , -0.04817128, -0.29268187,\n",
       "          0.03297949,  0.5513555 , -0.21603471,  0.3485293 , -0.49172646,\n",
       "         -0.02145594],\n",
       "        [-0.1628695 ,  0.26552656,  0.23906544,  0.2383978 ,  0.05955893,\n",
       "          0.29208794,  0.06694175,  0.11651605,  0.2032412 , -0.08254266,\n",
       "         -0.20961161,  0.35180533,  0.34659353, -0.23064187, -0.30753732,\n",
       "          0.3314546 ],\n",
       "        [ 0.30574226,  0.29862714,  0.3190596 ,  0.05579367, -0.05177482,\n",
       "         -0.04647287, -0.105382  ,  0.20549227, -0.03451033,  0.24672332,\n",
       "         -0.13441575, -0.311305  ,  0.24727184, -0.04680863,  0.22953553,\n",
       "          0.17602146],\n",
       "        [-0.10563468,  0.23830937,  0.3920389 , -0.27804655, -0.36877555,\n",
       "         -0.7667667 ,  0.21921554, -0.28641558,  0.10580985, -0.79759276,\n",
       "         -0.39826906,  0.01148164, -0.42628065, -0.07865427, -0.38067803,\n",
       "         -0.22181594],\n",
       "        [ 0.01743893, -0.10732312, -0.02898812,  0.15283461, -0.10469254,\n",
       "         -0.13347213, -0.0132481 ,  0.2650455 ,  0.05798314, -0.3278116 ,\n",
       "          0.13527915,  0.4708133 ,  0.07153903,  0.1021583 ,  0.06708956,\n",
       "         -0.27853858],\n",
       "        [-0.30044788,  0.22557105, -0.36450222,  0.19178785, -0.24071008,\n",
       "          0.12658282,  0.11631066, -0.21930012, -0.23727873, -0.24332581,\n",
       "         -0.28479975, -0.06711498, -0.08981634,  0.19977441,  0.1550765 ,\n",
       "         -0.32320282],\n",
       "        [-0.09429692,  0.41608778,  0.21517643, -0.22117396,  0.15033187,\n",
       "         -0.24065585, -0.24642283,  0.07244033, -0.04263332, -0.01643751,\n",
       "         -0.01585835, -0.5201308 ,  0.14994141, -0.07848021, -0.14461385,\n",
       "          0.24332067],\n",
       "        [-0.2898686 , -0.11849625,  0.10529943, -0.35458398,  0.17328417,\n",
       "         -0.19264175, -0.3192193 , -0.2666492 ,  0.0044693 ,  0.0415817 ,\n",
       "         -0.14476697,  0.1911498 , -0.09911811, -0.22242218,  0.089765  ,\n",
       "          0.04701005]], dtype=float32),\n",
       " array([-0.05498146, -0.04803649, -0.21824765, -0.05512226, -0.04984825,\n",
       "        -0.16078988, -0.09495432, -0.09977932,  0.7130435 , -0.7105529 ,\n",
       "        -0.02841334,  0.5291449 , -0.05025154, -0.35682917, -0.04909376,\n",
       "         0.04481073], dtype=float32)]"
      ]
     },
     "execution_count": 38,
     "metadata": {},
     "output_type": "execute_result"
    }
   ],
   "source": [
    "model2.get_weights()"
   ]
  },
  {
   "cell_type": "code",
   "execution_count": 35,
   "metadata": {},
   "outputs": [],
   "source": [
    "df=np.load('F:/merged_half2.npy')"
   ]
  },
  {
   "cell_type": "code",
   "execution_count": 36,
   "metadata": {},
   "outputs": [],
   "source": [
    "user_metadata_dataset = tf.data.Dataset.from_tensor_slices(df[:,3:9])\n",
    "anime_metadata_dataset = tf.data.Dataset.from_tensor_slices(df[:,9:9+anime_input_shape])\n",
    "anime_studio_embedding_dataset = tf.data.Dataset.from_tensor_slices(df[:,9+anime_input_shape:9+anime_input_shape+studio_max_length])\n",
    "anime_genre_embedding_dataset = tf.data.Dataset.from_tensor_slices(df[:,9+anime_input_shape+studio_max_length:9+anime_input_shape+studio_max_length+genre_max_length])\n",
    "anime_source_embedding_dataset = tf.data.Dataset.from_tensor_slices(df[:,-1:])\n",
    "ratings_dataset = tf.data.Dataset.from_tensor_slices(df[:,2])"
   ]
  },
  {
   "cell_type": "code",
   "execution_count": 37,
   "metadata": {},
   "outputs": [],
   "source": [
    "dataset = tf.data.Dataset.zip(({'user_input':user_metadata_dataset, 'anime_input':anime_metadata_dataset,'anime_genre_embedding_input':anime_genre_embedding_dataset,'anime_studio_embedding_input':anime_studio_embedding_dataset,'anime_source_embedding_input':anime_source_embedding_dataset}, ratings_dataset))\n"
   ]
  },
  {
   "cell_type": "code",
   "execution_count": 38,
   "metadata": {},
   "outputs": [],
   "source": [
    "size = dataset.cardinality().numpy()"
   ]
  },
  {
   "cell_type": "code",
   "execution_count": 39,
   "metadata": {},
   "outputs": [
    {
     "data": {
      "text/plain": [
       "29984240"
      ]
     },
     "execution_count": 39,
     "metadata": {},
     "output_type": "execute_result"
    }
   ],
   "source": [
    "size"
   ]
  },
  {
   "cell_type": "code",
   "execution_count": 40,
   "metadata": {},
   "outputs": [],
   "source": [
    "#dataset=dataset.shuffle(int(size ))\n",
    "train_size = int(0.99 * size)  # Assuming an 80-10-10 split\n",
    "val_size =int(0.005*size)\n",
    "train_dataset = dataset.take(train_size)    \n",
    "val_dataset = dataset.skip(train_size).take(val_size)\n",
    "test_dataset2 = dataset.skip(train_size).skip(val_size)\n"
   ]
  },
  {
   "cell_type": "code",
   "execution_count": 41,
   "metadata": {},
   "outputs": [],
   "source": [
    "batch_size = 16384\n",
    "val_dataset=val_dataset.shuffle(batch_size)\n",
    "val_dataset = val_dataset.batch(batch_size)\n",
    "val_dataset = val_dataset.prefetch(buffer_size=tf.data.AUTOTUNE)"
   ]
  },
  {
   "cell_type": "code",
   "execution_count": 42,
   "metadata": {},
   "outputs": [
    {
     "data": {
      "text/plain": [
       "<bound method DatasetV2.cardinality of <PrefetchDataset element_spec=({'user_input': TensorSpec(shape=(None, 6), dtype=tf.float32, name=None), 'anime_input': TensorSpec(shape=(None, 8), dtype=tf.float32, name=None), 'anime_genre_embedding_input': TensorSpec(shape=(None, 13), dtype=tf.float32, name=None), 'anime_studio_embedding_input': TensorSpec(shape=(None, 7), dtype=tf.float32, name=None), 'anime_source_embedding_input': TensorSpec(shape=(None, 1), dtype=tf.float32, name=None)}, TensorSpec(shape=(None,), dtype=tf.float32, name=None))>>"
      ]
     },
     "execution_count": 42,
     "metadata": {},
     "output_type": "execute_result"
    }
   ],
   "source": [
    "val_dataset.cardinality"
   ]
  },
  {
   "cell_type": "code",
   "execution_count": 43,
   "metadata": {},
   "outputs": [],
   "source": [
    "batch_size = 16384\n",
    "train_dataset=train_dataset.shuffle(batch_size)\n",
    "train_dataset = train_dataset.batch(batch_size)\n",
    "train_dataset = train_dataset.prefetch(buffer_size=tf.data.AUTOTUNE)"
   ]
  },
  {
   "cell_type": "code",
   "execution_count": 44,
   "metadata": {},
   "outputs": [
    {
     "data": {
      "text/plain": [
       "<bound method DatasetV2.cardinality of <PrefetchDataset element_spec=({'user_input': TensorSpec(shape=(None, 6), dtype=tf.float32, name=None), 'anime_input': TensorSpec(shape=(None, 8), dtype=tf.float32, name=None), 'anime_genre_embedding_input': TensorSpec(shape=(None, 13), dtype=tf.float32, name=None), 'anime_studio_embedding_input': TensorSpec(shape=(None, 7), dtype=tf.float32, name=None), 'anime_source_embedding_input': TensorSpec(shape=(None, 1), dtype=tf.float32, name=None)}, TensorSpec(shape=(None,), dtype=tf.float32, name=None))>>"
      ]
     },
     "execution_count": 44,
     "metadata": {},
     "output_type": "execute_result"
    }
   ],
   "source": [
    "train_dataset.cardinality"
   ]
  },
  {
   "cell_type": "code",
   "execution_count": 45,
   "metadata": {},
   "outputs": [
    {
     "name": "stdout",
     "output_type": "stream",
     "text": [
      "Epoch 1/3\n",
      "1812/1812 [==============================] - 354s 195ms/step - loss: 0.9267 - mae: 0.9090 - val_loss: 0.9259 - val_mae: 0.9080\n",
      "Epoch 2/3\n",
      "1812/1812 [==============================] - 352s 194ms/step - loss: 0.9262 - mae: 0.9084 - val_loss: 0.9259 - val_mae: 0.9074\n",
      "Epoch 3/3\n",
      "1812/1812 [==============================] - 351s 193ms/step - loss: 0.9258 - mae: 0.9080 - val_loss: 0.9252 - val_mae: 0.9087\n"
     ]
    }
   ],
   "source": [
    "\n",
    "history=model3.fit(train_dataset, epochs=3,validation_data=val_dataset)"
   ]
  },
  {
   "cell_type": "code",
   "execution_count": 46,
   "metadata": {},
   "outputs": [
    {
     "data": {
      "image/png": "[encoded data removed]",
      "text/plain": [
       "<Figure size 1000x500 with 1 Axes>"
      ]
     },
     "metadata": {},
     "output_type": "display_data"
    }
   ],
   "source": [
    "# Plot training loss and validation loss\n",
    "plt.figure(figsize=(10, 5))\n",
    "plt.plot(history.history['loss'][:], label='Training Loss')\n",
    "plt.plot(history.history['val_loss'][:], label='Validation Loss')\n",
    "plt.title('Training and Validation Loss')\n",
    "plt.xlabel('Epoch')\n",
    "plt.ylabel('Loss')\n",
    "plt.legend()\n",
    "plt.show()"
   ]
  },
  {
   "cell_type": "code",
   "execution_count": 50,
   "metadata": {},
   "outputs": [],
   "source": [
    "test_dataset=test_dataset2.concatenate(test_dataset1)"
   ]
  },
  {
   "cell_type": "code",
   "execution_count": 51,
   "metadata": {},
   "outputs": [],
   "source": [
    "batch_size = 16384\n",
    "test_dataset=test_dataset.shuffle(batch_size)\n",
    "test_dataset = test_dataset.batch(batch_size)\n",
    "test_dataset = test_dataset.prefetch(buffer_size=tf.data.AUTOTUNE)"
   ]
  },
  {
   "cell_type": "code",
   "execution_count": 32,
   "metadata": {},
   "outputs": [],
   "source": [
    "model3=tf.keras.models.load_model('models/merged_model.keras')"
   ]
  },
  {
   "cell_type": "code",
   "execution_count": 52,
   "metadata": {},
   "outputs": [
    {
     "name": "stdout",
     "output_type": "stream",
     "text": [
      "19/19 [==============================] - 266s 7s/step - loss: 0.9254 - mae: 0.9086\n"
     ]
    },
    {
     "data": {
      "text/plain": [
       "[0.9254308342933655, 0.9085860252380371]"
      ]
     },
     "execution_count": 52,
     "metadata": {},
     "output_type": "execute_result"
    }
   ],
   "source": [
    "model3.evaluate(test_dataset)"
   ]
  },
  {
   "cell_type": "code",
   "execution_count": 39,
   "metadata": {},
   "outputs": [
    {
     "name": "stdout",
     "output_type": "stream",
     "text": [
      "WARNING:tensorflow:Compiled the loaded model, but the compiled metrics have yet to be built. `model.compile_metrics` will be empty until you train or evaluate the model.\n"
     ]
    }
   ],
   "source": [
    "model1.save('models/user_model_2.keras')"
   ]
  },
  {
   "cell_type": "code",
   "execution_count": 40,
   "metadata": {},
   "outputs": [
    {
     "name": "stdout",
     "output_type": "stream",
     "text": [
      "WARNING:tensorflow:Compiled the loaded model, but the compiled metrics have yet to be built. `model.compile_metrics` will be empty until you train or evaluate the model.\n"
     ]
    }
   ],
   "source": [
    "model2.save('models/anime_model_2.keras')"
   ]
  },
  {
   "cell_type": "code",
   "execution_count": 41,
   "metadata": {},
   "outputs": [],
   "source": [
    "model3.save('models/merged_model_2.keras')"
   ]
  },
  {
   "cell_type": "code",
   "execution_count": 42,
   "metadata": {},
   "outputs": [
    {
     "name": "stdout",
     "output_type": "stream",
     "text": [
      "WARNING:tensorflow:No training configuration found in the save file, so the model was *not* compiled. Compile it manually.\n"
     ]
    }
   ],
   "source": [
    "test=tf.keras.models.load_model('models/anime_model_2.keras')"
   ]
  },
  {
   "cell_type": "code",
   "execution_count": 43,
   "metadata": {},
   "outputs": [
    {
     "data": {
      "text/plain": [
       "[array([[ 5.62825380e-03,  9.91345104e-03, -1.10392766e-02,\n",
       "          9.54613090e-03,  4.28834930e-02, -5.84538188e-03,\n",
       "          5.27394190e-03,  2.14367732e-02, -1.09464033e-02,\n",
       "          1.99142732e-02, -1.10869920e-02,  9.95585322e-03,\n",
       "          3.48102488e-02, -1.63817797e-02,  3.46202813e-02,\n",
       "          5.19492722e-04],\n",
       "        [-3.36411744e-02, -4.52087522e-02,  1.22640021e-02,\n",
       "          1.69651620e-02,  1.74281485e-02, -1.01978891e-02,\n",
       "         -2.52470374e-02,  4.39139642e-02,  2.92385109e-02,\n",
       "         -1.03427880e-02,  3.15418877e-02,  1.45793445e-02,\n",
       "         -3.49535830e-02,  2.66151503e-03, -3.76952291e-02,\n",
       "          1.00169070e-02],\n",
       "        [-1.13230109e-01, -1.83368567e-02, -1.95923582e-01,\n",
       "          1.08080685e-01,  7.57813826e-02, -5.30283935e-02,\n",
       "          1.81446657e-01,  6.98020458e-02,  1.48174046e-02,\n",
       "         -1.41629711e-01, -5.26574105e-02,  4.28185165e-02,\n",
       "          1.16613664e-01,  7.89154544e-02, -1.12268880e-01,\n",
       "          3.13983522e-02],\n",
       "        [ 1.09950872e-02, -8.41116812e-03, -5.44561781e-02,\n",
       "         -1.57328650e-01, -1.29766744e-02,  8.95484015e-02,\n",
       "         -1.75455570e-01, -1.03761286e-01,  1.25967652e-01,\n",
       "         -2.14947369e-02, -2.38715187e-02, -1.38728889e-02,\n",
       "         -1.85423233e-02, -4.02555242e-02, -1.66876167e-02,\n",
       "          1.11648850e-02],\n",
       "        [ 1.33894458e-01, -5.32729132e-03, -1.00184597e-01,\n",
       "         -9.11771730e-02, -3.74768600e-02, -2.85296794e-02,\n",
       "          2.23066118e-02,  1.83142852e-02, -4.78292406e-02,\n",
       "         -3.65584880e-01, -3.74420881e-02,  1.16537549e-01,\n",
       "          5.81069998e-02,  8.01686123e-02, -1.04774609e-01,\n",
       "          1.35489792e-01],\n",
       "        [-1.85769960e-01, -1.71128243e-01,  9.87883508e-02,\n",
       "          1.29114792e-01, -7.83746541e-02,  1.18405065e-02,\n",
       "          1.11697242e-01,  3.66095193e-02,  7.64930900e-03,\n",
       "         -6.08482845e-02, -5.11322096e-02,  3.99217457e-02,\n",
       "          7.30176717e-02, -2.19139624e-02, -4.25458625e-02,\n",
       "         -5.12242168e-02],\n",
       "        [-3.44685353e-02,  9.92911682e-03, -2.68358849e-02,\n",
       "         -5.78090511e-02,  1.32468894e-01, -7.95346051e-02,\n",
       "          2.57214122e-02, -1.04014024e-01, -1.14392184e-01,\n",
       "          8.49410594e-02,  1.16769999e-01, -3.42637971e-02,\n",
       "         -6.28292421e-03,  3.79464328e-02,  1.33433089e-01,\n",
       "          2.66307648e-02],\n",
       "        [ 2.76352968e-02,  6.34410605e-02, -9.02955532e-02,\n",
       "          6.15124851e-02,  3.36404860e-01, -3.55933160e-02,\n",
       "          1.65094435e-01,  8.18569213e-02, -4.58811298e-02,\n",
       "          2.36105055e-01,  9.16295275e-02, -6.69408143e-02,\n",
       "          1.20550536e-01, -2.76369900e-02,  3.61889869e-01,\n",
       "          6.29122332e-02],\n",
       "        [ 2.83631504e-01,  2.38724891e-02, -1.27112627e-01,\n",
       "         -4.48066555e-02, -2.25468650e-01, -4.05844348e-03,\n",
       "         -5.89508675e-02, -5.14234640e-02,  2.10024655e-01,\n",
       "         -1.86561599e-01, -1.07161015e-01,  1.36447132e-01,\n",
       "         -3.34158503e-02,  1.31147936e-01, -4.33220565e-01,\n",
       "         -1.25633910e-01],\n",
       "        [ 1.02759212e-01,  6.38763070e-01,  3.38897437e-01,\n",
       "          7.97984079e-02,  3.74298364e-01,  1.64076284e-01,\n",
       "          3.59216854e-02, -3.12186331e-01,  2.07675323e-01,\n",
       "         -1.40540034e-01,  7.29530036e-01,  4.03913766e-01,\n",
       "         -1.29043043e-01,  1.66554913e-01,  1.82991400e-01,\n",
       "          3.63294899e-01],\n",
       "        [-1.82243153e-01, -1.11007012e-01,  2.48696227e-02,\n",
       "         -1.95390768e-02, -3.95344831e-02, -4.36941162e-02,\n",
       "          4.62908968e-02, -9.23130363e-02,  1.13310955e-01,\n",
       "         -2.14068755e-03,  8.99844617e-02,  4.03361507e-02,\n",
       "         -2.93520801e-02, -4.65560779e-02, -3.83947827e-02,\n",
       "         -7.33780563e-02],\n",
       "        [-1.51714146e-01, -7.84004014e-03,  1.36934295e-01,\n",
       "          1.67578027e-01,  4.13192034e-01,  1.49837121e-01,\n",
       "          5.97503148e-02, -9.80818346e-02, -4.96415533e-02,\n",
       "          8.49424839e-01, -1.19752571e-01, -1.30654737e-01,\n",
       "          1.00164637e-01,  2.38402903e-01,  3.45614672e-01,\n",
       "         -6.19722940e-02],\n",
       "        [-1.15131512e-01, -1.56231135e-01,  1.82438135e-01,\n",
       "         -2.33580500e-01, -3.43717545e-01,  3.84838437e-03,\n",
       "         -1.39014199e-01, -3.30677301e-01, -7.70780891e-02,\n",
       "         -3.83920848e-01,  2.63103068e-01,  2.86820769e-01,\n",
       "         -1.82437658e-01,  1.02134146e-01, -2.19258726e-01,\n",
       "          8.46486725e-03],\n",
       "        [ 9.99248847e-02,  1.79123059e-01,  5.24695450e-03,\n",
       "          2.39690226e-02, -3.64639126e-02,  2.38036767e-01,\n",
       "         -1.06727749e-01,  3.63431498e-02, -8.83121938e-02,\n",
       "          1.31018236e-01, -4.72694635e-02, -1.68384865e-01,\n",
       "         -2.44131997e-01, -1.80911258e-01,  1.58495292e-01,\n",
       "         -7.34278839e-03],\n",
       "        [ 4.16421056e-01, -2.33502641e-01,  7.13226140e-01,\n",
       "         -7.92022943e-02,  1.02078438e-01, -7.11034238e-02,\n",
       "         -8.00750852e-02,  1.80031091e-01,  8.53946805e-02,\n",
       "         -1.30452737e-01,  8.04741532e-02,  3.24653447e-01,\n",
       "         -4.69209880e-01,  3.70990962e-01,  2.67076399e-02,\n",
       "         -1.78066306e-02],\n",
       "        [-2.67700642e-01, -2.66659856e-01,  2.62311518e-01,\n",
       "          7.16499984e-01,  2.03990430e-01, -4.06823128e-01,\n",
       "          7.23274052e-01,  6.06209263e-02, -6.15447879e-01,\n",
       "          2.17416361e-01,  4.92775626e-02,  3.49520773e-01,\n",
       "          1.14531934e-01,  4.35148150e-01,  2.09148481e-01,\n",
       "         -3.85024130e-01],\n",
       "        [ 7.45031610e-02, -1.18464895e-01, -7.97612667e-02,\n",
       "          1.04695216e-01,  4.75886874e-02, -2.37562120e-01,\n",
       "          1.44039318e-01, -1.84088238e-02, -2.11801097e-01,\n",
       "         -9.93609652e-02,  1.60913244e-01,  1.05706789e-02,\n",
       "          1.11732915e-01,  1.08140953e-01, -1.58050358e-02,\n",
       "         -2.03330159e-01],\n",
       "        [-8.97262022e-02,  6.67689219e-02,  2.78849125e-01,\n",
       "         -4.15202118e-02,  6.74471408e-02, -1.37765989e-01,\n",
       "         -2.30279863e-01, -1.97646737e-01, -7.51224160e-02,\n",
       "          3.68127286e-01,  1.93196937e-01,  4.61138263e-02,\n",
       "          1.36948362e-01,  6.40277658e-03,  3.36062700e-01,\n",
       "         -3.84214483e-02],\n",
       "        [ 5.29275656e-01,  2.39242092e-01, -3.56979102e-01,\n",
       "         -9.69565064e-02,  3.58818531e-01,  1.93443745e-02,\n",
       "          1.32924110e-01,  2.88784504e-01,  2.13971496e-01,\n",
       "          7.60178864e-02, -2.55186021e-01, -3.69179249e-02,\n",
       "          2.78144509e-01, -2.05785362e-03,  1.44315258e-01,\n",
       "          1.13805763e-01],\n",
       "        [ 3.95879626e-01,  8.61377954e-01, -6.39788985e-01,\n",
       "          4.81702268e-01, -5.66803813e-01,  5.06009340e-01,\n",
       "          2.67692268e-01,  1.01637113e+00, -6.48697793e-01,\n",
       "         -6.75355434e-01, -4.59760904e-01, -4.87697780e-01,\n",
       "         -6.20866597e-01, -9.15299237e-01, -7.52671480e-01,\n",
       "          7.72182792e-02],\n",
       "        [ 1.50907233e-01, -8.07046413e-01, -3.97601336e-01,\n",
       "         -6.67959690e-01, -2.92021483e-01, -5.17220795e-01,\n",
       "          4.47155952e-01, -2.78732747e-01,  1.27875740e-02,\n",
       "         -3.47215354e-01,  1.88681707e-01,  5.27341187e-01,\n",
       "         -1.52635556e-02,  8.25371802e-01,  8.05447027e-02,\n",
       "         -1.06666833e-01],\n",
       "        [-6.97241247e-01,  7.38997579e-01,  3.07539493e-01,\n",
       "          2.33156100e-01, -6.32356182e-02, -3.77617061e-01,\n",
       "         -9.14154947e-02, -4.02493805e-01, -3.56295675e-01,\n",
       "         -5.33762462e-02,  5.23012638e-01,  2.22287610e-01,\n",
       "          8.71028900e-01, -1.53203130e-01,  1.17325284e-01,\n",
       "          4.06068981e-01],\n",
       "        [ 5.34786917e-02, -8.84411156e-01,  6.70478046e-01,\n",
       "          1.59874165e+00,  4.00631607e-01, -2.47372985e-01,\n",
       "          3.24764818e-01,  8.57711732e-01, -1.55459106e+00,\n",
       "          6.18117929e-01, -7.78378695e-02, -6.61657333e-01,\n",
       "          1.63343906e-01, -6.27246559e-01,  6.90968990e-01,\n",
       "         -3.08102190e-01]], dtype=float32),\n",
       " array([[-2.16610618e-02, -6.51174830e-03,  6.30495965e-01, ...,\n",
       "         -2.91718426e-03, -9.63451993e-03, -2.10855622e-03],\n",
       "        [ 3.51782106e-02,  3.24145891e-02, -4.42143530e-03, ...,\n",
       "         -4.91839908e-02, -1.25159509e-02,  6.58824295e-03],\n",
       "        [ 1.26754031e-01,  3.72192502e-01, -1.18726894e-01, ...,\n",
       "         -1.01638585e-01, -6.67697638e-02,  2.24631011e-01],\n",
       "        ...,\n",
       "        [-3.30134511e-01, -6.45727098e-01, -1.56663619e-02, ...,\n",
       "          2.83409692e-02, -6.46310210e-01,  7.72512555e-02],\n",
       "        [ 1.01347733e+00,  5.38075268e-01, -7.04931855e-01, ...,\n",
       "         -8.59962702e-01,  5.34153581e-01,  1.78343616e-04],\n",
       "        [ 1.60222538e-02, -4.73194718e-02,  1.32750012e-02, ...,\n",
       "         -2.33657118e-02,  3.35718058e-02,  3.06092761e-02]], dtype=float32),\n",
       " array([[ 0.02953554,  0.04787408,  0.03272371,  0.01941172, -0.04792256,\n",
       "          0.00262854, -0.01428517,  0.04539299,  0.04550654,  0.01151462,\n",
       "         -0.02021471, -0.04800725, -0.02304028,  0.04622892,  0.03758312,\n",
       "          0.02608902],\n",
       "        [-0.00856835,  0.01839859,  0.04199084,  0.03598534, -0.02125569,\n",
       "         -0.03618271,  0.03330788,  0.01159519, -0.04799841, -0.00584338,\n",
       "          0.02574534, -0.03052095,  0.01894767,  0.03586895, -0.00847001,\n",
       "         -0.02132212],\n",
       "        [-0.04913739,  0.12908138,  0.1255511 ,  0.01160085,  0.11061172,\n",
       "         -0.1735624 ,  0.40493536,  0.20979242,  0.05711823,  0.11501799,\n",
       "         -0.39317617, -0.1282868 , -0.18107675, -0.07783386,  0.02819259,\n",
       "          0.21585977],\n",
       "        [ 0.02561455, -0.02311704,  0.01241523,  0.01923527,  0.06476007,\n",
       "          0.02986985, -0.08262745, -0.05937668, -0.02804847, -0.05641211,\n",
       "          0.02949434,  0.06606763, -0.07720698,  0.0584828 ,  0.32359448,\n",
       "          0.13847397],\n",
       "        [ 0.29706743,  0.36510357,  0.39801466,  0.26891273, -0.82750267,\n",
       "         -0.6325832 ,  0.33377823,  0.34212714,  0.2285337 , -0.497863  ,\n",
       "         -0.49318117, -0.2564511 ,  0.10564242, -0.10233022,  0.41002926,\n",
       "          0.22771369],\n",
       "        [-0.21638653, -0.07007859, -0.14607549, -0.05320518,  0.01559239,\n",
       "         -0.01775333,  0.07893698, -0.20370047,  0.25119606,  0.20191029,\n",
       "          0.25687793,  0.2638099 ,  0.10795072, -0.05745337, -0.18098083,\n",
       "         -0.09741703],\n",
       "        [ 0.46579885, -0.27267754, -0.2605641 , -0.16145107,  0.11036307,\n",
       "          0.01181254, -0.00289302, -0.12413482, -0.19882408, -0.20679592,\n",
       "          0.05687027,  0.18086979, -0.13078766, -0.14552271,  0.5240463 ,\n",
       "          0.06063562],\n",
       "        [-0.134692  , -0.14958407, -0.01757486,  0.06799778, -0.02675522,\n",
       "          0.13315976, -0.3825401 , -0.41416124,  0.29806504,  0.11678271,\n",
       "          0.34286457,  0.23816517,  0.14077562, -0.04610544,  0.17813608,\n",
       "         -0.23993534],\n",
       "        [ 0.00904061, -0.1164559 ,  0.5318207 ,  0.46526223, -0.33688334,\n",
       "         -0.2925486 ,  0.22102484, -0.00696025,  0.13512823, -0.11807627,\n",
       "          0.02739624,  0.06705094,  0.17530982, -0.1676158 , -0.68506545,\n",
       "          0.00889847],\n",
       "        [ 0.29587844, -0.0985794 , -0.18343881, -0.02277653, -0.64759314,\n",
       "          0.25907022,  0.08039109,  0.19930176, -0.0303529 ,  0.01234681,\n",
       "          0.09901297, -0.14435604,  0.14282836,  0.14903845, -0.71929383,\n",
       "         -0.1718492 ],\n",
       "        [ 0.27612096, -0.07839636,  0.16675885,  0.13826422, -0.11538823,\n",
       "          0.03211005,  0.23909035, -0.10205059,  0.13474528,  0.11673913,\n",
       "         -0.4236505 ,  0.11519564, -0.21402097,  0.00536202, -0.38307908,\n",
       "          0.19033504],\n",
       "        [ 0.31517294, -0.7512063 , -0.44522724, -0.5101635 ,  0.3335196 ,\n",
       "          0.37071943, -0.32839322, -0.47381505, -0.16159841,  0.15357101,\n",
       "         -1.0001636 ,  0.3248154 ,  0.3848111 , -1.690817  ,  1.9350185 ,\n",
       "         -0.8038306 ],\n",
       "        [ 0.37980056, -0.05843307,  0.23201407,  0.14688541, -0.06241979,\n",
       "         -0.06524476,  0.31283307,  0.30963534, -0.24865575, -0.35054868,\n",
       "         -0.38132304, -0.33584702,  0.17326285, -0.17038186,  0.5311708 ,\n",
       "         -0.11310675],\n",
       "        [-0.49245077,  0.27759716,  0.2217901 ,  0.09513208,  1.5164845 ,\n",
       "          0.4772648 , -1.5438765 , -0.14013183, -0.07553382, -0.50865185,\n",
       "          0.9041829 ,  0.22865021, -0.42309532,  0.6746278 ,  0.9936845 ,\n",
       "          0.50624335],\n",
       "        [ 0.11475746,  0.03391217,  0.13403954,  0.05964441, -0.09748658,\n",
       "          0.00789695,  0.7647242 , -0.5681386 , -0.40670264, -0.49614227,\n",
       "         -0.13361862,  0.60880244, -0.06493046,  0.04879419, -1.0282471 ,\n",
       "          0.27497676],\n",
       "        [-0.41953042, -0.21254338,  0.11739138,  0.02929209,  0.7249767 ,\n",
       "         -0.5597455 ,  1.6251984 , -0.54372156,  0.76374465,  1.0512277 ,\n",
       "          0.30078405,  0.892343  , -1.1084807 , -0.07608764, -0.82722557,\n",
       "          1.5629905 ],\n",
       "        [-1.1756542 ,  0.5812523 , -0.13975734,  0.36001283, -1.7410226 ,\n",
       "         -0.62779593, -0.02948414,  0.8963816 ,  0.5506226 , -0.2930363 ,\n",
       "         -0.654849  , -1.6072117 ,  1.4563211 ,  0.3242821 , -0.54805785,\n",
       "         -0.29166412],\n",
       "        [ 0.95053124,  0.6637248 ,  0.71748585, -0.04093757, -0.09988744,\n",
       "          0.13844924,  0.40373746,  0.24435484, -0.22219917, -0.5030992 ,\n",
       "          0.21140477, -0.17542881, -0.68947786,  0.35243222, -1.1952053 ,\n",
       "          0.6747079 ],\n",
       "        [-0.07277378,  0.31868285,  0.10104883,  0.13986   , -0.74236095,\n",
       "          0.16189331,  0.2342009 ,  0.00637886,  0.42840582,  0.19230646,\n",
       "          0.86031944, -0.25768942, -0.06850639,  0.01885033,  0.56195474,\n",
       "          0.16000925]], dtype=float32),\n",
       " array([[-0.727713  , -0.08940877, -0.473771  , ...,  0.07273351,\n",
       "         -0.05675691,  0.09170602],\n",
       "        [ 0.5749676 ,  0.07603823, -0.06381247, ..., -0.07121439,\n",
       "         -0.36906254,  0.05835241],\n",
       "        [-0.21714798,  0.3367438 , -0.32463843, ..., -0.62297004,\n",
       "         -0.09766991, -0.06622272],\n",
       "        ...,\n",
       "        [-0.07144049,  0.16111316,  0.09458533, ...,  0.07350346,\n",
       "         -0.20532247, -0.10435985],\n",
       "        [ 0.19157203, -0.25087893,  0.01561897, ..., -0.1628438 ,\n",
       "          0.21284592,  0.04949159],\n",
       "        [-0.24301659,  0.12610702, -0.21995023, ..., -0.06135858,\n",
       "         -0.3707351 , -0.05389013]], dtype=float32),\n",
       " array([-0.3502701 ,  0.03412509, -0.3809706 , -0.21801586, -0.06140528,\n",
       "         0.5136853 , -0.31528434, -0.44835752, -0.09694277, -0.5688559 ,\n",
       "        -0.19860546, -0.24338543, -0.5419788 , -0.01337163,  1.49243   ,\n",
       "        -0.5873112 , -0.04992585, -0.11100654, -0.0715799 , -0.08600919,\n",
       "        -0.11139544, -0.06385082, -0.30188566, -0.8651027 , -0.58252734,\n",
       "        -0.33862105, -0.0600192 ,  0.5161139 , -0.14930661, -0.07871649,\n",
       "        -0.15929022, -0.04950817], dtype=float32),\n",
       " array([[-0.36463645,  0.23158051, -0.2186768 , -0.23543333, -0.352564  ,\n",
       "         -0.15425327,  0.39283457, -0.23996258, -0.06811964, -0.01302927,\n",
       "          0.12336019, -0.4774131 , -0.4807662 ,  0.04813984, -0.10502508,\n",
       "         -0.09902889],\n",
       "        [-0.48323673, -0.06626593, -0.18792015,  0.14381503, -0.04056485,\n",
       "         -0.61462116,  0.33737105,  0.0913648 ,  0.03613329, -0.00751142,\n",
       "         -0.18649045,  0.1381172 , -0.3870019 ,  0.18553546, -0.33615172,\n",
       "         -0.15713526],\n",
       "        [-0.3246283 ,  0.00670305,  0.13967195,  0.00783738, -0.29816267,\n",
       "         -0.04410473, -0.05294298,  0.09075421,  0.10418918, -0.07629777,\n",
       "         -0.13367455, -0.48791698, -0.03838667, -0.28941768,  0.02804686,\n",
       "         -0.00944206],\n",
       "        [-0.3897489 ,  0.06411071,  0.33161613, -0.01136086, -0.22490014,\n",
       "         -0.16660944, -0.3042484 , -0.1827145 ,  0.01073251, -0.23190278,\n",
       "         -0.32834435,  0.48693871, -0.01350185, -0.3210199 ,  0.2619914 ,\n",
       "         -0.1629355 ],\n",
       "        [ 0.05321113, -0.08787137,  0.05319916,  0.16823417,  0.26293743,\n",
       "         -0.5344036 ,  0.13510215,  0.03590512, -0.0261104 , -0.382562  ,\n",
       "         -0.39301473, -0.21799432,  0.19924855, -0.32285383, -0.3237709 ,\n",
       "          0.0174831 ],\n",
       "        [-0.02097712,  0.39863172,  0.08585406, -0.80064154, -0.34670687,\n",
       "         -0.05556734, -0.04796094, -0.08569327,  0.08798754, -0.30912265,\n",
       "         -0.0297394 , -0.34780547, -0.11394376,  0.60137993, -0.05579706,\n",
       "         -0.15972352],\n",
       "        [-0.2189048 ,  0.5158859 ,  0.01281196, -0.12005255, -0.23167479,\n",
       "          0.693717  , -0.22872095, -0.10144383,  0.01864564, -0.3342453 ,\n",
       "          0.20624015,  0.12311286,  0.00292323, -0.07763627, -0.22331017,\n",
       "         -0.27028698],\n",
       "        [ 0.05879602,  0.10514282,  0.24885699, -0.16367912, -0.06041494,\n",
       "          0.2382671 , -0.18610679,  0.1204648 ,  0.24521597,  0.30948678,\n",
       "          0.19978306,  0.06402597, -0.30172852, -0.290534  ,  0.20886211,\n",
       "         -0.23317872],\n",
       "        [-0.35220164,  0.14697137, -0.9320024 , -0.08390805, -0.24382403,\n",
       "          0.25279513,  0.06304693, -0.32485786, -0.04774594, -0.2941138 ,\n",
       "          0.20099375,  0.45381522,  0.063958  , -0.42539793,  0.10433434,\n",
       "         -0.5772492 ],\n",
       "        [-0.00684143,  0.35256925, -0.14721125, -0.1963663 , -0.30761677,\n",
       "         -0.30763027,  0.47730342, -0.13884571,  0.05794327, -0.30733484,\n",
       "         -0.34720224,  0.26758507, -0.00584298, -0.24476124, -0.01610916,\n",
       "         -0.2552254 ],\n",
       "        [ 0.3848342 , -0.26732132,  0.18682547,  0.02034456, -0.11297288,\n",
       "         -0.31210142,  0.01770639, -0.31580827,  0.2193032 , -0.3560138 ,\n",
       "         -0.08770509, -0.28569373, -0.36246002,  0.43793297, -0.19058646,\n",
       "          0.05423053],\n",
       "        [-0.1295028 ,  0.14723967,  0.30944064,  0.0593366 ,  0.17544588,\n",
       "         -0.17511214,  0.07602531,  0.2201834 ,  0.22483999, -0.04060549,\n",
       "         -0.00362656,  0.09844842,  0.22055826,  0.15232316,  0.27325362,\n",
       "          0.08119971],\n",
       "        [ 0.18639235, -0.39897224,  0.12975179, -0.25629285,  0.01016996,\n",
       "         -0.17524382, -0.073144  ,  0.10136172,  0.03753211,  0.05829263,\n",
       "         -0.16381888, -0.57228553,  0.27391937,  0.27992597,  0.23152252,\n",
       "         -0.04943413],\n",
       "        [-0.17383872,  0.22674887, -0.37280273, -0.26385748, -0.31533474,\n",
       "         -0.13044232,  0.12283104,  0.02111262,  0.08361755,  0.17937261,\n",
       "         -0.30141297, -0.22647366, -0.21579446,  0.25693688, -0.09028634,\n",
       "         -0.15550561],\n",
       "        [-0.62291354,  0.33814502,  0.04799411, -0.54289037, -0.36337027,\n",
       "         -0.33413947, -0.29884458, -0.2471852 ,  0.27011073, -0.07562333,\n",
       "         -0.02244593,  0.03172472, -0.05428416, -0.11948565, -0.5194777 ,\n",
       "         -0.48356843],\n",
       "        [-0.25331867, -0.32666263, -0.02752651, -0.2144368 ,  0.15022089,\n",
       "         -0.28392217,  0.04113455, -0.01225233,  0.3194277 ,  0.03577019,\n",
       "         -0.03351016,  0.14851685, -0.10601444, -0.10888243, -0.19374777,\n",
       "         -0.06252864],\n",
       "        [ 0.2238762 , -0.2172266 ,  0.08703901, -0.10544695,  0.25211543,\n",
       "         -0.00244366, -0.00836062, -0.33173564, -0.01611761,  0.27937827,\n",
       "         -0.1117213 , -0.46892023, -0.2874463 , -0.16525215,  0.23982961,\n",
       "          0.2805159 ],\n",
       "        [ 0.25321168, -0.20247811,  0.11043316,  0.06604633, -0.18371372,\n",
       "          0.23510294,  0.01695727,  0.10080656,  0.01009345, -0.12880261,\n",
       "         -0.2707162 , -0.3823369 , -0.0715606 ,  0.04713956, -0.09160831,\n",
       "         -0.11628134],\n",
       "        [-0.46305835, -0.24218087,  0.41596046, -0.33359918,  0.07208028,\n",
       "         -0.2452233 , -0.03736654, -0.3160581 ,  0.08722761,  0.23463854,\n",
       "         -0.22772047, -0.36294836, -0.09820001,  0.45315325,  0.02181977,\n",
       "          0.21644805],\n",
       "        [-0.11267211, -0.25078216, -0.5592548 , -0.18969895,  0.00610758,\n",
       "          0.1907621 , -0.01868904,  0.02334048,  0.03034573,  0.09619828,\n",
       "          0.15069956, -0.42197332, -0.39876598, -0.02040397,  0.12787071,\n",
       "          0.1285409 ],\n",
       "        [-0.2023964 , -0.26182666,  0.17951196,  0.28071877, -0.1505896 ,\n",
       "         -0.06641412,  0.5686744 ,  0.17912671,  0.03954687,  0.3398475 ,\n",
       "         -0.09583747,  0.52016705,  0.12479353, -0.11041008,  0.14904872,\n",
       "         -0.29886428],\n",
       "        [-0.00246981,  0.19340208, -0.3014807 , -0.20129825,  0.11698335,\n",
       "          0.0642037 , -0.26752818, -0.12553734,  0.14302172, -0.0888381 ,\n",
       "          0.16189526,  0.78536755, -0.02624597,  0.0115478 , -0.06734324,\n",
       "         -0.17086802],\n",
       "        [ 0.04237127, -0.38218206,  0.2523407 ,  0.20474887, -0.31192192,\n",
       "          0.0271183 ,  0.0859212 ,  0.22898296,  0.16993375, -0.52614725,\n",
       "          0.00731662, -0.22288421, -0.01369679,  0.27276757,  0.18516003,\n",
       "         -0.22555636],\n",
       "        [-0.04251108,  0.05335388, -0.1174545 , -0.17551304,  0.03406466,\n",
       "          0.32638916, -0.15468314, -0.3356275 ,  0.07437426, -0.48123345,\n",
       "          0.3236793 , -0.5266623 ,  0.25661263,  0.18565747,  0.04173389,\n",
       "         -0.21287534],\n",
       "        [-0.17012045,  0.28794298,  0.0521858 ,  0.02870862, -0.2547734 ,\n",
       "         -0.15222843, -0.17039564,  0.2736738 , -0.04817128, -0.29268187,\n",
       "          0.03297949,  0.5513555 , -0.21603471,  0.3485293 , -0.49172646,\n",
       "         -0.02145594],\n",
       "        [-0.1628695 ,  0.26552656,  0.23906544,  0.2383978 ,  0.05955893,\n",
       "          0.29208794,  0.06694175,  0.11651605,  0.2032412 , -0.08254266,\n",
       "         -0.20961161,  0.35180533,  0.34659353, -0.23064187, -0.30753732,\n",
       "          0.3314546 ],\n",
       "        [ 0.30574226,  0.29862714,  0.3190596 ,  0.05579367, -0.05177482,\n",
       "         -0.04647287, -0.105382  ,  0.20549227, -0.03451033,  0.24672332,\n",
       "         -0.13441575, -0.311305  ,  0.24727184, -0.04680863,  0.22953553,\n",
       "          0.17602146],\n",
       "        [-0.10563468,  0.23830937,  0.3920389 , -0.27804655, -0.36877555,\n",
       "         -0.7667667 ,  0.21921554, -0.28641558,  0.10580985, -0.79759276,\n",
       "         -0.39826906,  0.01148164, -0.42628065, -0.07865427, -0.38067803,\n",
       "         -0.22181594],\n",
       "        [ 0.01743893, -0.10732312, -0.02898812,  0.15283461, -0.10469254,\n",
       "         -0.13347213, -0.0132481 ,  0.2650455 ,  0.05798314, -0.3278116 ,\n",
       "          0.13527915,  0.4708133 ,  0.07153903,  0.1021583 ,  0.06708956,\n",
       "         -0.27853858],\n",
       "        [-0.30044788,  0.22557105, -0.36450222,  0.19178785, -0.24071008,\n",
       "          0.12658282,  0.11631066, -0.21930012, -0.23727873, -0.24332581,\n",
       "         -0.28479975, -0.06711498, -0.08981634,  0.19977441,  0.1550765 ,\n",
       "         -0.32320282],\n",
       "        [-0.09429692,  0.41608778,  0.21517643, -0.22117396,  0.15033187,\n",
       "         -0.24065585, -0.24642283,  0.07244033, -0.04263332, -0.01643751,\n",
       "         -0.01585835, -0.5201308 ,  0.14994141, -0.07848021, -0.14461385,\n",
       "          0.24332067],\n",
       "        [-0.2898686 , -0.11849625,  0.10529943, -0.35458398,  0.17328417,\n",
       "         -0.19264175, -0.3192193 , -0.2666492 ,  0.0044693 ,  0.0415817 ,\n",
       "         -0.14476697,  0.1911498 , -0.09911811, -0.22242218,  0.089765  ,\n",
       "          0.04701005]], dtype=float32),\n",
       " array([-0.05498146, -0.04803649, -0.21824765, -0.05512226, -0.04984825,\n",
       "        -0.16078988, -0.09495432, -0.09977932,  0.7130435 , -0.7105529 ,\n",
       "        -0.02841334,  0.5291449 , -0.05025154, -0.35682917, -0.04909376,\n",
       "         0.04481073], dtype=float32)]"
      ]
     },
     "execution_count": 43,
     "metadata": {},
     "output_type": "execute_result"
    }
   ],
   "source": [
    "test.get_weights()"
   ]
  },
  {
   "cell_type": "code",
   "execution_count": 44,
   "metadata": {},
   "outputs": [
    {
     "data": {
      "text/plain": [
       "[array([[ 5.62825380e-03,  9.91345104e-03, -1.10392766e-02,\n",
       "          9.54613090e-03,  4.28834930e-02, -5.84538188e-03,\n",
       "          5.27394190e-03,  2.14367732e-02, -1.09464033e-02,\n",
       "          1.99142732e-02, -1.10869920e-02,  9.95585322e-03,\n",
       "          3.48102488e-02, -1.63817797e-02,  3.46202813e-02,\n",
       "          5.19492722e-04],\n",
       "        [-3.36411744e-02, -4.52087522e-02,  1.22640021e-02,\n",
       "          1.69651620e-02,  1.74281485e-02, -1.01978891e-02,\n",
       "         -2.52470374e-02,  4.39139642e-02,  2.92385109e-02,\n",
       "         -1.03427880e-02,  3.15418877e-02,  1.45793445e-02,\n",
       "         -3.49535830e-02,  2.66151503e-03, -3.76952291e-02,\n",
       "          1.00169070e-02],\n",
       "        [-1.13230109e-01, -1.83368567e-02, -1.95923582e-01,\n",
       "          1.08080685e-01,  7.57813826e-02, -5.30283935e-02,\n",
       "          1.81446657e-01,  6.98020458e-02,  1.48174046e-02,\n",
       "         -1.41629711e-01, -5.26574105e-02,  4.28185165e-02,\n",
       "          1.16613664e-01,  7.89154544e-02, -1.12268880e-01,\n",
       "          3.13983522e-02],\n",
       "        [ 1.09950872e-02, -8.41116812e-03, -5.44561781e-02,\n",
       "         -1.57328650e-01, -1.29766744e-02,  8.95484015e-02,\n",
       "         -1.75455570e-01, -1.03761286e-01,  1.25967652e-01,\n",
       "         -2.14947369e-02, -2.38715187e-02, -1.38728889e-02,\n",
       "         -1.85423233e-02, -4.02555242e-02, -1.66876167e-02,\n",
       "          1.11648850e-02],\n",
       "        [ 1.33894458e-01, -5.32729132e-03, -1.00184597e-01,\n",
       "         -9.11771730e-02, -3.74768600e-02, -2.85296794e-02,\n",
       "          2.23066118e-02,  1.83142852e-02, -4.78292406e-02,\n",
       "         -3.65584880e-01, -3.74420881e-02,  1.16537549e-01,\n",
       "          5.81069998e-02,  8.01686123e-02, -1.04774609e-01,\n",
       "          1.35489792e-01],\n",
       "        [-1.85769960e-01, -1.71128243e-01,  9.87883508e-02,\n",
       "          1.29114792e-01, -7.83746541e-02,  1.18405065e-02,\n",
       "          1.11697242e-01,  3.66095193e-02,  7.64930900e-03,\n",
       "         -6.08482845e-02, -5.11322096e-02,  3.99217457e-02,\n",
       "          7.30176717e-02, -2.19139624e-02, -4.25458625e-02,\n",
       "         -5.12242168e-02],\n",
       "        [-3.44685353e-02,  9.92911682e-03, -2.68358849e-02,\n",
       "         -5.78090511e-02,  1.32468894e-01, -7.95346051e-02,\n",
       "          2.57214122e-02, -1.04014024e-01, -1.14392184e-01,\n",
       "          8.49410594e-02,  1.16769999e-01, -3.42637971e-02,\n",
       "         -6.28292421e-03,  3.79464328e-02,  1.33433089e-01,\n",
       "          2.66307648e-02],\n",
       "        [ 2.76352968e-02,  6.34410605e-02, -9.02955532e-02,\n",
       "          6.15124851e-02,  3.36404860e-01, -3.55933160e-02,\n",
       "          1.65094435e-01,  8.18569213e-02, -4.58811298e-02,\n",
       "          2.36105055e-01,  9.16295275e-02, -6.69408143e-02,\n",
       "          1.20550536e-01, -2.76369900e-02,  3.61889869e-01,\n",
       "          6.29122332e-02],\n",
       "        [ 2.83631504e-01,  2.38724891e-02, -1.27112627e-01,\n",
       "         -4.48066555e-02, -2.25468650e-01, -4.05844348e-03,\n",
       "         -5.89508675e-02, -5.14234640e-02,  2.10024655e-01,\n",
       "         -1.86561599e-01, -1.07161015e-01,  1.36447132e-01,\n",
       "         -3.34158503e-02,  1.31147936e-01, -4.33220565e-01,\n",
       "         -1.25633910e-01],\n",
       "        [ 1.02759212e-01,  6.38763070e-01,  3.38897437e-01,\n",
       "          7.97984079e-02,  3.74298364e-01,  1.64076284e-01,\n",
       "          3.59216854e-02, -3.12186331e-01,  2.07675323e-01,\n",
       "         -1.40540034e-01,  7.29530036e-01,  4.03913766e-01,\n",
       "         -1.29043043e-01,  1.66554913e-01,  1.82991400e-01,\n",
       "          3.63294899e-01],\n",
       "        [-1.82243153e-01, -1.11007012e-01,  2.48696227e-02,\n",
       "         -1.95390768e-02, -3.95344831e-02, -4.36941162e-02,\n",
       "          4.62908968e-02, -9.23130363e-02,  1.13310955e-01,\n",
       "         -2.14068755e-03,  8.99844617e-02,  4.03361507e-02,\n",
       "         -2.93520801e-02, -4.65560779e-02, -3.83947827e-02,\n",
       "         -7.33780563e-02],\n",
       "        [-1.51714146e-01, -7.84004014e-03,  1.36934295e-01,\n",
       "          1.67578027e-01,  4.13192034e-01,  1.49837121e-01,\n",
       "          5.97503148e-02, -9.80818346e-02, -4.96415533e-02,\n",
       "          8.49424839e-01, -1.19752571e-01, -1.30654737e-01,\n",
       "          1.00164637e-01,  2.38402903e-01,  3.45614672e-01,\n",
       "         -6.19722940e-02],\n",
       "        [-1.15131512e-01, -1.56231135e-01,  1.82438135e-01,\n",
       "         -2.33580500e-01, -3.43717545e-01,  3.84838437e-03,\n",
       "         -1.39014199e-01, -3.30677301e-01, -7.70780891e-02,\n",
       "         -3.83920848e-01,  2.63103068e-01,  2.86820769e-01,\n",
       "         -1.82437658e-01,  1.02134146e-01, -2.19258726e-01,\n",
       "          8.46486725e-03],\n",
       "        [ 9.99248847e-02,  1.79123059e-01,  5.24695450e-03,\n",
       "          2.39690226e-02, -3.64639126e-02,  2.38036767e-01,\n",
       "         -1.06727749e-01,  3.63431498e-02, -8.83121938e-02,\n",
       "          1.31018236e-01, -4.72694635e-02, -1.68384865e-01,\n",
       "         -2.44131997e-01, -1.80911258e-01,  1.58495292e-01,\n",
       "         -7.34278839e-03],\n",
       "        [ 4.16421056e-01, -2.33502641e-01,  7.13226140e-01,\n",
       "         -7.92022943e-02,  1.02078438e-01, -7.11034238e-02,\n",
       "         -8.00750852e-02,  1.80031091e-01,  8.53946805e-02,\n",
       "         -1.30452737e-01,  8.04741532e-02,  3.24653447e-01,\n",
       "         -4.69209880e-01,  3.70990962e-01,  2.67076399e-02,\n",
       "         -1.78066306e-02],\n",
       "        [-2.67700642e-01, -2.66659856e-01,  2.62311518e-01,\n",
       "          7.16499984e-01,  2.03990430e-01, -4.06823128e-01,\n",
       "          7.23274052e-01,  6.06209263e-02, -6.15447879e-01,\n",
       "          2.17416361e-01,  4.92775626e-02,  3.49520773e-01,\n",
       "          1.14531934e-01,  4.35148150e-01,  2.09148481e-01,\n",
       "         -3.85024130e-01],\n",
       "        [ 7.45031610e-02, -1.18464895e-01, -7.97612667e-02,\n",
       "          1.04695216e-01,  4.75886874e-02, -2.37562120e-01,\n",
       "          1.44039318e-01, -1.84088238e-02, -2.11801097e-01,\n",
       "         -9.93609652e-02,  1.60913244e-01,  1.05706789e-02,\n",
       "          1.11732915e-01,  1.08140953e-01, -1.58050358e-02,\n",
       "         -2.03330159e-01],\n",
       "        [-8.97262022e-02,  6.67689219e-02,  2.78849125e-01,\n",
       "         -4.15202118e-02,  6.74471408e-02, -1.37765989e-01,\n",
       "         -2.30279863e-01, -1.97646737e-01, -7.51224160e-02,\n",
       "          3.68127286e-01,  1.93196937e-01,  4.61138263e-02,\n",
       "          1.36948362e-01,  6.40277658e-03,  3.36062700e-01,\n",
       "         -3.84214483e-02],\n",
       "        [ 5.29275656e-01,  2.39242092e-01, -3.56979102e-01,\n",
       "         -9.69565064e-02,  3.58818531e-01,  1.93443745e-02,\n",
       "          1.32924110e-01,  2.88784504e-01,  2.13971496e-01,\n",
       "          7.60178864e-02, -2.55186021e-01, -3.69179249e-02,\n",
       "          2.78144509e-01, -2.05785362e-03,  1.44315258e-01,\n",
       "          1.13805763e-01],\n",
       "        [ 3.95879626e-01,  8.61377954e-01, -6.39788985e-01,\n",
       "          4.81702268e-01, -5.66803813e-01,  5.06009340e-01,\n",
       "          2.67692268e-01,  1.01637113e+00, -6.48697793e-01,\n",
       "         -6.75355434e-01, -4.59760904e-01, -4.87697780e-01,\n",
       "         -6.20866597e-01, -9.15299237e-01, -7.52671480e-01,\n",
       "          7.72182792e-02],\n",
       "        [ 1.50907233e-01, -8.07046413e-01, -3.97601336e-01,\n",
       "         -6.67959690e-01, -2.92021483e-01, -5.17220795e-01,\n",
       "          4.47155952e-01, -2.78732747e-01,  1.27875740e-02,\n",
       "         -3.47215354e-01,  1.88681707e-01,  5.27341187e-01,\n",
       "         -1.52635556e-02,  8.25371802e-01,  8.05447027e-02,\n",
       "         -1.06666833e-01],\n",
       "        [-6.97241247e-01,  7.38997579e-01,  3.07539493e-01,\n",
       "          2.33156100e-01, -6.32356182e-02, -3.77617061e-01,\n",
       "         -9.14154947e-02, -4.02493805e-01, -3.56295675e-01,\n",
       "         -5.33762462e-02,  5.23012638e-01,  2.22287610e-01,\n",
       "          8.71028900e-01, -1.53203130e-01,  1.17325284e-01,\n",
       "          4.06068981e-01],\n",
       "        [ 5.34786917e-02, -8.84411156e-01,  6.70478046e-01,\n",
       "          1.59874165e+00,  4.00631607e-01, -2.47372985e-01,\n",
       "          3.24764818e-01,  8.57711732e-01, -1.55459106e+00,\n",
       "          6.18117929e-01, -7.78378695e-02, -6.61657333e-01,\n",
       "          1.63343906e-01, -6.27246559e-01,  6.90968990e-01,\n",
       "         -3.08102190e-01]], dtype=float32),\n",
       " array([[-2.16610618e-02, -6.51174830e-03,  6.30495965e-01, ...,\n",
       "         -2.91718426e-03, -9.63451993e-03, -2.10855622e-03],\n",
       "        [ 3.51782106e-02,  3.24145891e-02, -4.42143530e-03, ...,\n",
       "         -4.91839908e-02, -1.25159509e-02,  6.58824295e-03],\n",
       "        [ 1.26754031e-01,  3.72192502e-01, -1.18726894e-01, ...,\n",
       "         -1.01638585e-01, -6.67697638e-02,  2.24631011e-01],\n",
       "        ...,\n",
       "        [-3.30134511e-01, -6.45727098e-01, -1.56663619e-02, ...,\n",
       "          2.83409692e-02, -6.46310210e-01,  7.72512555e-02],\n",
       "        [ 1.01347733e+00,  5.38075268e-01, -7.04931855e-01, ...,\n",
       "         -8.59962702e-01,  5.34153581e-01,  1.78343616e-04],\n",
       "        [ 1.60222538e-02, -4.73194718e-02,  1.32750012e-02, ...,\n",
       "         -2.33657118e-02,  3.35718058e-02,  3.06092761e-02]], dtype=float32),\n",
       " array([[ 0.02953554,  0.04787408,  0.03272371,  0.01941172, -0.04792256,\n",
       "          0.00262854, -0.01428517,  0.04539299,  0.04550654,  0.01151462,\n",
       "         -0.02021471, -0.04800725, -0.02304028,  0.04622892,  0.03758312,\n",
       "          0.02608902],\n",
       "        [-0.00856835,  0.01839859,  0.04199084,  0.03598534, -0.02125569,\n",
       "         -0.03618271,  0.03330788,  0.01159519, -0.04799841, -0.00584338,\n",
       "          0.02574534, -0.03052095,  0.01894767,  0.03586895, -0.00847001,\n",
       "         -0.02132212],\n",
       "        [-0.04913739,  0.12908138,  0.1255511 ,  0.01160085,  0.11061172,\n",
       "         -0.1735624 ,  0.40493536,  0.20979242,  0.05711823,  0.11501799,\n",
       "         -0.39317617, -0.1282868 , -0.18107675, -0.07783386,  0.02819259,\n",
       "          0.21585977],\n",
       "        [ 0.02561455, -0.02311704,  0.01241523,  0.01923527,  0.06476007,\n",
       "          0.02986985, -0.08262745, -0.05937668, -0.02804847, -0.05641211,\n",
       "          0.02949434,  0.06606763, -0.07720698,  0.0584828 ,  0.32359448,\n",
       "          0.13847397],\n",
       "        [ 0.29706743,  0.36510357,  0.39801466,  0.26891273, -0.82750267,\n",
       "         -0.6325832 ,  0.33377823,  0.34212714,  0.2285337 , -0.497863  ,\n",
       "         -0.49318117, -0.2564511 ,  0.10564242, -0.10233022,  0.41002926,\n",
       "          0.22771369],\n",
       "        [-0.21638653, -0.07007859, -0.14607549, -0.05320518,  0.01559239,\n",
       "         -0.01775333,  0.07893698, -0.20370047,  0.25119606,  0.20191029,\n",
       "          0.25687793,  0.2638099 ,  0.10795072, -0.05745337, -0.18098083,\n",
       "         -0.09741703],\n",
       "        [ 0.46579885, -0.27267754, -0.2605641 , -0.16145107,  0.11036307,\n",
       "          0.01181254, -0.00289302, -0.12413482, -0.19882408, -0.20679592,\n",
       "          0.05687027,  0.18086979, -0.13078766, -0.14552271,  0.5240463 ,\n",
       "          0.06063562],\n",
       "        [-0.134692  , -0.14958407, -0.01757486,  0.06799778, -0.02675522,\n",
       "          0.13315976, -0.3825401 , -0.41416124,  0.29806504,  0.11678271,\n",
       "          0.34286457,  0.23816517,  0.14077562, -0.04610544,  0.17813608,\n",
       "         -0.23993534],\n",
       "        [ 0.00904061, -0.1164559 ,  0.5318207 ,  0.46526223, -0.33688334,\n",
       "         -0.2925486 ,  0.22102484, -0.00696025,  0.13512823, -0.11807627,\n",
       "          0.02739624,  0.06705094,  0.17530982, -0.1676158 , -0.68506545,\n",
       "          0.00889847],\n",
       "        [ 0.29587844, -0.0985794 , -0.18343881, -0.02277653, -0.64759314,\n",
       "          0.25907022,  0.08039109,  0.19930176, -0.0303529 ,  0.01234681,\n",
       "          0.09901297, -0.14435604,  0.14282836,  0.14903845, -0.71929383,\n",
       "         -0.1718492 ],\n",
       "        [ 0.27612096, -0.07839636,  0.16675885,  0.13826422, -0.11538823,\n",
       "          0.03211005,  0.23909035, -0.10205059,  0.13474528,  0.11673913,\n",
       "         -0.4236505 ,  0.11519564, -0.21402097,  0.00536202, -0.38307908,\n",
       "          0.19033504],\n",
       "        [ 0.31517294, -0.7512063 , -0.44522724, -0.5101635 ,  0.3335196 ,\n",
       "          0.37071943, -0.32839322, -0.47381505, -0.16159841,  0.15357101,\n",
       "         -1.0001636 ,  0.3248154 ,  0.3848111 , -1.690817  ,  1.9350185 ,\n",
       "         -0.8038306 ],\n",
       "        [ 0.37980056, -0.05843307,  0.23201407,  0.14688541, -0.06241979,\n",
       "         -0.06524476,  0.31283307,  0.30963534, -0.24865575, -0.35054868,\n",
       "         -0.38132304, -0.33584702,  0.17326285, -0.17038186,  0.5311708 ,\n",
       "         -0.11310675],\n",
       "        [-0.49245077,  0.27759716,  0.2217901 ,  0.09513208,  1.5164845 ,\n",
       "          0.4772648 , -1.5438765 , -0.14013183, -0.07553382, -0.50865185,\n",
       "          0.9041829 ,  0.22865021, -0.42309532,  0.6746278 ,  0.9936845 ,\n",
       "          0.50624335],\n",
       "        [ 0.11475746,  0.03391217,  0.13403954,  0.05964441, -0.09748658,\n",
       "          0.00789695,  0.7647242 , -0.5681386 , -0.40670264, -0.49614227,\n",
       "         -0.13361862,  0.60880244, -0.06493046,  0.04879419, -1.0282471 ,\n",
       "          0.27497676],\n",
       "        [-0.41953042, -0.21254338,  0.11739138,  0.02929209,  0.7249767 ,\n",
       "         -0.5597455 ,  1.6251984 , -0.54372156,  0.76374465,  1.0512277 ,\n",
       "          0.30078405,  0.892343  , -1.1084807 , -0.07608764, -0.82722557,\n",
       "          1.5629905 ],\n",
       "        [-1.1756542 ,  0.5812523 , -0.13975734,  0.36001283, -1.7410226 ,\n",
       "         -0.62779593, -0.02948414,  0.8963816 ,  0.5506226 , -0.2930363 ,\n",
       "         -0.654849  , -1.6072117 ,  1.4563211 ,  0.3242821 , -0.54805785,\n",
       "         -0.29166412],\n",
       "        [ 0.95053124,  0.6637248 ,  0.71748585, -0.04093757, -0.09988744,\n",
       "          0.13844924,  0.40373746,  0.24435484, -0.22219917, -0.5030992 ,\n",
       "          0.21140477, -0.17542881, -0.68947786,  0.35243222, -1.1952053 ,\n",
       "          0.6747079 ],\n",
       "        [-0.07277378,  0.31868285,  0.10104883,  0.13986   , -0.74236095,\n",
       "          0.16189331,  0.2342009 ,  0.00637886,  0.42840582,  0.19230646,\n",
       "          0.86031944, -0.25768942, -0.06850639,  0.01885033,  0.56195474,\n",
       "          0.16000925]], dtype=float32),\n",
       " array([[-0.727713  , -0.08940877, -0.473771  , ...,  0.07273351,\n",
       "         -0.05675691,  0.09170602],\n",
       "        [ 0.5749676 ,  0.07603823, -0.06381247, ..., -0.07121439,\n",
       "         -0.36906254,  0.05835241],\n",
       "        [-0.21714798,  0.3367438 , -0.32463843, ..., -0.62297004,\n",
       "         -0.09766991, -0.06622272],\n",
       "        ...,\n",
       "        [-0.07144049,  0.16111316,  0.09458533, ...,  0.07350346,\n",
       "         -0.20532247, -0.10435985],\n",
       "        [ 0.19157203, -0.25087893,  0.01561897, ..., -0.1628438 ,\n",
       "          0.21284592,  0.04949159],\n",
       "        [-0.24301659,  0.12610702, -0.21995023, ..., -0.06135858,\n",
       "         -0.3707351 , -0.05389013]], dtype=float32),\n",
       " array([-0.3502701 ,  0.03412509, -0.3809706 , -0.21801586, -0.06140528,\n",
       "         0.5136853 , -0.31528434, -0.44835752, -0.09694277, -0.5688559 ,\n",
       "        -0.19860546, -0.24338543, -0.5419788 , -0.01337163,  1.49243   ,\n",
       "        -0.5873112 , -0.04992585, -0.11100654, -0.0715799 , -0.08600919,\n",
       "        -0.11139544, -0.06385082, -0.30188566, -0.8651027 , -0.58252734,\n",
       "        -0.33862105, -0.0600192 ,  0.5161139 , -0.14930661, -0.07871649,\n",
       "        -0.15929022, -0.04950817], dtype=float32),\n",
       " array([[-0.36463645,  0.23158051, -0.2186768 , -0.23543333, -0.352564  ,\n",
       "         -0.15425327,  0.39283457, -0.23996258, -0.06811964, -0.01302927,\n",
       "          0.12336019, -0.4774131 , -0.4807662 ,  0.04813984, -0.10502508,\n",
       "         -0.09902889],\n",
       "        [-0.48323673, -0.06626593, -0.18792015,  0.14381503, -0.04056485,\n",
       "         -0.61462116,  0.33737105,  0.0913648 ,  0.03613329, -0.00751142,\n",
       "         -0.18649045,  0.1381172 , -0.3870019 ,  0.18553546, -0.33615172,\n",
       "         -0.15713526],\n",
       "        [-0.3246283 ,  0.00670305,  0.13967195,  0.00783738, -0.29816267,\n",
       "         -0.04410473, -0.05294298,  0.09075421,  0.10418918, -0.07629777,\n",
       "         -0.13367455, -0.48791698, -0.03838667, -0.28941768,  0.02804686,\n",
       "         -0.00944206],\n",
       "        [-0.3897489 ,  0.06411071,  0.33161613, -0.01136086, -0.22490014,\n",
       "         -0.16660944, -0.3042484 , -0.1827145 ,  0.01073251, -0.23190278,\n",
       "         -0.32834435,  0.48693871, -0.01350185, -0.3210199 ,  0.2619914 ,\n",
       "         -0.1629355 ],\n",
       "        [ 0.05321113, -0.08787137,  0.05319916,  0.16823417,  0.26293743,\n",
       "         -0.5344036 ,  0.13510215,  0.03590512, -0.0261104 , -0.382562  ,\n",
       "         -0.39301473, -0.21799432,  0.19924855, -0.32285383, -0.3237709 ,\n",
       "          0.0174831 ],\n",
       "        [-0.02097712,  0.39863172,  0.08585406, -0.80064154, -0.34670687,\n",
       "         -0.05556734, -0.04796094, -0.08569327,  0.08798754, -0.30912265,\n",
       "         -0.0297394 , -0.34780547, -0.11394376,  0.60137993, -0.05579706,\n",
       "         -0.15972352],\n",
       "        [-0.2189048 ,  0.5158859 ,  0.01281196, -0.12005255, -0.23167479,\n",
       "          0.693717  , -0.22872095, -0.10144383,  0.01864564, -0.3342453 ,\n",
       "          0.20624015,  0.12311286,  0.00292323, -0.07763627, -0.22331017,\n",
       "         -0.27028698],\n",
       "        [ 0.05879602,  0.10514282,  0.24885699, -0.16367912, -0.06041494,\n",
       "          0.2382671 , -0.18610679,  0.1204648 ,  0.24521597,  0.30948678,\n",
       "          0.19978306,  0.06402597, -0.30172852, -0.290534  ,  0.20886211,\n",
       "         -0.23317872],\n",
       "        [-0.35220164,  0.14697137, -0.9320024 , -0.08390805, -0.24382403,\n",
       "          0.25279513,  0.06304693, -0.32485786, -0.04774594, -0.2941138 ,\n",
       "          0.20099375,  0.45381522,  0.063958  , -0.42539793,  0.10433434,\n",
       "         -0.5772492 ],\n",
       "        [-0.00684143,  0.35256925, -0.14721125, -0.1963663 , -0.30761677,\n",
       "         -0.30763027,  0.47730342, -0.13884571,  0.05794327, -0.30733484,\n",
       "         -0.34720224,  0.26758507, -0.00584298, -0.24476124, -0.01610916,\n",
       "         -0.2552254 ],\n",
       "        [ 0.3848342 , -0.26732132,  0.18682547,  0.02034456, -0.11297288,\n",
       "         -0.31210142,  0.01770639, -0.31580827,  0.2193032 , -0.3560138 ,\n",
       "         -0.08770509, -0.28569373, -0.36246002,  0.43793297, -0.19058646,\n",
       "          0.05423053],\n",
       "        [-0.1295028 ,  0.14723967,  0.30944064,  0.0593366 ,  0.17544588,\n",
       "         -0.17511214,  0.07602531,  0.2201834 ,  0.22483999, -0.04060549,\n",
       "         -0.00362656,  0.09844842,  0.22055826,  0.15232316,  0.27325362,\n",
       "          0.08119971],\n",
       "        [ 0.18639235, -0.39897224,  0.12975179, -0.25629285,  0.01016996,\n",
       "         -0.17524382, -0.073144  ,  0.10136172,  0.03753211,  0.05829263,\n",
       "         -0.16381888, -0.57228553,  0.27391937,  0.27992597,  0.23152252,\n",
       "         -0.04943413],\n",
       "        [-0.17383872,  0.22674887, -0.37280273, -0.26385748, -0.31533474,\n",
       "         -0.13044232,  0.12283104,  0.02111262,  0.08361755,  0.17937261,\n",
       "         -0.30141297, -0.22647366, -0.21579446,  0.25693688, -0.09028634,\n",
       "         -0.15550561],\n",
       "        [-0.62291354,  0.33814502,  0.04799411, -0.54289037, -0.36337027,\n",
       "         -0.33413947, -0.29884458, -0.2471852 ,  0.27011073, -0.07562333,\n",
       "         -0.02244593,  0.03172472, -0.05428416, -0.11948565, -0.5194777 ,\n",
       "         -0.48356843],\n",
       "        [-0.25331867, -0.32666263, -0.02752651, -0.2144368 ,  0.15022089,\n",
       "         -0.28392217,  0.04113455, -0.01225233,  0.3194277 ,  0.03577019,\n",
       "         -0.03351016,  0.14851685, -0.10601444, -0.10888243, -0.19374777,\n",
       "         -0.06252864],\n",
       "        [ 0.2238762 , -0.2172266 ,  0.08703901, -0.10544695,  0.25211543,\n",
       "         -0.00244366, -0.00836062, -0.33173564, -0.01611761,  0.27937827,\n",
       "         -0.1117213 , -0.46892023, -0.2874463 , -0.16525215,  0.23982961,\n",
       "          0.2805159 ],\n",
       "        [ 0.25321168, -0.20247811,  0.11043316,  0.06604633, -0.18371372,\n",
       "          0.23510294,  0.01695727,  0.10080656,  0.01009345, -0.12880261,\n",
       "         -0.2707162 , -0.3823369 , -0.0715606 ,  0.04713956, -0.09160831,\n",
       "         -0.11628134],\n",
       "        [-0.46305835, -0.24218087,  0.41596046, -0.33359918,  0.07208028,\n",
       "         -0.2452233 , -0.03736654, -0.3160581 ,  0.08722761,  0.23463854,\n",
       "         -0.22772047, -0.36294836, -0.09820001,  0.45315325,  0.02181977,\n",
       "          0.21644805],\n",
       "        [-0.11267211, -0.25078216, -0.5592548 , -0.18969895,  0.00610758,\n",
       "          0.1907621 , -0.01868904,  0.02334048,  0.03034573,  0.09619828,\n",
       "          0.15069956, -0.42197332, -0.39876598, -0.02040397,  0.12787071,\n",
       "          0.1285409 ],\n",
       "        [-0.2023964 , -0.26182666,  0.17951196,  0.28071877, -0.1505896 ,\n",
       "         -0.06641412,  0.5686744 ,  0.17912671,  0.03954687,  0.3398475 ,\n",
       "         -0.09583747,  0.52016705,  0.12479353, -0.11041008,  0.14904872,\n",
       "         -0.29886428],\n",
       "        [-0.00246981,  0.19340208, -0.3014807 , -0.20129825,  0.11698335,\n",
       "          0.0642037 , -0.26752818, -0.12553734,  0.14302172, -0.0888381 ,\n",
       "          0.16189526,  0.78536755, -0.02624597,  0.0115478 , -0.06734324,\n",
       "         -0.17086802],\n",
       "        [ 0.04237127, -0.38218206,  0.2523407 ,  0.20474887, -0.31192192,\n",
       "          0.0271183 ,  0.0859212 ,  0.22898296,  0.16993375, -0.52614725,\n",
       "          0.00731662, -0.22288421, -0.01369679,  0.27276757,  0.18516003,\n",
       "         -0.22555636],\n",
       "        [-0.04251108,  0.05335388, -0.1174545 , -0.17551304,  0.03406466,\n",
       "          0.32638916, -0.15468314, -0.3356275 ,  0.07437426, -0.48123345,\n",
       "          0.3236793 , -0.5266623 ,  0.25661263,  0.18565747,  0.04173389,\n",
       "         -0.21287534],\n",
       "        [-0.17012045,  0.28794298,  0.0521858 ,  0.02870862, -0.2547734 ,\n",
       "         -0.15222843, -0.17039564,  0.2736738 , -0.04817128, -0.29268187,\n",
       "          0.03297949,  0.5513555 , -0.21603471,  0.3485293 , -0.49172646,\n",
       "         -0.02145594],\n",
       "        [-0.1628695 ,  0.26552656,  0.23906544,  0.2383978 ,  0.05955893,\n",
       "          0.29208794,  0.06694175,  0.11651605,  0.2032412 , -0.08254266,\n",
       "         -0.20961161,  0.35180533,  0.34659353, -0.23064187, -0.30753732,\n",
       "          0.3314546 ],\n",
       "        [ 0.30574226,  0.29862714,  0.3190596 ,  0.05579367, -0.05177482,\n",
       "         -0.04647287, -0.105382  ,  0.20549227, -0.03451033,  0.24672332,\n",
       "         -0.13441575, -0.311305  ,  0.24727184, -0.04680863,  0.22953553,\n",
       "          0.17602146],\n",
       "        [-0.10563468,  0.23830937,  0.3920389 , -0.27804655, -0.36877555,\n",
       "         -0.7667667 ,  0.21921554, -0.28641558,  0.10580985, -0.79759276,\n",
       "         -0.39826906,  0.01148164, -0.42628065, -0.07865427, -0.38067803,\n",
       "         -0.22181594],\n",
       "        [ 0.01743893, -0.10732312, -0.02898812,  0.15283461, -0.10469254,\n",
       "         -0.13347213, -0.0132481 ,  0.2650455 ,  0.05798314, -0.3278116 ,\n",
       "          0.13527915,  0.4708133 ,  0.07153903,  0.1021583 ,  0.06708956,\n",
       "         -0.27853858],\n",
       "        [-0.30044788,  0.22557105, -0.36450222,  0.19178785, -0.24071008,\n",
       "          0.12658282,  0.11631066, -0.21930012, -0.23727873, -0.24332581,\n",
       "         -0.28479975, -0.06711498, -0.08981634,  0.19977441,  0.1550765 ,\n",
       "         -0.32320282],\n",
       "        [-0.09429692,  0.41608778,  0.21517643, -0.22117396,  0.15033187,\n",
       "         -0.24065585, -0.24642283,  0.07244033, -0.04263332, -0.01643751,\n",
       "         -0.01585835, -0.5201308 ,  0.14994141, -0.07848021, -0.14461385,\n",
       "          0.24332067],\n",
       "        [-0.2898686 , -0.11849625,  0.10529943, -0.35458398,  0.17328417,\n",
       "         -0.19264175, -0.3192193 , -0.2666492 ,  0.0044693 ,  0.0415817 ,\n",
       "         -0.14476697,  0.1911498 , -0.09911811, -0.22242218,  0.089765  ,\n",
       "          0.04701005]], dtype=float32),\n",
       " array([-0.05498146, -0.04803649, -0.21824765, -0.05512226, -0.04984825,\n",
       "        -0.16078988, -0.09495432, -0.09977932,  0.7130435 , -0.7105529 ,\n",
       "        -0.02841334,  0.5291449 , -0.05025154, -0.35682917, -0.04909376,\n",
       "         0.04481073], dtype=float32)]"
      ]
     },
     "execution_count": 44,
     "metadata": {},
     "output_type": "execute_result"
    }
   ],
   "source": [
    "model2.get_weights()"
   ]
  },
  {
   "cell_type": "code",
   "execution_count": null,
   "metadata": {},
   "outputs": [],
   "source": []
  }
 ],
 "metadata": {
  "kernelspec": {
   "display_name": "AnimeInsight",
   "language": "python",
   "name": "python3"
  },
  "language_info": {
   "codemirror_mode": {
    "name": "ipython",
    "version": 3
   },
   "file_extension": ".py",
   "mimetype": "text/x-python",
   "name": "python",
   "nbconvert_exporter": "python",
   "pygments_lexer": "ipython3",
   "version": "3.10.13"
  }
 },
 "nbformat": 4,
 "nbformat_minor": 2
}
